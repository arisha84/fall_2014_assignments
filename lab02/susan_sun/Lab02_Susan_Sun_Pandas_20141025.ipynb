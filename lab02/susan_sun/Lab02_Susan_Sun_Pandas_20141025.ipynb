{
 "metadata": {
  "name": "",
  "signature": "sha256:9357f9c3d6bf351ac80a729e459b1349c5230f00ed7723c7ba44693457daad54"
 },
 "nbformat": 3,
 "nbformat_minor": 0,
 "worksheets": [
  {
   "cells": [
    {
     "cell_type": "markdown",
     "metadata": {},
     "source": [
      "#Exercise Lab02:  Practical Pandas"
     ]
    },
    {
     "cell_type": "markdown",
     "metadata": {},
     "source": [
      "_This is a quiz given in Roger Peng [Coursera](https://www.coursera.org) class [Computing for Data Analysis](https://www.coursera.org/course/compdata).  _\n",
      "\n",
      "_Sourced from [Research Computing MeetUp's](https://github.com/ResearchComputing/Meetup-Fall-2013) Python course._\n"
     ]
    },
    {
     "cell_type": "code",
     "collapsed": false,
     "input": [
      "import pandas as pd\n",
      "\n",
      "data = pd.read_csv('/home/vagrant/notebooks/fall_2014_lessons/02_intro_to_ML/data/ozone.csv')"
     ],
     "language": "python",
     "metadata": {},
     "outputs": [],
     "prompt_number": 1
    },
    {
     "cell_type": "code",
     "collapsed": false,
     "input": [
      "print data.head()"
     ],
     "language": "python",
     "metadata": {},
     "outputs": [
      {
       "output_type": "stream",
       "stream": "stdout",
       "text": [
        "   Ozone  Solar.R  Wind  Temp  Month  Day\n",
        "0     41      190   7.4    67      5    1\n",
        "1     36      118   8.0    72      5    2\n",
        "2     12      149  12.6    74      5    3\n",
        "3     18      313  11.5    62      5    4\n",
        "4    NaN      NaN  14.3    56      5    5\n"
       ]
      }
     ],
     "prompt_number": 2
    },
    {
     "cell_type": "markdown",
     "metadata": {},
     "source": [
      "Print the column names of the dataset to the screen, one column name per line.  "
     ]
    },
    {
     "cell_type": "code",
     "collapsed": false,
     "input": [
      "for column in data.columns:\n",
      "    print column"
     ],
     "language": "python",
     "metadata": {},
     "outputs": [
      {
       "output_type": "stream",
       "stream": "stdout",
       "text": [
        "Ozone\n",
        "Solar.R\n",
        "Wind\n",
        "Temp\n",
        "Month\n",
        "Day\n"
       ]
      }
     ],
     "prompt_number": 6
    },
    {
     "cell_type": "markdown",
     "metadata": {},
     "source": [
      "Extract the first 2 rows of the data frame and print them to the console. What does the output\n",
      "look like?"
     ]
    },
    {
     "cell_type": "code",
     "collapsed": false,
     "input": [
      "data[:2]"
     ],
     "language": "python",
     "metadata": {},
     "outputs": [
      {
       "html": [
        "<div style=\"max-height:1000px;max-width:1500px;overflow:auto;\">\n",
        "<table border=\"1\" class=\"dataframe\">\n",
        "  <thead>\n",
        "    <tr style=\"text-align: right;\">\n",
        "      <th></th>\n",
        "      <th>Ozone</th>\n",
        "      <th>Solar.R</th>\n",
        "      <th>Wind</th>\n",
        "      <th>Temp</th>\n",
        "      <th>Month</th>\n",
        "      <th>Day</th>\n",
        "    </tr>\n",
        "  </thead>\n",
        "  <tbody>\n",
        "    <tr>\n",
        "      <th>0</th>\n",
        "      <td> 41</td>\n",
        "      <td> 190</td>\n",
        "      <td> 7.4</td>\n",
        "      <td> 67</td>\n",
        "      <td> 5</td>\n",
        "      <td> 1</td>\n",
        "    </tr>\n",
        "    <tr>\n",
        "      <th>1</th>\n",
        "      <td> 36</td>\n",
        "      <td> 118</td>\n",
        "      <td> 8.0</td>\n",
        "      <td> 72</td>\n",
        "      <td> 5</td>\n",
        "      <td> 2</td>\n",
        "    </tr>\n",
        "  </tbody>\n",
        "</table>\n",
        "</div>"
       ],
       "metadata": {},
       "output_type": "pyout",
       "prompt_number": 8,
       "text": [
        "   Ozone  Solar.R  Wind  Temp  Month  Day\n",
        "0     41      190   7.4    67      5    1\n",
        "1     36      118   8.0    72      5    2"
       ]
      }
     ],
     "prompt_number": 8
    },
    {
     "cell_type": "markdown",
     "metadata": {},
     "source": [
      "How many observations (i.e. rows) are in this data frame?"
     ]
    },
    {
     "cell_type": "code",
     "collapsed": false,
     "input": [
      "len(data)-1"
     ],
     "language": "python",
     "metadata": {},
     "outputs": [
      {
       "metadata": {},
       "output_type": "pyout",
       "prompt_number": 18,
       "text": [
        "152"
       ]
      }
     ],
     "prompt_number": 18
    },
    {
     "cell_type": "markdown",
     "metadata": {},
     "source": [
      "Extract the last 2 rows of the data frame and print them to the console. What does the output\n",
      "look like?"
     ]
    },
    {
     "cell_type": "code",
     "collapsed": false,
     "input": [
      "data[len(data)-2:len(data)]"
     ],
     "language": "python",
     "metadata": {},
     "outputs": [
      {
       "html": [
        "<div style=\"max-height:1000px;max-width:1500px;overflow:auto;\">\n",
        "<table border=\"1\" class=\"dataframe\">\n",
        "  <thead>\n",
        "    <tr style=\"text-align: right;\">\n",
        "      <th></th>\n",
        "      <th>Ozone</th>\n",
        "      <th>Solar.R</th>\n",
        "      <th>Wind</th>\n",
        "      <th>Temp</th>\n",
        "      <th>Month</th>\n",
        "      <th>Day</th>\n",
        "    </tr>\n",
        "  </thead>\n",
        "  <tbody>\n",
        "    <tr>\n",
        "      <th>151</th>\n",
        "      <td> 18</td>\n",
        "      <td> 131</td>\n",
        "      <td>  8.0</td>\n",
        "      <td> 76</td>\n",
        "      <td> 9</td>\n",
        "      <td> 29</td>\n",
        "    </tr>\n",
        "    <tr>\n",
        "      <th>152</th>\n",
        "      <td> 20</td>\n",
        "      <td> 223</td>\n",
        "      <td> 11.5</td>\n",
        "      <td> 68</td>\n",
        "      <td> 9</td>\n",
        "      <td> 30</td>\n",
        "    </tr>\n",
        "  </tbody>\n",
        "</table>\n",
        "</div>"
       ],
       "metadata": {},
       "output_type": "pyout",
       "prompt_number": 17,
       "text": [
        "     Ozone  Solar.R  Wind  Temp  Month  Day\n",
        "151     18      131   8.0    76      9   29\n",
        "152     20      223  11.5    68      9   30"
       ]
      }
     ],
     "prompt_number": 17
    },
    {
     "cell_type": "markdown",
     "metadata": {},
     "source": [
      "What is the value of Ozone in the 47th row?"
     ]
    },
    {
     "cell_type": "code",
     "collapsed": false,
     "input": [
      "#zero index, so 47-1\n",
      "data.Ozone[46]"
     ],
     "language": "python",
     "metadata": {},
     "outputs": [
      {
       "metadata": {},
       "output_type": "pyout",
       "prompt_number": 70,
       "text": [
        "21.0"
       ]
      }
     ],
     "prompt_number": 70
    },
    {
     "cell_type": "markdown",
     "metadata": {},
     "source": [
      "How many missing values are in the Ozone column of this data frame?"
     ]
    },
    {
     "cell_type": "code",
     "collapsed": false,
     "input": [
      "# not the most elegant solution....\n",
      "len(data.Ozone[pd.isnull(data.Ozone)==True])"
     ],
     "language": "python",
     "metadata": {},
     "outputs": [
      {
       "metadata": {},
       "output_type": "pyout",
       "prompt_number": 69,
       "text": [
        "37"
       ]
      }
     ],
     "prompt_number": 69
    },
    {
     "cell_type": "markdown",
     "metadata": {},
     "source": [
      "What is the mean of the Ozone column in this dataset? Exclude missing values (coded as NA)\n",
      "from this calculation."
     ]
    },
    {
     "cell_type": "code",
     "collapsed": false,
     "input": [
      "data.dropna().mean()"
     ],
     "language": "python",
     "metadata": {},
     "outputs": [
      {
       "metadata": {},
       "output_type": "pyout",
       "prompt_number": 56,
       "text": [
        "Ozone       42.099099\n",
        "Solar.R    184.801802\n",
        "Wind         9.939640\n",
        "Temp        77.792793\n",
        "Month        7.216216\n",
        "Day         15.945946\n",
        "dtype: float64"
       ]
      }
     ],
     "prompt_number": 56
    },
    {
     "cell_type": "markdown",
     "metadata": {},
     "source": [
      "Extract the subset of rows of the data frame where Ozone values are above 31 and Temp values\n",
      "are above 90. What is the mean of Solar.R in this subset?"
     ]
    },
    {
     "cell_type": "code",
     "collapsed": false,
     "input": [
      "data[(data.Ozone > 31) & (data.Temp > 90)]\n",
      "data[(data.Ozone > 31) & (data.Temp > 90)]['Solar.R'].mean()"
     ],
     "language": "python",
     "metadata": {},
     "outputs": [
      {
       "metadata": {},
       "output_type": "pyout",
       "prompt_number": 73,
       "text": [
        "212.80000000000001"
       ]
      }
     ],
     "prompt_number": 73
    },
    {
     "cell_type": "markdown",
     "metadata": {},
     "source": [
      "What is the mean of \"Temp\" when \"Month\" is equal to 6?"
     ]
    },
    {
     "cell_type": "code",
     "collapsed": false,
     "input": [
      "data[data.Month == 6].Temp.mean()"
     ],
     "language": "python",
     "metadata": {},
     "outputs": [
      {
       "metadata": {},
       "output_type": "pyout",
       "prompt_number": 75,
       "text": [
        "79.099999999999994"
       ]
      }
     ],
     "prompt_number": 75
    },
    {
     "cell_type": "markdown",
     "metadata": {},
     "source": [
      "What was the maximum ozone value in the month of May (i.e. Month = 5)?"
     ]
    },
    {
     "cell_type": "code",
     "collapsed": false,
     "input": [
      "data[data.Month == 5].Ozone.max()"
     ],
     "language": "python",
     "metadata": {},
     "outputs": [
      {
       "metadata": {},
       "output_type": "pyout",
       "prompt_number": 76,
       "text": [
        "115.0"
       ]
      }
     ],
     "prompt_number": 76
    },
    {
     "cell_type": "code",
     "collapsed": false,
     "input": [],
     "language": "python",
     "metadata": {},
     "outputs": []
    },
    {
     "cell_type": "markdown",
     "metadata": {},
     "source": [
      "#Exercise: Functions with Pandas"
     ]
    },
    {
     "cell_type": "markdown",
     "metadata": {},
     "source": [
      "Kaggle has a nice challenge based on titanic passenger data:\n",
      "\n",
      "\"One of the reasons that the shipwreck led to such loss of life was that there were not enough lifeboats for the passengers and crew.  Although there was some element of luck involved in surviving the sinking, some groups of people were more likely to survive than others, such as women, children, and the upper-class.\"\n",
      "\n",
      "We'll use the 892 line training set from [Kaggle](http://www.kaggle.com/c/titanic-gettingStarted/data), located in the data directory of this lesson.\n",
      "    \n",
      "    "
     ]
    },
    {
     "cell_type": "code",
     "collapsed": false,
     "input": [
      "import os\n",
      "import pandas as pd\n"
     ],
     "language": "python",
     "metadata": {},
     "outputs": [],
     "prompt_number": 77
    },
    {
     "cell_type": "code",
     "collapsed": false,
     "input": [
      "a=pd.read_csv('/home/vagrant/notebooks/fall_2014_assignments/lab02/susan_sun/titanic.csv')"
     ],
     "language": "python",
     "metadata": {},
     "outputs": [],
     "prompt_number": 83
    },
    {
     "cell_type": "code",
     "collapsed": false,
     "input": [
      "a.head()"
     ],
     "language": "python",
     "metadata": {},
     "outputs": [
      {
       "html": [
        "<div style=\"max-height:1000px;max-width:1500px;overflow:auto;\">\n",
        "<table border=\"1\" class=\"dataframe\">\n",
        "  <thead>\n",
        "    <tr style=\"text-align: right;\">\n",
        "      <th></th>\n",
        "      <th>survived</th>\n",
        "      <th>pclass</th>\n",
        "      <th>name</th>\n",
        "      <th>sex</th>\n",
        "      <th>age</th>\n",
        "      <th>sibsp</th>\n",
        "      <th>parch</th>\n",
        "      <th>ticket</th>\n",
        "      <th>fare</th>\n",
        "      <th>cabin</th>\n",
        "      <th>embarked</th>\n",
        "    </tr>\n",
        "  </thead>\n",
        "  <tbody>\n",
        "    <tr>\n",
        "      <th>0</th>\n",
        "      <td> 0</td>\n",
        "      <td> 3</td>\n",
        "      <td>                           Braund, Mr. Owen Harris</td>\n",
        "      <td>   male</td>\n",
        "      <td> 22</td>\n",
        "      <td> 1</td>\n",
        "      <td> 0</td>\n",
        "      <td>        A/5 21171</td>\n",
        "      <td>  7.2500</td>\n",
        "      <td>  NaN</td>\n",
        "      <td> S</td>\n",
        "    </tr>\n",
        "    <tr>\n",
        "      <th>1</th>\n",
        "      <td> 1</td>\n",
        "      <td> 1</td>\n",
        "      <td> Cumings, Mrs. John Bradley (Florence Briggs Th...</td>\n",
        "      <td> female</td>\n",
        "      <td> 38</td>\n",
        "      <td> 1</td>\n",
        "      <td> 0</td>\n",
        "      <td>         PC 17599</td>\n",
        "      <td> 71.2833</td>\n",
        "      <td>  C85</td>\n",
        "      <td> C</td>\n",
        "    </tr>\n",
        "    <tr>\n",
        "      <th>2</th>\n",
        "      <td> 1</td>\n",
        "      <td> 3</td>\n",
        "      <td>                            Heikkinen, Miss. Laina</td>\n",
        "      <td> female</td>\n",
        "      <td> 26</td>\n",
        "      <td> 0</td>\n",
        "      <td> 0</td>\n",
        "      <td> STON/O2. 3101282</td>\n",
        "      <td>  7.9250</td>\n",
        "      <td>  NaN</td>\n",
        "      <td> S</td>\n",
        "    </tr>\n",
        "    <tr>\n",
        "      <th>3</th>\n",
        "      <td> 1</td>\n",
        "      <td> 1</td>\n",
        "      <td>      Futrelle, Mrs. Jacques Heath (Lily May Peel)</td>\n",
        "      <td> female</td>\n",
        "      <td> 35</td>\n",
        "      <td> 1</td>\n",
        "      <td> 0</td>\n",
        "      <td>           113803</td>\n",
        "      <td> 53.1000</td>\n",
        "      <td> C123</td>\n",
        "      <td> S</td>\n",
        "    </tr>\n",
        "    <tr>\n",
        "      <th>4</th>\n",
        "      <td> 0</td>\n",
        "      <td> 3</td>\n",
        "      <td>                          Allen, Mr. William Henry</td>\n",
        "      <td>   male</td>\n",
        "      <td> 35</td>\n",
        "      <td> 0</td>\n",
        "      <td> 0</td>\n",
        "      <td>           373450</td>\n",
        "      <td>  8.0500</td>\n",
        "      <td>  NaN</td>\n",
        "      <td> S</td>\n",
        "    </tr>\n",
        "  </tbody>\n",
        "</table>\n",
        "</div>"
       ],
       "metadata": {},
       "output_type": "pyout",
       "prompt_number": 103,
       "text": [
        "   survived  pclass                                               name  \\\n",
        "0         0       3                            Braund, Mr. Owen Harris   \n",
        "1         1       1  Cumings, Mrs. John Bradley (Florence Briggs Th...   \n",
        "2         1       3                             Heikkinen, Miss. Laina   \n",
        "3         1       1       Futrelle, Mrs. Jacques Heath (Lily May Peel)   \n",
        "4         0       3                           Allen, Mr. William Henry   \n",
        "\n",
        "      sex  age  sibsp  parch            ticket     fare cabin embarked  \n",
        "0    male   22      1      0         A/5 21171   7.2500   NaN        S  \n",
        "1  female   38      1      0          PC 17599  71.2833   C85        C  \n",
        "2  female   26      0      0  STON/O2. 3101282   7.9250   NaN        S  \n",
        "3  female   35      1      0            113803  53.1000  C123        S  \n",
        "4    male   35      0      0            373450   8.0500   NaN        S  "
       ]
      }
     ],
     "prompt_number": 103
    },
    {
     "cell_type": "markdown",
     "metadata": {},
     "source": [
      "### Read the data\n",
      "\n",
      "- Read with `pandas.read_csv`\n",
      "- Verify that you get `891` lines"
     ]
    },
    {
     "cell_type": "code",
     "collapsed": false,
     "input": [
      "len(a)"
     ],
     "language": "python",
     "metadata": {},
     "outputs": [
      {
       "metadata": {},
       "output_type": "pyout",
       "prompt_number": 84,
       "text": [
        "891"
       ]
      }
     ],
     "prompt_number": 84
    },
    {
     "cell_type": "markdown",
     "metadata": {},
     "source": [
      "### What percent of the people survied?\n",
      "\n",
      "- Yes, they survived: `d.survived == 1`"
     ]
    },
    {
     "cell_type": "code",
     "collapsed": false,
     "input": [
      "print sum(a.survived == 1) * 100 / len(a), '%'"
     ],
     "language": "python",
     "metadata": {},
     "outputs": [
      {
       "output_type": "stream",
       "stream": "stdout",
       "text": [
        "38 %\n"
       ]
      }
     ],
     "prompt_number": 100
    },
    {
     "cell_type": "markdown",
     "metadata": {},
     "source": [
      "### Function\n",
      "\n",
      "Write a function that returns a dictionary of the number of `survived`, `not survived`, and `unknown`.  Here is the example function call:\n",
      "```python\n",
      "print titanic_function(data)\n",
      "\n",
      "{'survived': 342, 'not survived': 549}\n",
      "\n",
      "```\n"
     ]
    },
    {
     "cell_type": "code",
     "collapsed": false,
     "input": [
      "def survival(data):\n",
      "    survival = {}\n",
      "    survival['survived'] = sum(data.survived == 1)\n",
      "    survival['not survived'] = sum(data.survived == 0)\n",
      "    survival['unknown'] = len(data) - sum(data.survived == 1) - sum(data.survived == 0)\n",
      "    return survival\n",
      "\n",
      "print survival(a)\n",
      "    "
     ],
     "language": "python",
     "metadata": {},
     "outputs": [
      {
       "output_type": "stream",
       "stream": "stdout",
       "text": [
        "{'unknown': 0, 'survived': 342, 'not survived': 549}\n"
       ]
      }
     ],
     "prompt_number": 102
    },
    {
     "cell_type": "markdown",
     "metadata": {},
     "source": [
      "###What percent of males survived? Females?"
     ]
    },
    {
     "cell_type": "code",
     "collapsed": false,
     "input": [
      "print len(a[(a.survived == 1) & (a.sex == 'male')]) * 100 / len(a), '% of the males survived'\n",
      "print len(a[(a.survived == 1) & (a.sex == 'female')]) * 100 / len(a), '% of the females survived'"
     ],
     "language": "python",
     "metadata": {},
     "outputs": [
      {
       "output_type": "stream",
       "stream": "stdout",
       "text": [
        "12 % of the males survived\n",
        "26 % of the females survived\n"
       ]
      }
     ],
     "prompt_number": 118
    },
    {
     "cell_type": "markdown",
     "metadata": {},
     "source": [
      "# Next Steps\n",
      "\n",
      "**Recommended Resources**\n",
      "\n",
      "Name | Description\n",
      "--- | ---\n",
      "[Official Pandas Tutorials](http://pandas.pydata.org/pandas-docs/stable/tutorials.html) | Wes & Company's selection of tutorials and lectures\n",
      "[Julia Evans Pandas Cookbook](https://github.com/jvns/pandas-cookbook) | Great resource with eamples from weather, bikes and 311 calls\n",
      "[Learn Pandas Tutorials](https://bitbucket.org/hrojas/learn-pandas) | A great series of Pandas tutorials from Dave Rojas\n",
      "[Research Computing Python Data PYNBs](https://github.com/ResearchComputing/Meetup-Fall-2013/tree/master/python) | A super awesome set of python notebooks from a meetup-based course exclusively devoted to pandas"
     ]
    }
   ],
   "metadata": {}
  }
 ]
}