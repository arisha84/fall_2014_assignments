{
 "metadata": {
  "name": "",
  "signature": "sha256:4a8cbbc7dda36fe95e2b2b9003abb8983e2a9573e14108de2d49a9540b0f2c40"
 },
 "nbformat": 3,
 "nbformat_minor": 0,
 "worksheets": [
  {
   "cells": [
    {
     "cell_type": "code",
     "collapsed": false,
     "input": [
      "data = pd.read_csv('/vagrant/829/filtered_output_for_campaign_829.csv')\n",
      "df = data.fillna(0)  ## replace null values with zeros\n",
      "df = df.rename(columns={'PIA': 'Visited Brand'})\n",
      "df = df.drop(['DATE','USER ID', 'CAMPAIGN ID','Retargeting', 'Clicker'], axis=1) \n",
      "df = df.ix[:,(df != 0).any(axis=0)] ## remove all columns with all zeros\n",
      "df = df.ix[(df != 0).any(axis=1),:] ## remove all rows with all zeros\n",
      "X = df.drop(['Visited Brand'], axis=1)\n",
      "Y = df['Visited Brand']"
     ],
     "language": "python",
     "metadata": {},
     "outputs": [],
     "prompt_number": 2
    },
    {
     "cell_type": "code",
     "collapsed": false,
     "input": [],
     "language": "python",
     "metadata": {},
     "outputs": []
    },
    {
     "cell_type": "heading",
     "level": 1,
     "metadata": {},
     "source": [
      "Dimension Reduction"
     ]
    },
    {
     "cell_type": "code",
     "collapsed": false,
     "input": [
      "from sklearn.decomposition import PCA\n",
      "from sklearn.decomposition import SparsePCA\n",
      "sk_pca = PCA(n_components=200)\n",
      "sk_transf = sk_pca.fit_transform(X)\n",
      "explained_variance = [sk_pca.explained_variance_ratio_[0:i].sum() for i in range(200)]\n",
      "plot(range(200),explained_variance)"
     ],
     "language": "python",
     "metadata": {},
     "outputs": [
      {
       "metadata": {},
       "output_type": "pyout",
       "prompt_number": 3,
       "text": [
        "[<matplotlib.lines.Line2D at 0x7fc3a98eb350>]"
       ]
      },
      {
       "metadata": {},
       "output_type": "display_data",
       "png": "[encoded data removed]",
       "text": [
        "<matplotlib.figure.Figure at 0x7fc3c1073c10>"
       ]
      }
     ],
     "prompt_number": 3
    },
    {
     "cell_type": "code",
     "collapsed": false,
     "input": [],
     "language": "python",
     "metadata": {},
     "outputs": []
    },
    {
     "cell_type": "code",
     "collapsed": false,
     "input": [],
     "language": "python",
     "metadata": {},
     "outputs": []
    },
    {
     "cell_type": "code",
     "collapsed": false,
     "input": [],
     "language": "python",
     "metadata": {},
     "outputs": []
    },
    {
     "cell_type": "code",
     "collapsed": false,
     "input": [],
     "language": "python",
     "metadata": {},
     "outputs": []
    },
    {
     "cell_type": "heading",
     "level": 1,
     "metadata": {},
     "source": [
      "More Optimization"
     ]
    },
    {
     "cell_type": "code",
     "collapsed": false,
     "input": [
      "testMetaDataFrame()"
     ],
     "language": "python",
     "metadata": {},
     "outputs": []
    },
    {
     "cell_type": "code",
     "collapsed": false,
     "input": [
      "def testMetaDataFrame(times=4):\n",
      "    rocSocreTotal = 0\n",
      "    for i in range(times):\n",
      "        roc_score = testMetaDataFrameImpl()\n",
      "        print \"current roc score: \", roc_score\n",
      "        rocSocreTotal += roc_score\n",
      "        \n",
      "    print \"avg score = \", rocSocreTotal / times\n",
      "\n",
      "def testMetaDataFrameImpl():\n",
      "    (X_train, X_test,\n",
      "    Y_train, Y_test) = cv.train_test_split(X, Y,\n",
      "                       test_size=.2)\n",
      "    best_model = LogisticRegression(C=0.01, class_weight=None, dual=False, fit_intercept=True,\n",
      "    intercept_scaling=1, penalty='l2', random_state=None, tol=0.0001)\n",
      "    best_model.fit(X_train, Y_train)\n",
      "    Y_train_predicted_prob = best_model.predict_proba(X_train)\n",
      "    Y_test_predicted_prob = np.array(best_model.predict_proba(X_test))\n",
      "    x_train_meta = pd.DataFrame(Y_train_predicted_prob, columns=['0_predicted_prob','1_predicted_prob'] )\n",
      "    x_train_meta['num_of_categories_for_user'] = X_train.sum(axis=1)\n",
      "    X_test_meta = pd.DataFrame(Y_test_predicted_prob, columns=['0_predicted_prob','1_predicted_prob'] )\n",
      "    X_test_meta['num_of_categories_for_user'] = X_test.sum(axis=1)\n",
      "    best_model.fit(x_train_meta, Y_train)\n",
      "    prob_array = np.array(best_model.predict_proba(X_test_meta))\n",
      "    y_hat = prob_array[:,1]\n",
      "    return roc_auc_score(Y_test, y_hat)   "
     ],
     "language": "python",
     "metadata": {},
     "outputs": []
    },
    {
     "cell_type": "code",
     "collapsed": false,
     "input": [],
     "language": "python",
     "metadata": {},
     "outputs": []
    },
    {
     "cell_type": "code",
     "collapsed": false,
     "input": [],
     "language": "python",
     "metadata": {},
     "outputs": []
    },
    {
     "cell_type": "code",
     "collapsed": false,
     "input": [],
     "language": "python",
     "metadata": {},
     "outputs": []
    },
    {
     "cell_type": "code",
     "collapsed": false,
     "input": [],
     "language": "python",
     "metadata": {},
     "outputs": []
    },
    {
     "cell_type": "code",
     "collapsed": false,
     "input": [],
     "language": "python",
     "metadata": {},
     "outputs": []
    },
    {
     "cell_type": "code",
     "collapsed": false,
     "input": [
      "import numpy as np\n",
      "import pandas as pd\n",
      "import sklearn\n",
      "import sklearn.linear_model as lm\n",
      "import sklearn.cross_validation as cv\n",
      "import sklearn.grid_search as gs\n",
      "import matplotlib.pyplot as plt\n",
      "import pandas as pd\n",
      "from sklearn import metrics\n",
      "from sklearn.cross_validation import train_test_split, Bootstrap\n",
      "from sklearn.datasets import make_blobs\n",
      "from sklearn.ensemble import RandomForestClassifier\n",
      "from sklearn.ensemble import ExtraTreesClassifier\n",
      "from sklearn.dummy import DummyClassifier\n",
      "from sklearn.linear_model import LogisticRegression\n",
      "from sklearn.linear_model import RandomizedLogisticRegression\n",
      "from sklearn.naive_bayes import GaussianNB, MultinomialNB, BernoulliNB\n",
      "from sklearn.neighbors import KNeighborsClassifier\n",
      "from sklearn.ensemble import RandomForestClassifier\n",
      "from sklearn.tree import DecisionTreeClassifier\n",
      "from sklearn.metrics import roc_auc_score\n",
      "from IPython.display import Image\n",
      "from sklearn.decomposition import PCA\n",
      "import sklearn.grid_search as gs\n",
      "from sklearn.metrics import recall_score\n",
      "conf_matrix_image = Image(url='https://computersciencesource.files.wordpress.com/2010/01/conmat.png')\n",
      "%matplotlib inline"
     ],
     "language": "python",
     "metadata": {},
     "outputs": [],
     "prompt_number": 1
    },
    {
     "cell_type": "code",
     "collapsed": false,
     "input": [],
     "language": "python",
     "metadata": {},
     "outputs": []
    }
   ],
   "metadata": {}
  }
 ]
}