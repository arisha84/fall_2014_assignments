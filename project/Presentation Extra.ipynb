{
 "metadata": {
  "name": "",
  "signature": "sha256:66716c41fb07f8d6f3c06153e7cc39c69ef4bf19e6fc91bfb2942b6bd2910977"
 },
 "nbformat": 3,
 "nbformat_minor": 0,
 "worksheets": [
  {
   "cells": [
    {
     "cell_type": "code",
     "collapsed": false,
     "input": [
      "data = pd.read_csv('/vagrant/829/filtered_output_for_campaign_829.csv')\n",
      "df = data.fillna(0)  ## replace null values with zeros\n",
      "df = df.rename(columns={'PIA': 'Visited Brand'})\n",
      "df = df.drop(['DATE','USER ID', 'CAMPAIGN ID','Retargeting', 'Clicker'], axis=1) \n",
      "df = df.ix[:,(df != 0).any(axis=0)] ## remove all columns with all zeros\n",
      "df = df.ix[(df != 0).any(axis=1),:] ## remove all rows with all zeros\n",
      "X = df.drop(['Visited Brand'], axis=1)\n",
      "Y = df['Visited Brand']"
     ],
     "language": "python",
     "metadata": {},
     "outputs": [],
     "prompt_number": 4
    },
    {
     "cell_type": "heading",
     "level": 1,
     "metadata": {},
     "source": [
      "Dimension Reduction"
     ]
    },
    {
     "cell_type": "code",
     "collapsed": false,
     "input": [
      "from sklearn.decomposition import PCA\n",
      "from sklearn.decomposition import SparsePCA\n",
      "sk_pca = PCA(n_components=200)\n",
      "sk_transf = sk_pca.fit_transform(X)\n",
      "explained_variance = [sk_pca.explained_variance_ratio_[0:i].sum() for i in range(200)]\n",
      "plot(range(200),explained_variance)"
     ],
     "language": "python",
     "metadata": {},
     "outputs": [
      {
       "metadata": {},
       "output_type": "pyout",
       "prompt_number": 6,
       "text": [
        "[<matplotlib.lines.Line2D at 0x7ff947554210>]"
       ]
      },
      {
       "metadata": {},
       "output_type": "display_data",
       "png": "[encoded data removed]",
       "text": [
        "<matplotlib.figure.Figure at 0x7ff95e91a350>"
       ]
      }
     ],
     "prompt_number": 6
    },
    {
     "cell_type": "code",
     "collapsed": false,
     "input": [
      "classifiers = {'Logistic': LogisticRegression(C=0.022311111111111111)}                              \n",
      "modelTester = ModelTester(sk_transf,Y,classifiers)\n",
      "modelTester.test_classifiers(3)"
     ],
     "language": "python",
     "metadata": {},
     "outputs": [
      {
       "output_type": "stream",
       "stream": "stdout",
       "text": [
        "testing model:  Logistic\n"
       ]
      },
      {
       "metadata": {},
       "output_type": "display_data",
       "png": "[encoded data removed]",
       "text": [
        "<matplotlib.figure.Figure at 0x7ff95e91ea50>"
       ]
      },
      {
       "output_type": "stream",
       "stream": "stdout",
       "text": [
        "Logistic had an average roc_auc score of 0.713\n"
       ]
      }
     ],
     "prompt_number": 7
    },
    {
     "cell_type": "code",
     "collapsed": false,
     "input": [],
     "language": "python",
     "metadata": {},
     "outputs": []
    },
    {
     "cell_type": "code",
     "collapsed": false,
     "input": [],
     "language": "python",
     "metadata": {},
     "outputs": []
    },
    {
     "cell_type": "code",
     "collapsed": false,
     "input": [],
     "language": "python",
     "metadata": {},
     "outputs": []
    },
    {
     "cell_type": "heading",
     "level": 1,
     "metadata": {},
     "source": [
      "More Optimization"
     ]
    },
    {
     "cell_type": "code",
     "collapsed": false,
     "input": [
      "testMetaDataFrame()"
     ],
     "language": "python",
     "metadata": {},
     "outputs": [
      {
       "output_type": "stream",
       "stream": "stdout",
       "text": [
        "current roc score:  0.701237351994\n",
        "current roc score: "
       ]
      },
      {
       "output_type": "stream",
       "stream": "stdout",
       "text": [
        " 0.707372807904\n",
        "current roc score: "
       ]
      },
      {
       "output_type": "stream",
       "stream": "stdout",
       "text": [
        " 0.712504324191\n",
        "current roc score: "
       ]
      },
      {
       "output_type": "stream",
       "stream": "stdout",
       "text": [
        " 0.710071484113\n",
        "avg score =  0.70779649205\n"
       ]
      }
     ],
     "prompt_number": 10
    },
    {
     "cell_type": "code",
     "collapsed": false,
     "input": [
      "def testMetaDataFrame(times=4):\n",
      "    rocSocreTotal = 0\n",
      "    for i in range(times):\n",
      "        roc_score = testMetaDataFrameImpl()\n",
      "        print \"current roc score: \", roc_score\n",
      "        rocSocreTotal += roc_score\n",
      "        \n",
      "    print \"avg score = \", rocSocreTotal / times\n",
      "\n",
      "def testMetaDataFrameImpl():\n",
      "    (X_train, X_test,\n",
      "    Y_train, Y_test) = cv.train_test_split(X, Y,\n",
      "                       test_size=.2)\n",
      "    best_model = LogisticRegression(C=0.01, class_weight=None, dual=False, fit_intercept=True,\n",
      "    intercept_scaling=1, penalty='l2', random_state=None, tol=0.0001)\n",
      "    best_model.fit(X_train, Y_train)\n",
      "    Y_train_predicted_prob = best_model.predict_proba(X_train)\n",
      "    Y_test_predicted_prob = np.array(best_model.predict_proba(X_test))\n",
      "    x_train_meta = pd.DataFrame(Y_train_predicted_prob, columns=['0_predicted_prob','1_predicted_prob'] )\n",
      "    x_train_meta['num_of_categories_for_user'] = X_train.sum(axis=1)\n",
      "    X_test_meta = pd.DataFrame(Y_test_predicted_prob, columns=['0_predicted_prob','1_predicted_prob'] )\n",
      "    X_test_meta['num_of_categories_for_user'] = X_test.sum(axis=1)\n",
      "    best_model.fit(x_train_meta, Y_train)\n",
      "    prob_array = np.array(best_model.predict_proba(X_test_meta))\n",
      "    y_hat = prob_array[:,1]\n",
      "    return roc_auc_score(Y_test, y_hat)   "
     ],
     "language": "python",
     "metadata": {},
     "outputs": [],
     "prompt_number": 9
    },
    {
     "cell_type": "code",
     "collapsed": false,
     "input": [],
     "language": "python",
     "metadata": {},
     "outputs": []
    },
    {
     "cell_type": "code",
     "collapsed": false,
     "input": [],
     "language": "python",
     "metadata": {},
     "outputs": []
    },
    {
     "cell_type": "code",
     "collapsed": false,
     "input": [],
     "language": "python",
     "metadata": {},
     "outputs": []
    },
    {
     "cell_type": "code",
     "collapsed": false,
     "input": [],
     "language": "python",
     "metadata": {},
     "outputs": []
    },
    {
     "cell_type": "code",
     "collapsed": false,
     "input": [],
     "language": "python",
     "metadata": {},
     "outputs": []
    },
    {
     "cell_type": "code",
     "collapsed": false,
     "input": [
      "import numpy as np\n",
      "import pandas as pd\n",
      "import sklearn\n",
      "import sklearn.linear_model as lm\n",
      "import sklearn.cross_validation as cv\n",
      "import sklearn.grid_search as gs\n",
      "import matplotlib.pyplot as plt\n",
      "import pandas as pd\n",
      "from sklearn import metrics\n",
      "from sklearn.cross_validation import train_test_split, Bootstrap\n",
      "from sklearn.datasets import make_blobs\n",
      "from sklearn.ensemble import RandomForestClassifier\n",
      "from sklearn.ensemble import ExtraTreesClassifier\n",
      "from sklearn.dummy import DummyClassifier\n",
      "from sklearn.linear_model import LogisticRegression\n",
      "from sklearn.linear_model import RandomizedLogisticRegression\n",
      "from sklearn.naive_bayes import GaussianNB, MultinomialNB, BernoulliNB\n",
      "from sklearn.neighbors import KNeighborsClassifier\n",
      "from sklearn.ensemble import RandomForestClassifier\n",
      "from sklearn.tree import DecisionTreeClassifier\n",
      "from sklearn.metrics import roc_auc_score\n",
      "from IPython.display import Image\n",
      "from sklearn.decomposition import PCA\n",
      "import sklearn.grid_search as gs\n",
      "from sklearn.metrics import recall_score\n",
      "conf_matrix_image = Image(url='https://computersciencesource.files.wordpress.com/2010/01/conmat.png')\n",
      "%matplotlib inline"
     ],
     "language": "python",
     "metadata": {},
     "outputs": [],
     "prompt_number": 1
    },
    {
     "cell_type": "code",
     "collapsed": false,
     "input": [
      "class ModelTester:\n",
      "    def __init__(self, X, Y,classifiers):\n",
      "        self.X_matrix = X\n",
      "        self.Y_vector = Y        \n",
      "        self.classifiers = classifiers\n",
      "        self.printConfusionMatrix = False\n",
      "        self.verbose = False\n",
      "        \n",
      "        \n",
      "    def runClassifier(self, X,Y, clf, times): \n",
      "        sum_scores = 0.0\n",
      "        sum_scores_roc_auc = 0.0\n",
      "        conf_matrix = None\n",
      "        conf_matrix = np.array([[0,0], [0,0]])\n",
      "        printCurve = True\n",
      "\n",
      "        for i in range(times):\n",
      "             (X_train, X_test,\n",
      "             y_train, y_test) = cv.train_test_split(X, Y,\n",
      "                                                test_size=.2)\n",
      "             clf.fit(X_train,y_train)\n",
      "\n",
      "             prob_array = np.array(clf.predict_proba(X_test))\n",
      "             y_hat = prob_array[:,1]\n",
      "             y_pred = clf.predict(X_test)\n",
      "             roc_score = roc_auc_score(y_test, y_hat)  \n",
      "             if self.verbose:   \n",
      "                 print \"current roc score: \", roc_score  \n",
      "             if printCurve:                        \n",
      "                 display_roc_curve(y_test,prob_array)\n",
      "                 printCurve = False       \n",
      "             sum_scores_roc_auc += roc_score      \n",
      "             sum_scores += recall_score(y_test, y_pred)\n",
      "             if (self.printConfusionMatrix):                 \n",
      "                conf_matrix += metrics.confusion_matrix(y_test, y_pred)       \n",
      "\n",
      "             #print \"%s had an accuracy score of %0.2f\"% (name, score)            \n",
      "        return sum_scores / times, sum_scores_roc_auc / times, conf_matrix / times\n",
      "\n",
      "    def test_classifiers(self, times):\n",
      "        for name, clf in self.classifiers.items():\n",
      "            print \"testing model: \", name\n",
      "            score, score_roc_auc, conf_matrix = self.runClassifier(self.X_matrix,self.Y_vector,clf, times)   \n",
      "            #print \"%s had an average recall score of %0.3f, and roc_auc score of %0.2f\"% (name, score, score_roc_auc)\n",
      "            print \"%s had an average roc_auc score of %0.3f\"% (name, score_roc_auc)\n",
      "            if (self.printConfusionMatrix):\n",
      "                print \"confusion matrix: \"\n",
      "                print conf_matrix"
     ],
     "language": "python",
     "metadata": {},
     "outputs": [],
     "prompt_number": 2
    },
    {
     "cell_type": "code",
     "collapsed": false,
     "input": [
      "from sklearn.metrics import roc_curve, auc\n",
      "def display_roc_curve(ytest, y_prob):\n",
      "    false_pos_rate, true_pos_rate, thresholds = roc_curve(ytest, y_prob[:, 1])\n",
      "    roc_auc = auc(false_pos_rate, true_pos_rate)\n",
      "    # Plot ROC curve\n",
      "    # setup figure\n",
      "    plt.figure(figsize=(5, 4))\n",
      "    plt.clf()\n",
      "    plt.plot(false_pos_rate, true_pos_rate, label='ROC curve (area = %0.2f)' % roc_auc)\n",
      "    plt.plot([0, 1], [0, 1], 'k--')\n",
      "    plt.xlim([0.0, 1.0])\n",
      "    plt.ylim([0.0, 1.0])\n",
      "    plt.xlabel('False Positive Rate')\n",
      "    plt.ylabel('True Positive Rate')\n",
      "    plt.title('Receiver operating characteristic example')\n",
      "    plt.legend(loc=\"lower right\")\n",
      "    plt.show()"
     ],
     "language": "python",
     "metadata": {},
     "outputs": [],
     "prompt_number": 3
    },
    {
     "cell_type": "code",
     "collapsed": false,
     "input": [],
     "language": "python",
     "metadata": {},
     "outputs": []
    }
   ],
   "metadata": {}
  }
 ]
}