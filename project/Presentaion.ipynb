{
 "metadata": {
  "name": "",
  "signature": "sha256:2945a723ea14352008ecff14a70fc506e464a1340336f150ee179f5dc879d570"
 },
 "nbformat": 3,
 "nbformat_minor": 0,
 "worksheets": [
  {
   "cells": [
    {
     "cell_type": "heading",
     "level": 1,
     "metadata": {},
     "source": [
      "Overview"
     ]
    },
    {
     "cell_type": "markdown",
     "metadata": {},
     "source": [
      "The Goal of my project is optimizing video ads targeting based on historical user data. \n",
      "I am using a user categories data set from a recent Land Rover campaign, trying to build a predictive model that will predict,\n",
      "based on a user categories, the likelihood of visiting Land Rover Web Site\n",
      "\n",
      "\n",
      "\n"
     ]
    },
    {
     "cell_type": "heading",
     "level": 1,
     "metadata": {},
     "source": [
      "The Data Set "
     ]
    },
    {
     "cell_type": "heading",
     "level": 2,
     "metadata": {},
     "source": [
      "Load & Cleanup Data:\u00b6"
     ]
    },
    {
     "cell_type": "markdown",
     "metadata": {},
     "source": [
      "- Each row represents one user. \n",
      "- The columns (or features) are the user categories - this is our \u201cX\u201d variable. <br>\n",
      "- The target (our \"Y\" variable) is the \"Visited Brand\" column, which is a true (\"1\") if the user either visited the \n",
      "  website in the past, or clicked on an ad - my assumnption is that this means the user is \"Intrested In the Brand\"\n",
      "\n",
      "\n"
     ]
    },
    {
     "cell_type": "code",
     "collapsed": false,
     "input": [
      "data = pd.read_csv('/vagrant/829/filtered_output_for_campaign_829.csv')\n",
      "df = data.fillna(0)  ## replace null values with zeros\n",
      "df = df.rename(columns={'PIA': 'Visited Brand'})\n",
      "df = df.drop(['DATE','USER ID', 'CAMPAIGN ID','Retargeting', 'Clicker'], axis=1) \n",
      "df = df.ix[:,(df != 0).any(axis=0)] ## remove all columns with all zeros\n",
      "df = df.ix[(df != 0).any(axis=1),:] ## remove all rows with all zeros\n",
      "X = df.drop(['Visited Brand'], axis=1)\n",
      "Y = df['Visited Brand']"
     ],
     "language": "python",
     "metadata": {},
     "outputs": [],
     "prompt_number": 223
    },
    {
     "cell_type": "heading",
     "level": 5,
     "metadata": {},
     "source": [
      "Our data set contains 37645 rows and 1168 columns:"
     ]
    },
    {
     "cell_type": "code",
     "collapsed": false,
     "input": [
      "df.head()"
     ],
     "language": "python",
     "metadata": {},
     "outputs": [
      {
       "html": [
        "<div style=\"max-height:1000px;max-width:1500px;overflow:auto;\">\n",
        "<table border=\"1\" class=\"dataframe\">\n",
        "  <thead>\n",
        "    <tr style=\"text-align: right;\">\n",
        "      <th></th>\n",
        "      <th>Exelate 10 - General Interest - Auto Enthusiasts</th>\n",
        "      <th>Exelate 1006 - General Interest - Green Living</th>\n",
        "      <th>Exelate 1007 - Politics - Political Junkies</th>\n",
        "      <th>Exelate 10082 - Finance and Insurance - Mortgages - Mortgage Hyper-Intent</th>\n",
        "      <th>Exelate 1017 - Shopping - Mobile - Carrier: AT&amp;T</th>\n",
        "      <th>Exelate 10179 - Travel - Departure - Europe</th>\n",
        "      <th>Exelate 1018 - Shopping - Mobile - Carrier: T-Mobile</th>\n",
        "      <th>Exelate 10180 - Travel - Departure - North America</th>\n",
        "      <th>Exelate 1019 - Shopping - Mobile - Carrier: Sprint</th>\n",
        "      <th>Exelate 1020 - Shopping - Mobile - Carrier: Verizon</th>\n",
        "      <th>...</th>\n",
        "      <th>Exelate 9315 - Auto - Buyers - Make:RAM - 1500</th>\n",
        "      <th>Exelate 9321 - Auto - Buyers - Make:Tesla - Model S</th>\n",
        "      <th>Exelate 9638 - Finance and Insurance - Auto Intenders</th>\n",
        "      <th>Exelate 9969 - Finance and Insurance - Banking - Checking and Savings</th>\n",
        "      <th>Exelate 9970 - Finance and Insurance - Credit Cards - Small Business</th>\n",
        "      <th>Exelate 9989 - CPG - Dish and Dishwasher Detergent</th>\n",
        "      <th>Exelate 3211 - Services - Personal Services and Care - Children Daycare</th>\n",
        "      <th>Exelate 5106 - Entertainment - Music - Jazz/Blues</th>\n",
        "      <th>Completer</th>\n",
        "      <th>Visited Brand</th>\n",
        "    </tr>\n",
        "  </thead>\n",
        "  <tbody>\n",
        "    <tr>\n",
        "      <th>0</th>\n",
        "      <td> 0</td>\n",
        "      <td> 0</td>\n",
        "      <td> 0</td>\n",
        "      <td> 0</td>\n",
        "      <td> 0</td>\n",
        "      <td> 0</td>\n",
        "      <td> 0</td>\n",
        "      <td> 0</td>\n",
        "      <td> 0</td>\n",
        "      <td> 0</td>\n",
        "      <td>...</td>\n",
        "      <td> 0</td>\n",
        "      <td> 0</td>\n",
        "      <td> 0</td>\n",
        "      <td> 0</td>\n",
        "      <td> 0</td>\n",
        "      <td> 0</td>\n",
        "      <td> 0</td>\n",
        "      <td> 0</td>\n",
        "      <td> 1</td>\n",
        "      <td> 0</td>\n",
        "    </tr>\n",
        "    <tr>\n",
        "      <th>1</th>\n",
        "      <td> 1</td>\n",
        "      <td> 0</td>\n",
        "      <td> 0</td>\n",
        "      <td> 0</td>\n",
        "      <td> 0</td>\n",
        "      <td> 0</td>\n",
        "      <td> 0</td>\n",
        "      <td> 0</td>\n",
        "      <td> 0</td>\n",
        "      <td> 0</td>\n",
        "      <td>...</td>\n",
        "      <td> 0</td>\n",
        "      <td> 0</td>\n",
        "      <td> 0</td>\n",
        "      <td> 1</td>\n",
        "      <td> 1</td>\n",
        "      <td> 0</td>\n",
        "      <td> 0</td>\n",
        "      <td> 0</td>\n",
        "      <td> 0</td>\n",
        "      <td> 0</td>\n",
        "    </tr>\n",
        "    <tr>\n",
        "      <th>2</th>\n",
        "      <td> 1</td>\n",
        "      <td> 1</td>\n",
        "      <td> 1</td>\n",
        "      <td> 0</td>\n",
        "      <td> 0</td>\n",
        "      <td> 0</td>\n",
        "      <td> 0</td>\n",
        "      <td> 0</td>\n",
        "      <td> 0</td>\n",
        "      <td> 0</td>\n",
        "      <td>...</td>\n",
        "      <td> 0</td>\n",
        "      <td> 0</td>\n",
        "      <td> 0</td>\n",
        "      <td> 1</td>\n",
        "      <td> 1</td>\n",
        "      <td> 0</td>\n",
        "      <td> 0</td>\n",
        "      <td> 0</td>\n",
        "      <td> 1</td>\n",
        "      <td> 1</td>\n",
        "    </tr>\n",
        "    <tr>\n",
        "      <th>3</th>\n",
        "      <td> 1</td>\n",
        "      <td> 1</td>\n",
        "      <td> 1</td>\n",
        "      <td> 0</td>\n",
        "      <td> 0</td>\n",
        "      <td> 0</td>\n",
        "      <td> 0</td>\n",
        "      <td> 0</td>\n",
        "      <td> 0</td>\n",
        "      <td> 0</td>\n",
        "      <td>...</td>\n",
        "      <td> 0</td>\n",
        "      <td> 0</td>\n",
        "      <td> 1</td>\n",
        "      <td> 1</td>\n",
        "      <td> 1</td>\n",
        "      <td> 1</td>\n",
        "      <td> 0</td>\n",
        "      <td> 0</td>\n",
        "      <td> 1</td>\n",
        "      <td> 0</td>\n",
        "    </tr>\n",
        "    <tr>\n",
        "      <th>4</th>\n",
        "      <td> 1</td>\n",
        "      <td> 0</td>\n",
        "      <td> 0</td>\n",
        "      <td> 0</td>\n",
        "      <td> 0</td>\n",
        "      <td> 0</td>\n",
        "      <td> 0</td>\n",
        "      <td> 0</td>\n",
        "      <td> 0</td>\n",
        "      <td> 0</td>\n",
        "      <td>...</td>\n",
        "      <td> 0</td>\n",
        "      <td> 0</td>\n",
        "      <td> 1</td>\n",
        "      <td> 1</td>\n",
        "      <td> 1</td>\n",
        "      <td> 0</td>\n",
        "      <td> 0</td>\n",
        "      <td> 0</td>\n",
        "      <td> 1</td>\n",
        "      <td> 1</td>\n",
        "    </tr>\n",
        "  </tbody>\n",
        "</table>\n",
        "<p>5 rows \u00d7 1168 columns</p>\n",
        "</div>"
       ],
       "metadata": {},
       "output_type": "pyout",
       "prompt_number": 6,
       "text": [
        "   Exelate 10 - General Interest - Auto Enthusiasts  \\\n",
        "0                                                 0   \n",
        "1                                                 1   \n",
        "2                                                 1   \n",
        "3                                                 1   \n",
        "4                                                 1   \n",
        "\n",
        "   Exelate 1006 - General Interest - Green Living  \\\n",
        "0                                               0   \n",
        "1                                               0   \n",
        "2                                               1   \n",
        "3                                               1   \n",
        "4                                               0   \n",
        "\n",
        "   Exelate 1007 - Politics - Political Junkies  \\\n",
        "0                                            0   \n",
        "1                                            0   \n",
        "2                                            1   \n",
        "3                                            1   \n",
        "4                                            0   \n",
        "\n",
        "   Exelate 10082 - Finance and Insurance - Mortgages - Mortgage Hyper-Intent  \\\n",
        "0                                                  0                           \n",
        "1                                                  0                           \n",
        "2                                                  0                           \n",
        "3                                                  0                           \n",
        "4                                                  0                           \n",
        "\n",
        "   Exelate 1017 - Shopping - Mobile - Carrier: AT&T  \\\n",
        "0                                                 0   \n",
        "1                                                 0   \n",
        "2                                                 0   \n",
        "3                                                 0   \n",
        "4                                                 0   \n",
        "\n",
        "   Exelate 10179 - Travel - Departure - Europe  \\\n",
        "0                                            0   \n",
        "1                                            0   \n",
        "2                                            0   \n",
        "3                                            0   \n",
        "4                                            0   \n",
        "\n",
        "   Exelate 1018 - Shopping - Mobile - Carrier: T-Mobile  \\\n",
        "0                                                  0      \n",
        "1                                                  0      \n",
        "2                                                  0      \n",
        "3                                                  0      \n",
        "4                                                  0      \n",
        "\n",
        "   Exelate 10180 - Travel - Departure - North America  \\\n",
        "0                                                  0    \n",
        "1                                                  0    \n",
        "2                                                  0    \n",
        "3                                                  0    \n",
        "4                                                  0    \n",
        "\n",
        "   Exelate 1019 - Shopping - Mobile - Carrier: Sprint  \\\n",
        "0                                                  0    \n",
        "1                                                  0    \n",
        "2                                                  0    \n",
        "3                                                  0    \n",
        "4                                                  0    \n",
        "\n",
        "   Exelate 1020 - Shopping - Mobile - Carrier: Verizon  \\\n",
        "0                                                  0     \n",
        "1                                                  0     \n",
        "2                                                  0     \n",
        "3                                                  0     \n",
        "4                                                  0     \n",
        "\n",
        "                          ...                           \\\n",
        "0                         ...                            \n",
        "1                         ...                            \n",
        "2                         ...                            \n",
        "3                         ...                            \n",
        "4                         ...                            \n",
        "\n",
        "   Exelate 9315 - Auto - Buyers - Make:RAM - 1500  \\\n",
        "0                                               0   \n",
        "1                                               0   \n",
        "2                                               0   \n",
        "3                                               0   \n",
        "4                                               0   \n",
        "\n",
        "   Exelate 9321 - Auto - Buyers - Make:Tesla - Model S  \\\n",
        "0                                                  0     \n",
        "1                                                  0     \n",
        "2                                                  0     \n",
        "3                                                  0     \n",
        "4                                                  0     \n",
        "\n",
        "   Exelate 9638 - Finance and Insurance - Auto Intenders  \\\n",
        "0                                                  0       \n",
        "1                                                  0       \n",
        "2                                                  0       \n",
        "3                                                  1       \n",
        "4                                                  1       \n",
        "\n",
        "   Exelate 9969 - Finance and Insurance - Banking - Checking and Savings  \\\n",
        "0                                                  0                       \n",
        "1                                                  1                       \n",
        "2                                                  1                       \n",
        "3                                                  1                       \n",
        "4                                                  1                       \n",
        "\n",
        "   Exelate 9970 - Finance and Insurance - Credit Cards - Small Business  \\\n",
        "0                                                  0                      \n",
        "1                                                  1                      \n",
        "2                                                  1                      \n",
        "3                                                  1                      \n",
        "4                                                  1                      \n",
        "\n",
        "   Exelate 9989 - CPG - Dish and Dishwasher Detergent  \\\n",
        "0                                                  0    \n",
        "1                                                  0    \n",
        "2                                                  0    \n",
        "3                                                  1    \n",
        "4                                                  0    \n",
        "\n",
        "   Exelate 3211 - Services - Personal Services and Care - Children Daycare  \\\n",
        "0                                                  0                         \n",
        "1                                                  0                         \n",
        "2                                                  0                         \n",
        "3                                                  0                         \n",
        "4                                                  0                         \n",
        "\n",
        "   Exelate 5106 - Entertainment - Music - Jazz/Blues  Completer  Visited Brand  \n",
        "0                                                  0          1              0  \n",
        "1                                                  0          0              0  \n",
        "2                                                  0          1              1  \n",
        "3                                                  0          1              0  \n",
        "4                                                  0          1              1  \n",
        "\n",
        "[5 rows x 1168 columns]"
       ]
      }
     ],
     "prompt_number": 6
    },
    {
     "cell_type": "heading",
     "level": 1,
     "metadata": {},
     "source": [
      "Visualize"
     ]
    },
    {
     "cell_type": "markdown",
     "metadata": {},
     "source": [
      "Lets do some simple visualization of our data, just to get a \"feel\".\n"
     ]
    },
    {
     "cell_type": "code",
     "collapsed": false,
     "input": [
      "spy(df.ix[:2000,:])"
     ],
     "language": "python",
     "metadata": {},
     "outputs": [
      {
       "metadata": {},
       "output_type": "pyout",
       "prompt_number": 14,
       "text": [
        "<matplotlib.image.AxesImage at 0x7f947c61f210>"
       ]
      },
      {
       "metadata": {},
       "output_type": "display_data",
       "png": "[encoded data removed]",
       "text": [
        "<matplotlib.figure.Figure at 0x7f947deb2990>"
       ]
      }
     ],
     "prompt_number": 14
    },
    {
     "cell_type": "code",
     "collapsed": false,
     "input": [
      "sum_df_row = df.sum(axis=1) ## sum of each row\n",
      "plt.hist(sum_df_row,20)\n",
      "plt.xlabel('Number of features per user bucket')\n",
      "plt.ylabel('Users Count in bucket')"
     ],
     "language": "python",
     "metadata": {},
     "outputs": [
      {
       "metadata": {},
       "output_type": "pyout",
       "prompt_number": 21,
       "text": [
        "<matplotlib.text.Text at 0x7f947dd75510>"
       ]
      },
      {
       "metadata": {},
       "output_type": "display_data",
       "png": "[encoded data removed]",
       "text": [
        "<matplotlib.figure.Figure at 0x7f947df92a90>"
       ]
      }
     ],
     "prompt_number": 21
    },
    {
     "cell_type": "markdown",
     "metadata": {},
     "source": [
      "The above histogram shows the ditrubution of Number of features and user count. as expected, most users have a low number of\n",
      "features, between 0-25"
     ]
    },
    {
     "cell_type": "heading",
     "level": 5,
     "metadata": {},
     "source": [
      "Lets see which categories are the most common in our data set: "
     ]
    },
    {
     "cell_type": "code",
     "collapsed": false,
     "input": [
      "sum_df_col = df.sum(axis=0) ## sum of each column\n",
      "sum_df_col.sort(ascending=False)\n",
      "sum_df_col.head(10)"
     ],
     "language": "python",
     "metadata": {},
     "outputs": [
      {
       "metadata": {},
       "output_type": "pyout",
       "prompt_number": 43,
       "text": [
        "Completer                                                    26877\n",
        "Exelate 25 - Entertainment                                   25182\n",
        "Exelate 2 - Finance                                          20855\n",
        "Exelate 40 - Shopping                                        19625\n",
        "Exelate 3365 - General Interest - News and Current Events    17504\n",
        "Exelate 1141 - Services - Finance and Insurance - Banking    17403\n",
        "Exelate 9160 - Finance and Insurance                         17245\n",
        "Exelate 6229 - Auto Owners                                   17227\n",
        "Exelate 1438 - CPG                                           16730\n",
        "Exelate 32 - Hobbies                                         16719\n",
        "dtype: float64"
       ]
      }
     ],
     "prompt_number": 43
    },
    {
     "cell_type": "heading",
     "level": 1,
     "metadata": {},
     "source": [
      "Model Selection Process"
     ]
    },
    {
     "cell_type": "heading",
     "level": 3,
     "metadata": {},
     "source": [
      "We'll start with one model to understand the basic workflow "
     ]
    },
    {
     "cell_type": "code",
     "collapsed": false,
     "input": [
      "model = LogisticRegression()"
     ],
     "language": "python",
     "metadata": {},
     "outputs": [],
     "prompt_number": 252
    },
    {
     "cell_type": "code",
     "collapsed": false,
     "input": [
      "(X_train, X_test,\n",
      " Y_train, Y_test) = cv.train_test_split(X, Y,\n",
      "                                            test_size=.2)"
     ],
     "language": "python",
     "metadata": {},
     "outputs": [],
     "prompt_number": 253
    },
    {
     "cell_type": "code",
     "collapsed": false,
     "input": [
      "model.fit(X_train,Y_train) "
     ],
     "language": "python",
     "metadata": {},
     "outputs": [
      {
       "metadata": {},
       "output_type": "pyout",
       "prompt_number": 254,
       "text": [
        "LogisticRegression(C=1.0, class_weight=None, dual=False, fit_intercept=True,\n",
        "          intercept_scaling=1, penalty='l2', random_state=None, tol=0.0001)"
       ]
      }
     ],
     "prompt_number": 254
    },
    {
     "cell_type": "code",
     "collapsed": false,
     "input": [
      "Y_test_predicted_prob = model.predict_proba(X_test)\n",
      "Y_test_predicted_prob[1]"
     ],
     "language": "python",
     "metadata": {},
     "outputs": [
      {
       "metadata": {},
       "output_type": "pyout",
       "prompt_number": 265,
       "text": [
        "array([ 0.82807159,  0.17192841])"
       ]
      }
     ],
     "prompt_number": 265
    },
    {
     "cell_type": "code",
     "collapsed": false,
     "input": [
      "Y_test[1]"
     ],
     "language": "python",
     "metadata": {},
     "outputs": [
      {
       "metadata": {},
       "output_type": "pyout",
       "prompt_number": 260,
       "text": [
        "0.0"
       ]
      }
     ],
     "prompt_number": 260
    },
    {
     "cell_type": "code",
     "collapsed": false,
     "input": [
      "printPredictionPlot(Y_test_predicted_prob, Y_test)"
     ],
     "language": "python",
     "metadata": {},
     "outputs": [
      {
       "output_type": "stream",
       "stream": "stdout",
       "text": [
        "   0 predicted prob  1 predicted prob  actual value\n",
        "0             0.852             0.148         0.000\n",
        "1             0.828             0.172         0.000\n",
        "2             0.698             0.302         0.000\n",
        "3             0.742             0.258         0.000\n",
        "4             0.861             0.139         0.000\n",
        "5             0.402             0.598         1.000\n",
        "6             0.789             0.211         1.000\n",
        "7             0.875             0.125         0.000\n",
        "8             0.618             0.382         0.000\n",
        "9             0.893             0.107         1.000\n",
        "(array([   23.,   497.,  1944.,  1118.,   775.,   633.,   513.,   374.,\n",
        "         344.,   264.,   232.,   210.,   174.,   132.,    97.,    78.,\n",
        "          57.,    38.,    15.,    11.]), array([ 0.02744305,  0.07506658,  0.12269011,  0.17031364,  0.21793717,\n",
        "        0.2655607 ,  0.31318423,  0.36080776,  0.40843129,  0.45605482,\n",
        "        0.50367835,  0.55130188,  0.59892541,  0.64654894,  0.69417247,\n",
        "        0.741796  ,  0.78941953,  0.83704306,  0.88466659,  0.93229012,\n",
        "        0.97991365]), <a list of 20 Patch objects>)"
       ]
      },
      {
       "output_type": "stream",
       "stream": "stdout",
       "text": [
        "\n"
       ]
      },
      {
       "metadata": {},
       "output_type": "display_data",
       "png": "[encoded data removed]",
       "text": [
        "<matplotlib.figure.Figure at 0x7f99793d3910>"
       ]
      }
     ],
     "prompt_number": 280
    },
    {
     "cell_type": "heading",
     "level": 3,
     "metadata": {},
     "source": [
      "Scoring Method - Roc_Auc"
     ]
    },
    {
     "cell_type": "heading",
     "level": 4,
     "metadata": {},
     "source": [
      "Roc_auc is the best scoring method for our problem as it takes into accout all the different possible thresholds.<br> In addition, roc_auc works for highly unbalanced classes. <br> Choosing the actual threshold is more of a business decision - do I want to maximize TP Rate or minimize FP rate"
     ]
    },
    {
     "cell_type": "code",
     "collapsed": false,
     "input": [
      "prob_array = np.array(Y_test_predicted_prob)\n",
      "y_predicted_prob = prob_array[:,1]\n",
      "score_roc_auc = roc_auc_score(Y_test, y_predicted_prob)   \n",
      "score_roc_auc"
     ],
     "language": "python",
     "metadata": {},
     "outputs": [
      {
       "metadata": {},
       "output_type": "pyout",
       "prompt_number": 286,
       "text": [
        "0.70149013433555951"
       ]
      }
     ],
     "prompt_number": 286
    },
    {
     "cell_type": "code",
     "collapsed": false,
     "input": [
      "display_roc_curve(Y_test, Y_test_predicted_prob)"
     ],
     "language": "python",
     "metadata": {},
     "outputs": [
      {
       "metadata": {},
       "output_type": "display_data",
       "png": "[encoded data removed]",
       "text": [
        "<matplotlib.figure.Figure at 0x7f9964329cd0>"
       ]
      }
     ],
     "prompt_number": 287
    },
    {
     "cell_type": "heading",
     "level": 3,
     "metadata": {},
     "source": [
      "Lets try different models"
     ]
    },
    {
     "cell_type": "code",
     "collapsed": false,
     "input": [
      "classifiers = {'Logistic': LogisticRegression(),\n",
      "               'BernoulliNB': BernoulliNB(),                      \n",
      "               #'KNeighbors': KNeighborsClassifier(),\n",
      "               'RandomForest': RandomForestClassifier(),  \n",
      "               'extra_trees_clf': ExtraTreesClassifier(n_estimators=10, max_depth=None, min_samples_split=1, random_state=0)\n",
      "               }\n",
      "\n",
      "modelTester = ModelTester(X,Y,classifiers)\n",
      "modelTester.test_classifiers(3)"
     ],
     "language": "python",
     "metadata": {},
     "outputs": [
      {
       "output_type": "stream",
       "stream": "stdout",
       "text": [
        "testing model:  RandomForest\n",
        "RandomForest had an average roc_auc score of 0.652"
       ]
      },
      {
       "output_type": "stream",
       "stream": "stdout",
       "text": [
        "\n",
        "testing model:  BernoulliNB\n",
        "BernoulliNB had an average roc_auc score of 0.630"
       ]
      },
      {
       "output_type": "stream",
       "stream": "stdout",
       "text": [
        "\n",
        "testing model:  Logistic\n",
        "Logistic had an average roc_auc score of 0.700"
       ]
      },
      {
       "output_type": "stream",
       "stream": "stdout",
       "text": [
        "\n",
        "testing model:  extra_trees_clf\n",
        "extra_trees_clf had an average roc_auc score of 0.655"
       ]
      },
      {
       "output_type": "stream",
       "stream": "stdout",
       "text": [
        "\n"
       ]
      }
     ],
     "prompt_number": 231
    },
    {
     "cell_type": "heading",
     "level": 3,
     "metadata": {},
     "source": [
      "Improve model with grid search "
     ]
    },
    {
     "cell_type": "code",
     "collapsed": false,
     "input": [
      "modelOptimizer= ModelOptimizer(X, Y)\n",
      "#modelOptimizer.add_model(\"BernoulliNB\",BernoulliNB(),param_grid={'alpha':np.linspace(0.01, .2, 10)} )\n",
      "modelOptimizer.add_model(\"Logistic\",LogisticRegression(),param_grid={'C':np.linspace(0.0001, 0.2, 20)} )\n",
      "modelOptimizer.test_models()"
     ],
     "language": "python",
     "metadata": {},
     "outputs": [
      {
       "output_type": "stream",
       "stream": "stdout",
       "text": [
        "Logistic: \n",
        "------------------------\n",
        "score: 0.70656159442\n",
        "best estomator:  LogisticRegression(C=0.010621052631578948, class_weight=None, dual=False,\n",
        "          fit_intercept=True, intercept_scaling=1, penalty='l2',\n",
        "          random_state=None, tol=0.0001)\n",
        "best params:  {'C': 0.010621052631578948}\n",
        "\n"
       ]
      }
     ],
     "prompt_number": 232
    },
    {
     "cell_type": "code",
     "collapsed": false,
     "input": [
      "modelOptimizer= ModelOptimizer(X, Y)\n",
      "modelOptimizer.add_model(\"RandomForest\",RandomForestClassifier(),param_grid={'max_depth':range(5,8,1),'n_estimators':range(80,121,20) } )\n",
      "modelOptimizer.test_models()"
     ],
     "language": "python",
     "metadata": {},
     "outputs": [
      {
       "output_type": "stream",
       "stream": "stdout",
       "text": [
        "RandomForest: \n",
        "------------------------\n",
        "score: 0.701003587093\n",
        "best estomator:  RandomForestClassifier(bootstrap=True, compute_importances=None,\n",
        "            criterion='gini', max_depth=7, max_features='auto',\n",
        "            max_leaf_nodes=None, min_density=None, min_samples_leaf=1,\n",
        "            min_samples_split=2, n_estimators=90, n_jobs=1,\n",
        "            oob_score=False, random_state=None, verbose=0)\n",
        "best params:  {'n_estimators': 90, 'max_depth': 7}\n",
        "\n"
       ]
      }
     ],
     "prompt_number": 240
    },
    {
     "cell_type": "code",
     "collapsed": false,
     "input": [
      "range(80,121,20)"
     ],
     "language": "python",
     "metadata": {},
     "outputs": [
      {
       "metadata": {},
       "output_type": "pyout",
       "prompt_number": 243,
       "text": [
        "[80, 100, 120]"
       ]
      }
     ],
     "prompt_number": 243
    },
    {
     "cell_type": "heading",
     "level": 3,
     "metadata": {},
     "source": [
      "Optimize"
     ]
    },
    {
     "cell_type": "heading",
     "level": 3,
     "metadata": {},
     "source": [
      "first try: remove features with less than 10 users"
     ]
    },
    {
     "cell_type": "code",
     "collapsed": false,
     "input": [
      "df_filtered = df.ix[:,df.sum(axis=0) > 10]\n",
      "X_filtered = df_filtered.drop(['Visited Brand'], axis=1)\n",
      "Y_filtered = df_filtered['Visited Brand']"
     ],
     "language": "python",
     "metadata": {},
     "outputs": [],
     "prompt_number": 244
    },
    {
     "cell_type": "code",
     "collapsed": false,
     "input": [
      "testDataFrame(df_filtered)"
     ],
     "language": "python",
     "metadata": {},
     "outputs": [
      {
       "output_type": "stream",
       "stream": "stdout",
       "text": [
        "(37645, 811)\n"
       ]
      },
      {
       "output_type": "stream",
       "stream": "stdout",
       "text": [
        "BernoulliNB: \n",
        "------------------------\n",
        "score: 0.62370416378\n",
        "best estomator:  BernoulliNB(alpha=0.03111111111111111, binarize=0.0, class_prior=None,\n",
        "      fit_prior=True)\n",
        "best params:  {'alpha': 0.03111111111111111}\n",
        "\n",
        "Logistic: \n",
        "------------------------\n",
        "score: 0.702768092924\n",
        "best estomator:  LogisticRegression(C=0.10000000000000001, class_weight=None, dual=False,\n",
        "          fit_intercept=True, intercept_scaling=1, penalty='l2',\n",
        "          random_state=None, tol=0.0001)\n",
        "best params:  {'C': 0.10000000000000001}\n",
        "\n",
        "RandomForest: \n",
        "------------------------\n",
        "score: 0.697006533111\n",
        "best estomator:  RandomForestClassifier(bootstrap=True, compute_importances=None,\n",
        "            criterion='gini', max_depth=6, max_features='auto',\n",
        "            max_leaf_nodes=None, min_density=None, min_samples_leaf=1,\n",
        "            min_samples_split=2, n_estimators=10, n_jobs=1,\n",
        "            oob_score=False, random_state=None, verbose=0)\n",
        "best params:  {'max_depth': 6}\n",
        "\n"
       ]
      }
     ],
     "prompt_number": 221
    },
    {
     "cell_type": "code",
     "collapsed": false,
     "input": [
      "modelTesterRF = ModelTester(X,Y,{\"RandomForest\" : RandomForestClassifier(n_estimators=100, max_depth=7)})\n",
      "modelTesterRF.test_classifiers(2)"
     ],
     "language": "python",
     "metadata": {},
     "outputs": [
      {
       "output_type": "stream",
       "stream": "stdout",
       "text": [
        "testing model:  RandomForest\n",
        "current roc score: "
       ]
      },
      {
       "output_type": "stream",
       "stream": "stdout",
       "text": [
        " 0.70707831661\n",
        "current roc score: "
       ]
      },
      {
       "output_type": "stream",
       "stream": "stdout",
       "text": [
        " 0.705597146689\n",
        "RandomForest had an average roc_auc score of 0.706\n"
       ]
      }
     ],
     "prompt_number": 245
    },
    {
     "cell_type": "code",
     "collapsed": false,
     "input": [],
     "language": "python",
     "metadata": {},
     "outputs": []
    },
    {
     "cell_type": "heading",
     "level": 1,
     "metadata": {},
     "source": [
      "Utils"
     ]
    },
    {
     "cell_type": "code",
     "collapsed": false,
     "input": [
      "def testDataFrame(df):   \n",
      "    X = df.drop(['Visited Brand'], axis=1)\n",
      "    Y = df['Visited Brand']\n",
      "    modelOptimizer= ModelOptimizer(X, Y)\n",
      "    modelOptimizer.add_model(\"BernoulliNB\",BernoulliNB(),param_grid={'alpha':np.linspace(0.01, .2, 10)} )\n",
      "    modelOptimizer.add_model(\"Logistic\",LogisticRegression(),param_grid={'C':np.linspace(0.1, 0.4, 14)} )\n",
      "    modelOptimizer.add_model(\"RandomForest\",RandomForestClassifier(),param_grid={'max_depth':range(4,8,1)} )\n",
      "    modelOptimizer.test_models()"
     ],
     "language": "python",
     "metadata": {},
     "outputs": [],
     "prompt_number": 134
    },
    {
     "cell_type": "code",
     "collapsed": false,
     "input": [
      "class ModelTester:\n",
      "    def __init__(self, X, Y,classifiers):\n",
      "        self.X_matrix = X\n",
      "        self.Y_vector = Y        \n",
      "        self.classifiers = classifiers\n",
      "        self.printConfusionMatrix = False\n",
      "        self.verbose = True\n",
      "        \n",
      "    def runClassifier(self, X,Y, clf, times): \n",
      "        sum_scores = 0.0\n",
      "        sum_scores_roc_auc = 0.0\n",
      "        conf_matrix = None\n",
      "        conf_matrix = np.array([[0,0], [0,0]])\n",
      "\n",
      "        for i in range(times):\n",
      "             (X_train, X_test,\n",
      "             y_train, y_test) = cv.train_test_split(X, Y,\n",
      "                                                test_size=.2)\n",
      "             clf.fit(X_train,y_train)\n",
      "\n",
      "             prob_array = np.array(clf.predict_proba(X_test))\n",
      "             y_hat = prob_array[:,1]\n",
      "             y_pred = clf.predict(X_test)\n",
      "             roc_score = roc_auc_score(y_test, y_hat)  \n",
      "             if self.verbose:   \n",
      "                 print \"current roc score: \", roc_score                              \n",
      "             sum_scores_roc_auc += roc_score      \n",
      "             sum_scores += recall_score(y_test, y_pred)\n",
      "             if (self.printConfusionMatrix):                 \n",
      "                conf_matrix += metrics.confusion_matrix(y_test, y_pred)       \n",
      "\n",
      "             #print \"%s had an accuracy score of %0.2f\"% (name, score)            \n",
      "        return sum_scores / times, sum_scores_roc_auc / times, conf_matrix / times\n",
      "\n",
      "    def test_classifiers(self, times):\n",
      "        for name, clf in self.classifiers.items():\n",
      "            print \"testing model: \", name\n",
      "            score, score_roc_auc, conf_matrix = self.runClassifier(self.X_matrix,self.Y_vector,clf, times)   \n",
      "            #print \"%s had an average recall score of %0.3f, and roc_auc score of %0.2f\"% (name, score, score_roc_auc)\n",
      "            print \"%s had an average roc_auc score of %0.3f\"% (name, score_roc_auc)\n",
      "            if (self.printConfusionMatrix):\n",
      "                print \"confusion matrix: \"\n",
      "                print conf_matrix\n",
      "    \n"
     ],
     "language": "python",
     "metadata": {},
     "outputs": [],
     "prompt_number": 237
    },
    {
     "cell_type": "code",
     "collapsed": false,
     "input": [
      "class ModelOptimizer:\n",
      "    def __init__(self, x, y):\n",
      "        self.models = []\n",
      "    \n",
      "        (x_train, x_test,\n",
      "         y_train, y_test) = cv.train_test_split(x, y,\n",
      "                                        test_size=.2)\n",
      "        self.x_train = x_train\n",
      "        self.x_test = x_test\n",
      "        self.y_train = y_train\n",
      "        self.y_test = y_test\n",
      "        \n",
      "        \n",
      "    def add_model(self, name, model, param_grid={}):\n",
      "        optimized_model = gs.GridSearchCV(model, param_grid, scoring='roc_auc', n_jobs=4, cv=4) \n",
      "        optimized_model.fit(self.x_train, self.y_train)\n",
      "        data = {\n",
      "            'name':name,           \n",
      "            'model': optimized_model\n",
      "        }\n",
      "        self.models.append(data)\n",
      "        \n",
      "    def test_models(self):\n",
      "        for model in self.models:            \n",
      "            prob_array = np.array( model['model'].predict_proba(self.x_test))\n",
      "            y_hat = prob_array[:,1]\n",
      "            score = roc_auc_score(self.y_test, y_hat)     \n",
      "            #score = model['model'].score(self.x_test, self.y_test)\n",
      "            print \"%s: \" % model['name'] \n",
      "            print \"------------------------\"\n",
      "            print \"score: %s\" % (score)\n",
      "            print \"best estomator: \" ,model['model'].best_estimator_\n",
      "            print \"best params: \" , model['model'].best_params_\n",
      "            print \"\""
     ],
     "language": "python",
     "metadata": {},
     "outputs": [],
     "prompt_number": 189
    },
    {
     "cell_type": "code",
     "collapsed": false,
     "input": [
      "import numpy as np\n",
      "import pandas as pd\n",
      "import sklearn\n",
      "import sklearn.linear_model as lm\n",
      "import sklearn.cross_validation as cv\n",
      "import sklearn.grid_search as gs\n",
      "import matplotlib.pyplot as plt\n",
      "import pandas as pd\n",
      "from sklearn import metrics\n",
      "from sklearn.cross_validation import train_test_split, Bootstrap\n",
      "from sklearn.datasets import make_blobs\n",
      "from sklearn.ensemble import RandomForestClassifier\n",
      "from sklearn.ensemble import ExtraTreesClassifier\n",
      "from sklearn.dummy import DummyClassifier\n",
      "from sklearn.linear_model import LogisticRegression\n",
      "from sklearn.linear_model import RandomizedLogisticRegression\n",
      "from sklearn.naive_bayes import GaussianNB, MultinomialNB, BernoulliNB\n",
      "from sklearn.neighbors import KNeighborsClassifier\n",
      "from sklearn.ensemble import RandomForestClassifier\n",
      "from sklearn.tree import DecisionTreeClassifier\n",
      "from sklearn.metrics import roc_auc_score\n",
      "from IPython.display import Image\n",
      "from sklearn.decomposition import PCA\n",
      "import sklearn.grid_search as gs\n",
      "from sklearn.metrics import recall_score\n",
      "conf_matrix_image = Image(url='https://computersciencesource.files.wordpress.com/2010/01/conmat.png')\n",
      "%matplotlib inline"
     ],
     "language": "python",
     "metadata": {},
     "outputs": [],
     "prompt_number": 1
    },
    {
     "cell_type": "code",
     "collapsed": false,
     "input": [],
     "language": "python",
     "metadata": {},
     "outputs": []
    },
    {
     "cell_type": "code",
     "collapsed": false,
     "input": [],
     "language": "python",
     "metadata": {},
     "outputs": []
    },
    {
     "cell_type": "heading",
     "level": 2,
     "metadata": {},
     "source": [
      "Testing Area, Not part of presentaion"
     ]
    },
    {
     "cell_type": "code",
     "collapsed": false,
     "input": [
      "printPredictionPlot(Y_test_predicted_prob, Y_test)"
     ],
     "language": "python",
     "metadata": {},
     "outputs": [
      {
       "output_type": "stream",
       "stream": "stdout",
       "text": [
        "   0 predicted prob  1 predicted prob  actual value\n",
        "0             0.852             0.148         0.000\n",
        "1             0.828             0.172         0.000\n",
        "2             0.698             0.302         0.000\n",
        "3             0.742             0.258         0.000\n",
        "4             0.861             0.139         0.000\n",
        "5             0.402             0.598         1.000\n",
        "6             0.789             0.211         1.000\n",
        "7             0.875             0.125         0.000\n",
        "8             0.618             0.382         0.000\n",
        "9             0.893             0.107         1.000\n",
        "(array([   23.,   497.,  1944.,  1118.,   775.,   633.,   513.,   374.,\n",
        "         344.,   264.,   232.,   210.,   174.,   132.,    97.,    78.,\n",
        "          57.,    38.,    15.,    11.]), array([ 0.02744305,  0.07506658,  0.12269011,  0.17031364,  0.21793717,\n",
        "        0.2655607 ,  0.31318423,  0.36080776,  0.40843129,  0.45605482,\n",
        "        0.50367835,  0.55130188,  0.59892541,  0.64654894,  0.69417247,\n",
        "        0.741796  ,  0.78941953,  0.83704306,  0.88466659,  0.93229012,\n",
        "        0.97991365]), <a list of 20 Patch objects>)"
       ]
      },
      {
       "output_type": "stream",
       "stream": "stdout",
       "text": [
        "\n"
       ]
      },
      {
       "metadata": {},
       "output_type": "display_data",
       "png": "[encoded data removed]",
       "text": [
        "<matplotlib.figure.Figure at 0x7f9965f8a590>"
       ]
      }
     ],
     "prompt_number": 279
    },
    {
     "cell_type": "code",
     "collapsed": false,
     "input": [
      "display_roc_curve(Y_test, Y_test_predicted_prob)"
     ],
     "language": "python",
     "metadata": {},
     "outputs": [
      {
       "metadata": {},
       "output_type": "display_data",
       "png": "[encoded data removed]",
       "text": [
        "<matplotlib.figure.Figure at 0x7f9964272c90>"
       ]
      }
     ],
     "prompt_number": 285
    },
    {
     "cell_type": "code",
     "collapsed": false,
     "input": [
      "from sklearn.metrics import roc_curve, auc\n",
      "def display_roc_curve(ytest, y_prob):\n",
      "    false_pos_rate, true_pos_rate, thresholds = roc_curve(ytest, y_prob[:, 1])\n",
      "    roc_auc = auc(false_pos_rate, true_pos_rate)\n",
      "    # Plot ROC curve\n",
      "    # setup figure\n",
      "    plt.figure(figsize=(10, 8))\n",
      "    plt.clf()\n",
      "    plt.plot(false_pos_rate, true_pos_rate, label='ROC curve (area = %0.2f)' % roc_auc)\n",
      "    plt.plot([0, 1], [0, 1], 'k--')\n",
      "    plt.xlim([0.0, 1.0])\n",
      "    plt.ylim([0.0, 1.0])\n",
      "    plt.xlabel('False Positive Rate')\n",
      "    plt.ylabel('True Positive Rate')\n",
      "    plt.title('Receiver operating characteristic example')\n",
      "    plt.legend(loc=\"lower right\")\n",
      "    plt.show()"
     ],
     "language": "python",
     "metadata": {},
     "outputs": [],
     "prompt_number": 284
    },
    {
     "cell_type": "code",
     "collapsed": false,
     "input": [],
     "language": "python",
     "metadata": {},
     "outputs": []
    },
    {
     "cell_type": "code",
     "collapsed": false,
     "input": [
      "def printPredictionPlot(Y_test_predicted_prob, Y_test):\n",
      "    prob_df = pd.DataFrame(Y_test_predicted_prob[:10], columns=['0 predicted prob', '1 predicted prob'])\n",
      "    prob_df ['actual value'] = Y_test[:10]\n",
      "    pd.options.display.float_format = '{:10,.3f}'.format\n",
      "    print prob_df\n",
      "    tmp = plt.hist(Y_test_predicted_prob[:,1],20)\n",
      "    print tmp"
     ],
     "language": "python",
     "metadata": {},
     "outputs": [],
     "prompt_number": 278
    },
    {
     "cell_type": "code",
     "collapsed": false,
     "input": [
      "def printConfusionMatrix(model, threshold, X_train, X_test, Y_train, Y_test):\n",
      "    \n",
      "    model.fit(X_train,Y_train) \n",
      "    y_pred = predictWithThreshhold(model, threshold, X_test)\n",
      "    \n",
      "    print metrics.confusion_matrix(Y_test, y_pred)      \n",
      "    "
     ],
     "language": "python",
     "metadata": {},
     "outputs": [],
     "prompt_number": 65
    },
    {
     "cell_type": "code",
     "collapsed": false,
     "input": [
      "def predictWithThreshhold(model, threshhold, x_test):\n",
      "    \n",
      "    prob = model.predict_proba(x_test)\n",
      "    return map(lambda x: 1 if x[1] > threshhold else 0, prob)\n",
      "    "
     ],
     "language": "python",
     "metadata": {},
     "outputs": [],
     "prompt_number": 73
    },
    {
     "cell_type": "code",
     "collapsed": false,
     "input": [
      "(X_train, X_test,\n",
      "Y_train, Y_test) = cv.train_test_split(X, Y,\n",
      "                                            test_size=.2)\n"
     ],
     "language": "python",
     "metadata": {},
     "outputs": [],
     "prompt_number": 67
    },
    {
     "cell_type": "code",
     "collapsed": false,
     "input": [
      "printConfusionMatrix(LogisticRegression(), 0.3, X_train, X_test, Y_train, Y_test)"
     ],
     "language": "python",
     "metadata": {},
     "outputs": [
      {
       "output_type": "stream",
       "stream": "stdout",
       "text": [
        "[[3847 1499]\n",
        " [ 944 1239]]\n"
       ]
      }
     ],
     "prompt_number": 75
    },
    {
     "cell_type": "code",
     "collapsed": false,
     "input": [
      "conf_matrix = metrics.confusion_matrix(y_test, y_pred_value)\n",
      "cm_df = pd.DataFrame(conf_matrix, columns= ['predicted_0','predicted_1'], index=['actual_0','actual_1'])\n",
      "cm_df"
     ],
     "language": "python",
     "metadata": {},
     "outputs": []
    },
    {
     "cell_type": "code",
     "collapsed": false,
     "input": [],
     "language": "python",
     "metadata": {},
     "outputs": []
    },
    {
     "cell_type": "code",
     "collapsed": false,
     "input": [],
     "language": "python",
     "metadata": {},
     "outputs": []
    },
    {
     "cell_type": "code",
     "collapsed": false,
     "input": [],
     "language": "python",
     "metadata": {},
     "outputs": []
    }
   ],
   "metadata": {}
  }
 ]
}