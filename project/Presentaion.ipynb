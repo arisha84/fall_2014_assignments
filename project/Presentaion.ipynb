{
 "metadata": {
  "name": "",
  "signature": "sha256:d30126b6558e41d4c585aa481b9bdc077544102498d47de21737b5eaaae3c559"
 },
 "nbformat": 3,
 "nbformat_minor": 0,
 "worksheets": [
  {
   "cells": [
    {
     "cell_type": "heading",
     "level": 1,
     "metadata": {},
     "source": [
      "Overview"
     ]
    },
    {
     "cell_type": "heading",
     "level": 4,
     "metadata": {},
     "source": [
      "The Goal of my project is optimizing video ads targeting based on historical user data. \n",
      "I am using a user categories data set from a recent Land Rover campaign, trying to build a predictive model that will predict,\n",
      "based on a user categories, the likelihood of visiting Land Rover Web Site\n",
      "\n",
      "\n",
      "\n"
     ]
    },
    {
     "cell_type": "heading",
     "level": 1,
     "metadata": {},
     "source": [
      "The Data Set "
     ]
    },
    {
     "cell_type": "heading",
     "level": 2,
     "metadata": {},
     "source": [
      "Load & Cleanup Data:\u00b6"
     ]
    },
    {
     "cell_type": "markdown",
     "metadata": {},
     "source": [
      "- Each row represents one user. \n",
      "- The columns (or features) are the user categories - this is our \u201cX\u201d variable. <br>\n",
      "- The target (our \"Y\" variable is the \"Interested in Brand\" column, which is a true (\"1\") if the user either visited the \n",
      "  website in the past, or clicked on an ad - my assumnption is that this means the user is \"Intrested In the Brand\"\n",
      "\n",
      "\n"
     ]
    },
    {
     "cell_type": "code",
     "collapsed": false,
     "input": [
      "data = pd.read_csv('/vagrant/829/filtered_output_for_campaign_829.csv')\n",
      "df = data.fillna(0)  ## replace null values with zeros\n",
      "df = df.rename(columns={'PIA': 'Visited Brand'})\n",
      "df = df.drop(['DATE','USER ID', 'CAMPAIGN ID','Retargeting', 'Clicker'], axis=1) \n",
      "df = df.ix[:,(df != 0).any(axis=0)] ## remove all columns with all zeros\n",
      "df = df.ix[(df != 0).any(axis=1),:] ## remove all rows with all zeros\n",
      "X = df.drop(['Visited Brand'], axis=1)\n",
      "Y = df['Visited Brand']"
     ],
     "language": "python",
     "metadata": {},
     "outputs": [],
     "prompt_number": 4
    },
    {
     "cell_type": "heading",
     "level": 5,
     "metadata": {},
     "source": [
      "Our data set contains 37645 rows and 1168 columns:"
     ]
    },
    {
     "cell_type": "code",
     "collapsed": false,
     "input": [
      "df.shape"
     ],
     "language": "python",
     "metadata": {},
     "outputs": [
      {
       "metadata": {},
       "output_type": "pyout",
       "prompt_number": 5,
       "text": [
        "(37645, 1168)"
       ]
      }
     ],
     "prompt_number": 5
    },
    {
     "cell_type": "code",
     "collapsed": false,
     "input": [
      "df.head()"
     ],
     "language": "python",
     "metadata": {},
     "outputs": [
      {
       "html": [
        "<div style=\"max-height:1000px;max-width:1500px;overflow:auto;\">\n",
        "<table border=\"1\" class=\"dataframe\">\n",
        "  <thead>\n",
        "    <tr style=\"text-align: right;\">\n",
        "      <th></th>\n",
        "      <th>Exelate 10 - General Interest - Auto Enthusiasts</th>\n",
        "      <th>Exelate 1006 - General Interest - Green Living</th>\n",
        "      <th>Exelate 1007 - Politics - Political Junkies</th>\n",
        "      <th>Exelate 10082 - Finance and Insurance - Mortgages - Mortgage Hyper-Intent</th>\n",
        "      <th>Exelate 1017 - Shopping - Mobile - Carrier: AT&amp;T</th>\n",
        "      <th>Exelate 10179 - Travel - Departure - Europe</th>\n",
        "      <th>Exelate 1018 - Shopping - Mobile - Carrier: T-Mobile</th>\n",
        "      <th>Exelate 10180 - Travel - Departure - North America</th>\n",
        "      <th>Exelate 1019 - Shopping - Mobile - Carrier: Sprint</th>\n",
        "      <th>Exelate 1020 - Shopping - Mobile - Carrier: Verizon</th>\n",
        "      <th>...</th>\n",
        "      <th>Exelate 9315 - Auto - Buyers - Make:RAM - 1500</th>\n",
        "      <th>Exelate 9321 - Auto - Buyers - Make:Tesla - Model S</th>\n",
        "      <th>Exelate 9638 - Finance and Insurance - Auto Intenders</th>\n",
        "      <th>Exelate 9969 - Finance and Insurance - Banking - Checking and Savings</th>\n",
        "      <th>Exelate 9970 - Finance and Insurance - Credit Cards - Small Business</th>\n",
        "      <th>Exelate 9989 - CPG - Dish and Dishwasher Detergent</th>\n",
        "      <th>Exelate 3211 - Services - Personal Services and Care - Children Daycare</th>\n",
        "      <th>Exelate 5106 - Entertainment - Music - Jazz/Blues</th>\n",
        "      <th>Completer</th>\n",
        "      <th>Visited Brand</th>\n",
        "    </tr>\n",
        "  </thead>\n",
        "  <tbody>\n",
        "    <tr>\n",
        "      <th>0</th>\n",
        "      <td> 0</td>\n",
        "      <td> 0</td>\n",
        "      <td> 0</td>\n",
        "      <td> 0</td>\n",
        "      <td> 0</td>\n",
        "      <td> 0</td>\n",
        "      <td> 0</td>\n",
        "      <td> 0</td>\n",
        "      <td> 0</td>\n",
        "      <td> 0</td>\n",
        "      <td>...</td>\n",
        "      <td> 0</td>\n",
        "      <td> 0</td>\n",
        "      <td> 0</td>\n",
        "      <td> 0</td>\n",
        "      <td> 0</td>\n",
        "      <td> 0</td>\n",
        "      <td> 0</td>\n",
        "      <td> 0</td>\n",
        "      <td> 1</td>\n",
        "      <td> 0</td>\n",
        "    </tr>\n",
        "    <tr>\n",
        "      <th>1</th>\n",
        "      <td> 1</td>\n",
        "      <td> 0</td>\n",
        "      <td> 0</td>\n",
        "      <td> 0</td>\n",
        "      <td> 0</td>\n",
        "      <td> 0</td>\n",
        "      <td> 0</td>\n",
        "      <td> 0</td>\n",
        "      <td> 0</td>\n",
        "      <td> 0</td>\n",
        "      <td>...</td>\n",
        "      <td> 0</td>\n",
        "      <td> 0</td>\n",
        "      <td> 0</td>\n",
        "      <td> 1</td>\n",
        "      <td> 1</td>\n",
        "      <td> 0</td>\n",
        "      <td> 0</td>\n",
        "      <td> 0</td>\n",
        "      <td> 0</td>\n",
        "      <td> 0</td>\n",
        "    </tr>\n",
        "    <tr>\n",
        "      <th>2</th>\n",
        "      <td> 1</td>\n",
        "      <td> 1</td>\n",
        "      <td> 1</td>\n",
        "      <td> 0</td>\n",
        "      <td> 0</td>\n",
        "      <td> 0</td>\n",
        "      <td> 0</td>\n",
        "      <td> 0</td>\n",
        "      <td> 0</td>\n",
        "      <td> 0</td>\n",
        "      <td>...</td>\n",
        "      <td> 0</td>\n",
        "      <td> 0</td>\n",
        "      <td> 0</td>\n",
        "      <td> 1</td>\n",
        "      <td> 1</td>\n",
        "      <td> 0</td>\n",
        "      <td> 0</td>\n",
        "      <td> 0</td>\n",
        "      <td> 1</td>\n",
        "      <td> 1</td>\n",
        "    </tr>\n",
        "    <tr>\n",
        "      <th>3</th>\n",
        "      <td> 1</td>\n",
        "      <td> 1</td>\n",
        "      <td> 1</td>\n",
        "      <td> 0</td>\n",
        "      <td> 0</td>\n",
        "      <td> 0</td>\n",
        "      <td> 0</td>\n",
        "      <td> 0</td>\n",
        "      <td> 0</td>\n",
        "      <td> 0</td>\n",
        "      <td>...</td>\n",
        "      <td> 0</td>\n",
        "      <td> 0</td>\n",
        "      <td> 1</td>\n",
        "      <td> 1</td>\n",
        "      <td> 1</td>\n",
        "      <td> 1</td>\n",
        "      <td> 0</td>\n",
        "      <td> 0</td>\n",
        "      <td> 1</td>\n",
        "      <td> 0</td>\n",
        "    </tr>\n",
        "    <tr>\n",
        "      <th>4</th>\n",
        "      <td> 1</td>\n",
        "      <td> 0</td>\n",
        "      <td> 0</td>\n",
        "      <td> 0</td>\n",
        "      <td> 0</td>\n",
        "      <td> 0</td>\n",
        "      <td> 0</td>\n",
        "      <td> 0</td>\n",
        "      <td> 0</td>\n",
        "      <td> 0</td>\n",
        "      <td>...</td>\n",
        "      <td> 0</td>\n",
        "      <td> 0</td>\n",
        "      <td> 1</td>\n",
        "      <td> 1</td>\n",
        "      <td> 1</td>\n",
        "      <td> 0</td>\n",
        "      <td> 0</td>\n",
        "      <td> 0</td>\n",
        "      <td> 1</td>\n",
        "      <td> 1</td>\n",
        "    </tr>\n",
        "  </tbody>\n",
        "</table>\n",
        "<p>5 rows \u00d7 1168 columns</p>\n",
        "</div>"
       ],
       "metadata": {},
       "output_type": "pyout",
       "prompt_number": 6,
       "text": [
        "   Exelate 10 - General Interest - Auto Enthusiasts  \\\n",
        "0                                                 0   \n",
        "1                                                 1   \n",
        "2                                                 1   \n",
        "3                                                 1   \n",
        "4                                                 1   \n",
        "\n",
        "   Exelate 1006 - General Interest - Green Living  \\\n",
        "0                                               0   \n",
        "1                                               0   \n",
        "2                                               1   \n",
        "3                                               1   \n",
        "4                                               0   \n",
        "\n",
        "   Exelate 1007 - Politics - Political Junkies  \\\n",
        "0                                            0   \n",
        "1                                            0   \n",
        "2                                            1   \n",
        "3                                            1   \n",
        "4                                            0   \n",
        "\n",
        "   Exelate 10082 - Finance and Insurance - Mortgages - Mortgage Hyper-Intent  \\\n",
        "0                                                  0                           \n",
        "1                                                  0                           \n",
        "2                                                  0                           \n",
        "3                                                  0                           \n",
        "4                                                  0                           \n",
        "\n",
        "   Exelate 1017 - Shopping - Mobile - Carrier: AT&T  \\\n",
        "0                                                 0   \n",
        "1                                                 0   \n",
        "2                                                 0   \n",
        "3                                                 0   \n",
        "4                                                 0   \n",
        "\n",
        "   Exelate 10179 - Travel - Departure - Europe  \\\n",
        "0                                            0   \n",
        "1                                            0   \n",
        "2                                            0   \n",
        "3                                            0   \n",
        "4                                            0   \n",
        "\n",
        "   Exelate 1018 - Shopping - Mobile - Carrier: T-Mobile  \\\n",
        "0                                                  0      \n",
        "1                                                  0      \n",
        "2                                                  0      \n",
        "3                                                  0      \n",
        "4                                                  0      \n",
        "\n",
        "   Exelate 10180 - Travel - Departure - North America  \\\n",
        "0                                                  0    \n",
        "1                                                  0    \n",
        "2                                                  0    \n",
        "3                                                  0    \n",
        "4                                                  0    \n",
        "\n",
        "   Exelate 1019 - Shopping - Mobile - Carrier: Sprint  \\\n",
        "0                                                  0    \n",
        "1                                                  0    \n",
        "2                                                  0    \n",
        "3                                                  0    \n",
        "4                                                  0    \n",
        "\n",
        "   Exelate 1020 - Shopping - Mobile - Carrier: Verizon  \\\n",
        "0                                                  0     \n",
        "1                                                  0     \n",
        "2                                                  0     \n",
        "3                                                  0     \n",
        "4                                                  0     \n",
        "\n",
        "                          ...                           \\\n",
        "0                         ...                            \n",
        "1                         ...                            \n",
        "2                         ...                            \n",
        "3                         ...                            \n",
        "4                         ...                            \n",
        "\n",
        "   Exelate 9315 - Auto - Buyers - Make:RAM - 1500  \\\n",
        "0                                               0   \n",
        "1                                               0   \n",
        "2                                               0   \n",
        "3                                               0   \n",
        "4                                               0   \n",
        "\n",
        "   Exelate 9321 - Auto - Buyers - Make:Tesla - Model S  \\\n",
        "0                                                  0     \n",
        "1                                                  0     \n",
        "2                                                  0     \n",
        "3                                                  0     \n",
        "4                                                  0     \n",
        "\n",
        "   Exelate 9638 - Finance and Insurance - Auto Intenders  \\\n",
        "0                                                  0       \n",
        "1                                                  0       \n",
        "2                                                  0       \n",
        "3                                                  1       \n",
        "4                                                  1       \n",
        "\n",
        "   Exelate 9969 - Finance and Insurance - Banking - Checking and Savings  \\\n",
        "0                                                  0                       \n",
        "1                                                  1                       \n",
        "2                                                  1                       \n",
        "3                                                  1                       \n",
        "4                                                  1                       \n",
        "\n",
        "   Exelate 9970 - Finance and Insurance - Credit Cards - Small Business  \\\n",
        "0                                                  0                      \n",
        "1                                                  1                      \n",
        "2                                                  1                      \n",
        "3                                                  1                      \n",
        "4                                                  1                      \n",
        "\n",
        "   Exelate 9989 - CPG - Dish and Dishwasher Detergent  \\\n",
        "0                                                  0    \n",
        "1                                                  0    \n",
        "2                                                  0    \n",
        "3                                                  1    \n",
        "4                                                  0    \n",
        "\n",
        "   Exelate 3211 - Services - Personal Services and Care - Children Daycare  \\\n",
        "0                                                  0                         \n",
        "1                                                  0                         \n",
        "2                                                  0                         \n",
        "3                                                  0                         \n",
        "4                                                  0                         \n",
        "\n",
        "   Exelate 5106 - Entertainment - Music - Jazz/Blues  Completer  Visited Brand  \n",
        "0                                                  0          1              0  \n",
        "1                                                  0          0              0  \n",
        "2                                                  0          1              1  \n",
        "3                                                  0          1              0  \n",
        "4                                                  0          1              1  \n",
        "\n",
        "[5 rows x 1168 columns]"
       ]
      }
     ],
     "prompt_number": 6
    },
    {
     "cell_type": "heading",
     "level": 1,
     "metadata": {},
     "source": [
      "Visualize"
     ]
    },
    {
     "cell_type": "markdown",
     "metadata": {},
     "source": [
      "Lets do some simple visualization of our data, just to get a \"feel\".\n"
     ]
    },
    {
     "cell_type": "code",
     "collapsed": false,
     "input": [
      "spy(df.ix[:2000,:])"
     ],
     "language": "python",
     "metadata": {},
     "outputs": [
      {
       "metadata": {},
       "output_type": "pyout",
       "prompt_number": 14,
       "text": [
        "<matplotlib.image.AxesImage at 0x7f947c61f210>"
       ]
      },
      {
       "metadata": {},
       "output_type": "display_data",
       "png": "[encoded data removed]",
       "text": [
        "<matplotlib.figure.Figure at 0x7f947deb2990>"
       ]
      }
     ],
     "prompt_number": 14
    },
    {
     "cell_type": "code",
     "collapsed": false,
     "input": [
      "sum_df_row = df.sum(axis=1) ## sum of each row\n",
      "plt.hist(sum_df_row,20)\n",
      "plt.xlabel('Number of features per user bucket')\n",
      "plt.ylabel('Users Count in bucket')"
     ],
     "language": "python",
     "metadata": {},
     "outputs": [
      {
       "metadata": {},
       "output_type": "pyout",
       "prompt_number": 21,
       "text": [
        "<matplotlib.text.Text at 0x7f947dd75510>"
       ]
      },
      {
       "metadata": {},
       "output_type": "display_data",
       "png": "[encoded data removed]",
       "text": [
        "<matplotlib.figure.Figure at 0x7f947df92a90>"
       ]
      }
     ],
     "prompt_number": 21
    },
    {
     "cell_type": "markdown",
     "metadata": {},
     "source": [
      "The above histogram shows the ditrubution of Number of features and user count. as expected, most users have a low number of\n",
      "features, between 0-25"
     ]
    },
    {
     "cell_type": "heading",
     "level": 5,
     "metadata": {},
     "source": [
      "Lets see which categories are the most common in our data set: "
     ]
    },
    {
     "cell_type": "code",
     "collapsed": false,
     "input": [
      "sum_df_col = df.sum(axis=0) ## sum of each column\n",
      "sum_df_col.sort(ascending=False)\n",
      "sum_df_col.head(10)"
     ],
     "language": "python",
     "metadata": {},
     "outputs": [
      {
       "metadata": {},
       "output_type": "pyout",
       "prompt_number": 43,
       "text": [
        "Completer                                                    26877\n",
        "Exelate 25 - Entertainment                                   25182\n",
        "Exelate 2 - Finance                                          20855\n",
        "Exelate 40 - Shopping                                        19625\n",
        "Exelate 3365 - General Interest - News and Current Events    17504\n",
        "Exelate 1141 - Services - Finance and Insurance - Banking    17403\n",
        "Exelate 9160 - Finance and Insurance                         17245\n",
        "Exelate 6229 - Auto Owners                                   17227\n",
        "Exelate 1438 - CPG                                           16730\n",
        "Exelate 32 - Hobbies                                         16719\n",
        "dtype: float64"
       ]
      }
     ],
     "prompt_number": 43
    },
    {
     "cell_type": "heading",
     "level": 1,
     "metadata": {},
     "source": [
      "Model Selection Process"
     ]
    },
    {
     "cell_type": "heading",
     "level": 3,
     "metadata": {},
     "source": [
      "We'll start with one model to understand the basic workflow "
     ]
    },
    {
     "cell_type": "code",
     "collapsed": false,
     "input": [
      "model = BernoulliNB()"
     ],
     "language": "python",
     "metadata": {},
     "outputs": [],
     "prompt_number": 7
    },
    {
     "cell_type": "code",
     "collapsed": false,
     "input": [
      "(X_train, X_test,\n",
      " Y_train, Y_test) = cv.train_test_split(X, Y,\n",
      "                                            test_size=.2)"
     ],
     "language": "python",
     "metadata": {},
     "outputs": [],
     "prompt_number": 8
    },
    {
     "cell_type": "code",
     "collapsed": false,
     "input": [
      "model.fit(X_train,Y_train) "
     ],
     "language": "python",
     "metadata": {},
     "outputs": [
      {
       "output_type": "stream",
       "stream": "stderr",
       "text": [
        "/usr/local/lib/python2.7/dist-packages/numpy/core/fromnumeric.py:2499: VisibleDeprecationWarning: `rank` is deprecated; use the `ndim` attribute or function instead. To find the rank of a matrix see `numpy.linalg.matrix_rank`.\n",
        "  VisibleDeprecationWarning)\n"
       ]
      },
      {
       "metadata": {},
       "output_type": "pyout",
       "prompt_number": 9,
       "text": [
        "BernoulliNB(alpha=1.0, binarize=0.0, class_prior=None, fit_prior=True)"
       ]
      }
     ],
     "prompt_number": 9
    },
    {
     "cell_type": "code",
     "collapsed": false,
     "input": [
      "Y_test_predicted_prob = model.predict_proba(X_test)\n",
      "prob_df = pd.DataFrame(Y_test_predicted_prob[:100], columns=['0 predicted prob', '1 predicted prob'])\n",
      "prob_df ['actual value'] = Y_test[:100]\n",
      "pd.options.display.float_format = '{:10,.3f}'.format\n",
      "prob_df[prob_df['actual value'] == 1]\n"
     ],
     "language": "python",
     "metadata": {},
     "outputs": [
      {
       "html": [
        "<div style=\"max-height:1000px;max-width:1500px;overflow:auto;\">\n",
        "<table border=\"1\" class=\"dataframe\">\n",
        "  <thead>\n",
        "    <tr style=\"text-align: right;\">\n",
        "      <th></th>\n",
        "      <th>0 predicted prob</th>\n",
        "      <th>1 predicted prob</th>\n",
        "      <th>actual value</th>\n",
        "    </tr>\n",
        "  </thead>\n",
        "  <tbody>\n",
        "    <tr>\n",
        "      <th>3 </th>\n",
        "      <td>     1.000</td>\n",
        "      <td>     0.000</td>\n",
        "      <td>     1.000</td>\n",
        "    </tr>\n",
        "    <tr>\n",
        "      <th>8 </th>\n",
        "      <td>     0.000</td>\n",
        "      <td>     1.000</td>\n",
        "      <td>     1.000</td>\n",
        "    </tr>\n",
        "    <tr>\n",
        "      <th>9 </th>\n",
        "      <td>     0.000</td>\n",
        "      <td>     1.000</td>\n",
        "      <td>     1.000</td>\n",
        "    </tr>\n",
        "    <tr>\n",
        "      <th>23</th>\n",
        "      <td>     0.997</td>\n",
        "      <td>     0.003</td>\n",
        "      <td>     1.000</td>\n",
        "    </tr>\n",
        "    <tr>\n",
        "      <th>24</th>\n",
        "      <td>     0.000</td>\n",
        "      <td>     1.000</td>\n",
        "      <td>     1.000</td>\n",
        "    </tr>\n",
        "    <tr>\n",
        "      <th>31</th>\n",
        "      <td>     0.000</td>\n",
        "      <td>     1.000</td>\n",
        "      <td>     1.000</td>\n",
        "    </tr>\n",
        "    <tr>\n",
        "      <th>32</th>\n",
        "      <td>     0.000</td>\n",
        "      <td>     1.000</td>\n",
        "      <td>     1.000</td>\n",
        "    </tr>\n",
        "    <tr>\n",
        "      <th>34</th>\n",
        "      <td>     0.000</td>\n",
        "      <td>     1.000</td>\n",
        "      <td>     1.000</td>\n",
        "    </tr>\n",
        "    <tr>\n",
        "      <th>37</th>\n",
        "      <td>     0.000</td>\n",
        "      <td>     1.000</td>\n",
        "      <td>     1.000</td>\n",
        "    </tr>\n",
        "    <tr>\n",
        "      <th>39</th>\n",
        "      <td>     1.000</td>\n",
        "      <td>     0.000</td>\n",
        "      <td>     1.000</td>\n",
        "    </tr>\n",
        "    <tr>\n",
        "      <th>41</th>\n",
        "      <td>     1.000</td>\n",
        "      <td>     0.000</td>\n",
        "      <td>     1.000</td>\n",
        "    </tr>\n",
        "    <tr>\n",
        "      <th>46</th>\n",
        "      <td>     1.000</td>\n",
        "      <td>     0.000</td>\n",
        "      <td>     1.000</td>\n",
        "    </tr>\n",
        "    <tr>\n",
        "      <th>57</th>\n",
        "      <td>     1.000</td>\n",
        "      <td>     0.000</td>\n",
        "      <td>     1.000</td>\n",
        "    </tr>\n",
        "    <tr>\n",
        "      <th>64</th>\n",
        "      <td>     1.000</td>\n",
        "      <td>     0.000</td>\n",
        "      <td>     1.000</td>\n",
        "    </tr>\n",
        "    <tr>\n",
        "      <th>71</th>\n",
        "      <td>     1.000</td>\n",
        "      <td>     0.000</td>\n",
        "      <td>     1.000</td>\n",
        "    </tr>\n",
        "    <tr>\n",
        "      <th>73</th>\n",
        "      <td>     1.000</td>\n",
        "      <td>     0.000</td>\n",
        "      <td>     1.000</td>\n",
        "    </tr>\n",
        "    <tr>\n",
        "      <th>74</th>\n",
        "      <td>     1.000</td>\n",
        "      <td>     0.000</td>\n",
        "      <td>     1.000</td>\n",
        "    </tr>\n",
        "    <tr>\n",
        "      <th>77</th>\n",
        "      <td>     1.000</td>\n",
        "      <td>     0.000</td>\n",
        "      <td>     1.000</td>\n",
        "    </tr>\n",
        "    <tr>\n",
        "      <th>78</th>\n",
        "      <td>     0.000</td>\n",
        "      <td>     1.000</td>\n",
        "      <td>     1.000</td>\n",
        "    </tr>\n",
        "    <tr>\n",
        "      <th>82</th>\n",
        "      <td>     0.000</td>\n",
        "      <td>     1.000</td>\n",
        "      <td>     1.000</td>\n",
        "    </tr>\n",
        "    <tr>\n",
        "      <th>83</th>\n",
        "      <td>     1.000</td>\n",
        "      <td>     0.000</td>\n",
        "      <td>     1.000</td>\n",
        "    </tr>\n",
        "    <tr>\n",
        "      <th>89</th>\n",
        "      <td>     0.000</td>\n",
        "      <td>     1.000</td>\n",
        "      <td>     1.000</td>\n",
        "    </tr>\n",
        "    <tr>\n",
        "      <th>92</th>\n",
        "      <td>     1.000</td>\n",
        "      <td>     0.000</td>\n",
        "      <td>     1.000</td>\n",
        "    </tr>\n",
        "    <tr>\n",
        "      <th>98</th>\n",
        "      <td>     0.000</td>\n",
        "      <td>     1.000</td>\n",
        "      <td>     1.000</td>\n",
        "    </tr>\n",
        "  </tbody>\n",
        "</table>\n",
        "</div>"
       ],
       "metadata": {},
       "output_type": "pyout",
       "prompt_number": 10,
       "text": [
        "    0 predicted prob  1 predicted prob  actual value\n",
        "3              1.000             0.000         1.000\n",
        "8              0.000             1.000         1.000\n",
        "9              0.000             1.000         1.000\n",
        "23             0.997             0.003         1.000\n",
        "24             0.000             1.000         1.000\n",
        "31             0.000             1.000         1.000\n",
        "32             0.000             1.000         1.000\n",
        "34             0.000             1.000         1.000\n",
        "37             0.000             1.000         1.000\n",
        "39             1.000             0.000         1.000\n",
        "41             1.000             0.000         1.000\n",
        "46             1.000             0.000         1.000\n",
        "57             1.000             0.000         1.000\n",
        "64             1.000             0.000         1.000\n",
        "71             1.000             0.000         1.000\n",
        "73             1.000             0.000         1.000\n",
        "74             1.000             0.000         1.000\n",
        "77             1.000             0.000         1.000\n",
        "78             0.000             1.000         1.000\n",
        "82             0.000             1.000         1.000\n",
        "83             1.000             0.000         1.000\n",
        "89             0.000             1.000         1.000\n",
        "92             1.000             0.000         1.000\n",
        "98             0.000             1.000         1.000"
       ]
      }
     ],
     "prompt_number": 10
    },
    {
     "cell_type": "heading",
     "level": 3,
     "metadata": {},
     "source": [
      "Scoring Method - Roc_Auc"
     ]
    },
    {
     "cell_type": "heading",
     "level": 4,
     "metadata": {},
     "source": [
      "Roc_auc is the best scoring method for our problem as it takes into accout all the different possible thresholds.<br> In addition, roc_auc works for highly unbalanced classes. <br> Choosing the actual threshold is more of a business decision - do I want to maximize TP Rate or minimize FP rate"
     ]
    },
    {
     "cell_type": "code",
     "collapsed": false,
     "input": [
      "prob_array = np.array(Y_test_predicted_prob)\n",
      "y_predicted_prob = prob_array[:,1]\n",
      "score_roc_auc = roc_auc_score(Y_test, y_predicted_prob)   \n",
      "score_roc_auc"
     ],
     "language": "python",
     "metadata": {},
     "outputs": [
      {
       "metadata": {},
       "output_type": "pyout",
       "prompt_number": 11,
       "text": [
        "0.62584801903792986"
       ]
      }
     ],
     "prompt_number": 11
    },
    {
     "cell_type": "heading",
     "level": 3,
     "metadata": {},
     "source": [
      "Lets Try different models"
     ]
    },
    {
     "cell_type": "code",
     "collapsed": false,
     "input": [
      "classifiers = {'Logistic': LogisticRegression(),\n",
      "               #'BernoulliNB': BernoulliNB(),                      \n",
      "               'KNeighbors': KNeighborsClassifier(),\n",
      "               'RandomForest': RandomForestClassifier(),                             \n",
      "               }\n",
      "\n",
      "modelTester = ModelTester(X,Y,classifiers)\n",
      "modelTester.test_classifiers(1)"
     ],
     "language": "python",
     "metadata": {},
     "outputs": [
      {
       "output_type": "stream",
       "stream": "stdout",
       "text": [
        "testing model:  RandomForest\n",
        "current roc score: "
       ]
      },
      {
       "output_type": "stream",
       "stream": "stdout",
       "text": [
        " 0.645967064106\n",
        "RandomForest had an average recall score of 0.20, and roc_auc score of 0.65\n",
        "testing model:  BernoulliNB\n",
        "current roc score: "
       ]
      }
     ]
    },
    {
     "cell_type": "code",
     "collapsed": false,
     "input": [],
     "language": "python",
     "metadata": {},
     "outputs": []
    },
    {
     "cell_type": "heading",
     "level": 3,
     "metadata": {},
     "source": [
      "improve model with grid search "
     ]
    },
    {
     "cell_type": "code",
     "collapsed": false,
     "input": [
      "modelOptimizer= ModelOptimizer(X, Y)\n",
      "modelOptimizer.add_model(\"BernoulliNB\",BernoulliNB(),param_grid={'alpha':np.linspace(0.01, .2, 10)} )\n",
      "modelOptimizer.test_models()"
     ],
     "language": "python",
     "metadata": {},
     "outputs": [
      {
       "output_type": "stream",
       "stream": "stdout",
       "text": [
        "BernoulliNB: \n",
        "------------------------\n",
        "score: 0.651613760128\n",
        "best estomator:  BernoulliNB(alpha=0.11555555555555555, binarize=0.0, class_prior=None,\n",
        "      fit_prior=True)\n",
        "best params:  {'alpha': 0.11555555555555555}\n",
        "\n"
       ]
      }
     ],
     "prompt_number": 106
    },
    {
     "cell_type": "code",
     "collapsed": false,
     "input": [
      "np.linspace(0.01, .2, 10)"
     ],
     "language": "python",
     "metadata": {},
     "outputs": []
    },
    {
     "cell_type": "heading",
     "level": 3,
     "metadata": {},
     "source": [
      "Test improved model"
     ]
    },
    {
     "cell_type": "code",
     "collapsed": false,
     "input": [],
     "language": "python",
     "metadata": {},
     "outputs": []
    },
    {
     "cell_type": "heading",
     "level": 3,
     "metadata": {},
     "source": [
      "Optimize"
     ]
    },
    {
     "cell_type": "code",
     "collapsed": false,
     "input": [
      "first try: remove features with less than 20 "
     ],
     "language": "python",
     "metadata": {},
     "outputs": []
    },
    {
     "cell_type": "code",
     "collapsed": false,
     "input": [],
     "language": "python",
     "metadata": {},
     "outputs": []
    },
    {
     "cell_type": "code",
     "collapsed": false,
     "input": [],
     "language": "python",
     "metadata": {},
     "outputs": []
    },
    {
     "cell_type": "code",
     "collapsed": false,
     "input": [],
     "language": "python",
     "metadata": {},
     "outputs": []
    },
    {
     "cell_type": "code",
     "collapsed": false,
     "input": [],
     "language": "python",
     "metadata": {},
     "outputs": []
    },
    {
     "cell_type": "code",
     "collapsed": false,
     "input": [],
     "language": "python",
     "metadata": {},
     "outputs": []
    },
    {
     "cell_type": "code",
     "collapsed": false,
     "input": [
      "conf_matrix = metrics.confusion_matrix(y_test, y_pred_value)\n",
      "cm_df = pd.DataFrame(conf_matrix, columns= ['predicted_0','predicted_1'], index=['actual_0','actual_1'])\n",
      "cm_df"
     ],
     "language": "python",
     "metadata": {},
     "outputs": [
      {
       "html": [
        "<div style=\"max-height:1000px;max-width:1500px;overflow:auto;\">\n",
        "<table border=\"1\" class=\"dataframe\">\n",
        "  <thead>\n",
        "    <tr style=\"text-align: right;\">\n",
        "      <th></th>\n",
        "      <th>predicted_0</th>\n",
        "      <th>predicted_1</th>\n",
        "    </tr>\n",
        "  </thead>\n",
        "  <tbody>\n",
        "    <tr>\n",
        "      <th>actual_0</th>\n",
        "      <td> 4738</td>\n",
        "      <td> 645</td>\n",
        "    </tr>\n",
        "    <tr>\n",
        "      <th>actual_1</th>\n",
        "      <td> 1853</td>\n",
        "      <td> 293</td>\n",
        "    </tr>\n",
        "  </tbody>\n",
        "</table>\n",
        "</div>"
       ],
       "metadata": {},
       "output_type": "pyout",
       "prompt_number": 89,
       "text": [
        "          predicted_0  predicted_1\n",
        "actual_0         4738          645\n",
        "actual_1         1853          293"
       ]
      }
     ],
     "prompt_number": 89
    },
    {
     "cell_type": "code",
     "collapsed": false,
     "input": [],
     "language": "python",
     "metadata": {},
     "outputs": []
    },
    {
     "cell_type": "code",
     "collapsed": false,
     "input": [],
     "language": "python",
     "metadata": {},
     "outputs": []
    },
    {
     "cell_type": "code",
     "collapsed": false,
     "input": [],
     "language": "python",
     "metadata": {},
     "outputs": []
    },
    {
     "cell_type": "code",
     "collapsed": false,
     "input": [
      "class ModelTester:\n",
      "    def __init__(self, X, Y,classifiers):\n",
      "        self.X_matrix = X\n",
      "        self.Y_vector = Y        \n",
      "        self.classifiers = classifiers\n",
      "\n",
      "    def runSingleClassifier(self, x_train, y_train, x_test, y_test, clf):\n",
      "        clf.fit(X_train,y_train)         \n",
      "        y_hat = clf.predict_proba(X_test)\n",
      "        score_roc_auc = roc_auc_score(y_test, y_hat)        \n",
      "        score = clf.score(X_test, y_test)                \n",
      "        return score, score_roc_auc, y_hat   \n",
      "\n",
      "    def runClassifier(self, X,Y, clf, times): \n",
      "        sum_scores = 0.0\n",
      "        sum_scores_roc_auc = 0.0\n",
      "        conf_matrix = None\n",
      "\n",
      "        for i in range(times):\n",
      "             (X_train, X_test,\n",
      "             y_train, y_test) = cv.train_test_split(X, Y,\n",
      "                                                test_size=.2)\n",
      "             clf.fit(X_train,y_train)\n",
      "\n",
      "             prob_array = np.array(clf.predict_proba(X_test))\n",
      "             y_hat = prob_array[:,1]\n",
      "             y_pred = clf.predict(X_test)\n",
      "             roc_score = roc_auc_score(y_test, y_hat)   \n",
      "             print \"current roc score: \", roc_score   \n",
      "                \n",
      "             sum_scores_roc_auc += roc_score      \n",
      "             sum_scores += recall_score(y_test, y_pred)\n",
      "             #if (conf_matrix == None):                 \n",
      "             #       conf_matrix = metrics.confusion_matrix(y_test, y_pred)\n",
      "             #else: \n",
      "             #       conf_matrix += metrics.confusion_matrix(y_test, y_pred)       \n",
      "\n",
      "             #print \"%s had an accuracy score of %0.2f\"% (name, score)            \n",
      "        return sum_scores / times, sum_scores_roc_auc / times  #, conf_matrix / times\n",
      "\n",
      "    def test_classifiers(self, times):\n",
      "        for name, clf in self.classifiers.items():\n",
      "            print \"testing model: \", name\n",
      "            score, score_roc_auc = self.runClassifier(self.X_matrix,self.Y_vector,clf, times)   \n",
      "            print \"%s had an average recall score of %0.2f, and roc_auc score of %0.2f\"% (name, score, score_roc_auc)\n",
      "            #print \"confusion matrix: \"\n",
      "            #print conf_matrix\n",
      "    \n"
     ],
     "language": "python",
     "metadata": {},
     "outputs": [],
     "prompt_number": 17
    },
    {
     "cell_type": "code",
     "collapsed": false,
     "input": [
      "class ModelOptimizer:\n",
      "    def __init__(self, x, y):\n",
      "        self.models = []\n",
      "    \n",
      "        (x_train, x_test,\n",
      "         y_train, y_test) = cv.train_test_split(x, y,\n",
      "                                        test_size=.2)\n",
      "        self.x_train = x_train\n",
      "        self.x_test = x_test\n",
      "        self.y_train = y_train\n",
      "        self.y_test = y_test\n",
      "        \n",
      "        \n",
      "    def add_model(self, name, model, param_grid={}):\n",
      "        optimized_model = gs.GridSearchCV(model, param_grid, scoring='roc_auc') \n",
      "        optimized_model.fit(self.x_train, self.y_train)\n",
      "        data = {\n",
      "            'name':name,           \n",
      "            'model': optimized_model\n",
      "        }\n",
      "        self.models.append(data)\n",
      "        \n",
      "    def test_models(self):\n",
      "        for model in self.models:\n",
      "            #y_hat = model['model'].predict(X_test)\n",
      "            #score = roc_auc_score(self.y_test, y_hat)     \n",
      "            score = model['model'].score(self.x_test, self.y_test)\n",
      "            print \"%s: \" % model['name'] \n",
      "            print \"------------------------\"\n",
      "            print \"score: %s\" % (score)\n",
      "            print \"best estomator: \" ,model['model'].best_estimator_\n",
      "            print \"best params: \" , model['model'].best_params_\n",
      "            print \"\""
     ],
     "language": "python",
     "metadata": {},
     "outputs": [],
     "prompt_number": 2
    },
    {
     "cell_type": "code",
     "collapsed": false,
     "input": [
      "import numpy as np\n",
      "import pandas as pd\n",
      "import sklearn\n",
      "import sklearn.linear_model as lm\n",
      "import sklearn.cross_validation as cv\n",
      "import sklearn.grid_search as gs\n",
      "import matplotlib.pyplot as plt\n",
      "import pandas as pd\n",
      "from sklearn import metrics\n",
      "from sklearn.cross_validation import train_test_split, Bootstrap\n",
      "from sklearn.datasets import make_blobs\n",
      "from sklearn.ensemble import RandomForestClassifier\n",
      "from sklearn.ensemble import ExtraTreesClassifier\n",
      "from sklearn.dummy import DummyClassifier\n",
      "from sklearn.linear_model import LogisticRegression\n",
      "from sklearn.linear_model import RandomizedLogisticRegression\n",
      "from sklearn.naive_bayes import GaussianNB, MultinomialNB, BernoulliNB\n",
      "from sklearn.neighbors import KNeighborsClassifier\n",
      "from sklearn.ensemble import RandomForestClassifier\n",
      "from sklearn.tree import DecisionTreeClassifier\n",
      "from sklearn.metrics import roc_auc_score\n",
      "from IPython.display import Image\n",
      "from sklearn.decomposition import PCA\n",
      "import sklearn.grid_search as gs\n",
      "from sklearn.metrics import recall_score\n",
      "conf_matrix_image = Image(url='https://computersciencesource.files.wordpress.com/2010/01/conmat.png')\n",
      "%matplotlib inline"
     ],
     "language": "python",
     "metadata": {},
     "outputs": [],
     "prompt_number": 1
    },
    {
     "cell_type": "code",
     "collapsed": false,
     "input": [],
     "language": "python",
     "metadata": {},
     "outputs": []
    }
   ],
   "metadata": {}
  }
 ]
}