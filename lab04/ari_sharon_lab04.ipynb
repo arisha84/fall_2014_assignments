{
 "metadata": {
  "name": "",
  "signature": "sha256:1cda5d9b11cc826bc6746a8cdce6e38be7ba4a2686e62809948cca3db7b1e494"
 },
 "nbformat": 3,
 "nbformat_minor": 0,
 "worksheets": [
  {
   "cells": [
    {
     "cell_type": "code",
     "collapsed": false,
     "input": [
      "import pandas as pd\n",
      "import numpy as np"
     ],
     "language": "python",
     "metadata": {},
     "outputs": [],
     "prompt_number": 1
    },
    {
     "cell_type": "code",
     "collapsed": false,
     "input": [
      "http://stat.columbia.edu/~rachel/datasets/nyt1.csv"
     ],
     "language": "python",
     "metadata": {},
     "outputs": []
    },
    {
     "cell_type": "code",
     "collapsed": false,
     "input": [
      "\n",
      "# dropna - drop invalid rows\n",
      "data = pd.read_csv('http://stat.columbia.edu/~rachel/datasets/nyt1.csv').dropna()\n",
      "print \"Number of rows: %i. Number of columns: %i\" %(data.shape[0],data.shape[1])\n",
      "data.head()  # print the first 5 rows"
     ],
     "language": "python",
     "metadata": {},
     "outputs": [
      {
       "output_type": "stream",
       "stream": "stdout",
       "text": [
        "Number of rows: 458441. Number of columns: 5\n"
       ]
      },
      {
       "html": [
        "<div style=\"max-height:1000px;max-width:1500px;overflow:auto;\">\n",
        "<table border=\"1\" class=\"dataframe\">\n",
        "  <thead>\n",
        "    <tr style=\"text-align: right;\">\n",
        "      <th></th>\n",
        "      <th>Age</th>\n",
        "      <th>Gender</th>\n",
        "      <th>Impressions</th>\n",
        "      <th>Clicks</th>\n",
        "      <th>Signed_In</th>\n",
        "    </tr>\n",
        "  </thead>\n",
        "  <tbody>\n",
        "    <tr>\n",
        "      <th>0</th>\n",
        "      <td> 36</td>\n",
        "      <td> 0</td>\n",
        "      <td>  3</td>\n",
        "      <td> 0</td>\n",
        "      <td> 1</td>\n",
        "    </tr>\n",
        "    <tr>\n",
        "      <th>1</th>\n",
        "      <td> 73</td>\n",
        "      <td> 1</td>\n",
        "      <td>  3</td>\n",
        "      <td> 0</td>\n",
        "      <td> 1</td>\n",
        "    </tr>\n",
        "    <tr>\n",
        "      <th>2</th>\n",
        "      <td> 30</td>\n",
        "      <td> 0</td>\n",
        "      <td>  3</td>\n",
        "      <td> 0</td>\n",
        "      <td> 1</td>\n",
        "    </tr>\n",
        "    <tr>\n",
        "      <th>3</th>\n",
        "      <td> 49</td>\n",
        "      <td> 1</td>\n",
        "      <td>  3</td>\n",
        "      <td> 0</td>\n",
        "      <td> 1</td>\n",
        "    </tr>\n",
        "    <tr>\n",
        "      <th>4</th>\n",
        "      <td> 47</td>\n",
        "      <td> 1</td>\n",
        "      <td> 11</td>\n",
        "      <td> 0</td>\n",
        "      <td> 1</td>\n",
        "    </tr>\n",
        "  </tbody>\n",
        "</table>\n",
        "</div>"
       ],
       "metadata": {},
       "output_type": "pyout",
       "prompt_number": 2,
       "text": [
        "   Age  Gender  Impressions  Clicks  Signed_In\n",
        "0   36       0            3       0          1\n",
        "1   73       1            3       0          1\n",
        "2   30       0            3       0          1\n",
        "3   49       1            3       0          1\n",
        "4   47       1           11       0          1"
       ]
      }
     ],
     "prompt_number": 2
    },
    {
     "cell_type": "code",
     "collapsed": false,
     "input": [
      "data.describe()"
     ],
     "language": "python",
     "metadata": {},
     "outputs": [
      {
       "html": [
        "<div style=\"max-height:1000px;max-width:1500px;overflow:auto;\">\n",
        "<table border=\"1\" class=\"dataframe\">\n",
        "  <thead>\n",
        "    <tr style=\"text-align: right;\">\n",
        "      <th></th>\n",
        "      <th>Age</th>\n",
        "      <th>Gender</th>\n",
        "      <th>Impressions</th>\n",
        "      <th>Clicks</th>\n",
        "      <th>Signed_In</th>\n",
        "    </tr>\n",
        "  </thead>\n",
        "  <tbody>\n",
        "    <tr>\n",
        "      <th>count</th>\n",
        "      <td> 458441.000000</td>\n",
        "      <td> 458441.000000</td>\n",
        "      <td> 458441.000000</td>\n",
        "      <td> 458441.000000</td>\n",
        "      <td> 458441.000000</td>\n",
        "    </tr>\n",
        "    <tr>\n",
        "      <th>mean</th>\n",
        "      <td>     29.482551</td>\n",
        "      <td>      0.367037</td>\n",
        "      <td>      5.007316</td>\n",
        "      <td>      0.092594</td>\n",
        "      <td>      0.700930</td>\n",
        "    </tr>\n",
        "    <tr>\n",
        "      <th>std</th>\n",
        "      <td>     23.607034</td>\n",
        "      <td>      0.481997</td>\n",
        "      <td>      2.239349</td>\n",
        "      <td>      0.309973</td>\n",
        "      <td>      0.457851</td>\n",
        "    </tr>\n",
        "    <tr>\n",
        "      <th>min</th>\n",
        "      <td>      0.000000</td>\n",
        "      <td>      0.000000</td>\n",
        "      <td>      0.000000</td>\n",
        "      <td>      0.000000</td>\n",
        "      <td>      0.000000</td>\n",
        "    </tr>\n",
        "    <tr>\n",
        "      <th>25%</th>\n",
        "      <td>      0.000000</td>\n",
        "      <td>      0.000000</td>\n",
        "      <td>      3.000000</td>\n",
        "      <td>      0.000000</td>\n",
        "      <td>      0.000000</td>\n",
        "    </tr>\n",
        "    <tr>\n",
        "      <th>50%</th>\n",
        "      <td>     31.000000</td>\n",
        "      <td>      0.000000</td>\n",
        "      <td>      5.000000</td>\n",
        "      <td>      0.000000</td>\n",
        "      <td>      1.000000</td>\n",
        "    </tr>\n",
        "    <tr>\n",
        "      <th>75%</th>\n",
        "      <td>     48.000000</td>\n",
        "      <td>      1.000000</td>\n",
        "      <td>      6.000000</td>\n",
        "      <td>      0.000000</td>\n",
        "      <td>      1.000000</td>\n",
        "    </tr>\n",
        "    <tr>\n",
        "      <th>max</th>\n",
        "      <td>    108.000000</td>\n",
        "      <td>      1.000000</td>\n",
        "      <td>     20.000000</td>\n",
        "      <td>      4.000000</td>\n",
        "      <td>      1.000000</td>\n",
        "    </tr>\n",
        "  </tbody>\n",
        "</table>\n",
        "</div>"
       ],
       "metadata": {},
       "output_type": "pyout",
       "prompt_number": 5,
       "text": [
        "                 Age         Gender    Impressions         Clicks  \\\n",
        "count  458441.000000  458441.000000  458441.000000  458441.000000   \n",
        "mean       29.482551       0.367037       5.007316       0.092594   \n",
        "std        23.607034       0.481997       2.239349       0.309973   \n",
        "min         0.000000       0.000000       0.000000       0.000000   \n",
        "25%         0.000000       0.000000       3.000000       0.000000   \n",
        "50%        31.000000       0.000000       5.000000       0.000000   \n",
        "75%        48.000000       1.000000       6.000000       0.000000   \n",
        "max       108.000000       1.000000      20.000000       4.000000   \n",
        "\n",
        "           Signed_In  \n",
        "count  458441.000000  \n",
        "mean        0.700930  \n",
        "std         0.457851  \n",
        "min         0.000000  \n",
        "25%         0.000000  \n",
        "50%         1.000000  \n",
        "75%         1.000000  \n",
        "max         1.000000  "
       ]
      }
     ],
     "prompt_number": 5
    },
    {
     "cell_type": "code",
     "collapsed": false,
     "input": [
      "data.corr()"
     ],
     "language": "python",
     "metadata": {},
     "outputs": [
      {
       "html": [
        "<div style=\"max-height:1000px;max-width:1500px;overflow:auto;\">\n",
        "<table border=\"1\" class=\"dataframe\">\n",
        "  <thead>\n",
        "    <tr style=\"text-align: right;\">\n",
        "      <th></th>\n",
        "      <th>Age</th>\n",
        "      <th>Gender</th>\n",
        "      <th>Impressions</th>\n",
        "      <th>Clicks</th>\n",
        "      <th>Signed_In</th>\n",
        "    </tr>\n",
        "  </thead>\n",
        "  <tbody>\n",
        "    <tr>\n",
        "      <th>Age</th>\n",
        "      <td> 1.000000</td>\n",
        "      <td> 0.365833</td>\n",
        "      <td> 0.002906</td>\n",
        "      <td>-0.058254</td>\n",
        "      <td> 0.815780</td>\n",
        "    </tr>\n",
        "    <tr>\n",
        "      <th>Gender</th>\n",
        "      <td> 0.365833</td>\n",
        "      <td> 1.000000</td>\n",
        "      <td> 0.000447</td>\n",
        "      <td>-0.055529</td>\n",
        "      <td> 0.497411</td>\n",
        "    </tr>\n",
        "    <tr>\n",
        "      <th>Impressions</th>\n",
        "      <td> 0.002906</td>\n",
        "      <td> 0.000447</td>\n",
        "      <td> 1.000000</td>\n",
        "      <td> 0.135156</td>\n",
        "      <td> 0.002234</td>\n",
        "    </tr>\n",
        "    <tr>\n",
        "      <th>Clicks</th>\n",
        "      <td>-0.058254</td>\n",
        "      <td>-0.055529</td>\n",
        "      <td> 0.135156</td>\n",
        "      <td> 1.000000</td>\n",
        "      <td>-0.104281</td>\n",
        "    </tr>\n",
        "    <tr>\n",
        "      <th>Signed_In</th>\n",
        "      <td> 0.815780</td>\n",
        "      <td> 0.497411</td>\n",
        "      <td> 0.002234</td>\n",
        "      <td>-0.104281</td>\n",
        "      <td> 1.000000</td>\n",
        "    </tr>\n",
        "  </tbody>\n",
        "</table>\n",
        "</div>"
       ],
       "metadata": {},
       "output_type": "pyout",
       "prompt_number": 4,
       "text": [
        "                  Age    Gender  Impressions    Clicks  Signed_In\n",
        "Age          1.000000  0.365833     0.002906 -0.058254   0.815780\n",
        "Gender       0.365833  1.000000     0.000447 -0.055529   0.497411\n",
        "Impressions  0.002906  0.000447     1.000000  0.135156   0.002234\n",
        "Clicks      -0.058254 -0.055529     0.135156  1.000000  -0.104281\n",
        "Signed_In    0.815780  0.497411     0.002234 -0.104281   1.000000"
       ]
      }
     ],
     "prompt_number": 4
    },
    {
     "cell_type": "code",
     "collapsed": false,
     "input": [
      "data.dropna()\n",
      "'2'"
     ],
     "language": "python",
     "metadata": {},
     "outputs": [
      {
       "metadata": {},
       "output_type": "pyout",
       "prompt_number": 7,
       "text": [
        "'2'"
       ]
      }
     ],
     "prompt_number": 7
    },
    {
     "cell_type": "code",
     "collapsed": false,
     "input": [
      "data[data.Age>0].describe() "
     ],
     "language": "python",
     "metadata": {},
     "outputs": [
      {
       "html": [
        "<div style=\"max-height:1000px;max-width:1500px;overflow:auto;\">\n",
        "<table border=\"1\" class=\"dataframe\">\n",
        "  <thead>\n",
        "    <tr style=\"text-align: right;\">\n",
        "      <th></th>\n",
        "      <th>Age</th>\n",
        "      <th>Gender</th>\n",
        "      <th>Impressions</th>\n",
        "      <th>Clicks</th>\n",
        "      <th>Signed_In</th>\n",
        "    </tr>\n",
        "  </thead>\n",
        "  <tbody>\n",
        "    <tr>\n",
        "      <th>count</th>\n",
        "      <td> 321335.000000</td>\n",
        "      <td> 321335.000000</td>\n",
        "      <td> 321335.000000</td>\n",
        "      <td> 321335.000000</td>\n",
        "      <td> 321335</td>\n",
        "    </tr>\n",
        "    <tr>\n",
        "      <th>mean</th>\n",
        "      <td>     42.062054</td>\n",
        "      <td>      0.523644</td>\n",
        "      <td>      5.010584</td>\n",
        "      <td>      0.071480</td>\n",
        "      <td>      1</td>\n",
        "    </tr>\n",
        "    <tr>\n",
        "      <th>std</th>\n",
        "      <td>     16.308117</td>\n",
        "      <td>      0.499441</td>\n",
        "      <td>      2.238784</td>\n",
        "      <td>      0.268659</td>\n",
        "      <td>      0</td>\n",
        "    </tr>\n",
        "    <tr>\n",
        "      <th>min</th>\n",
        "      <td>      7.000000</td>\n",
        "      <td>      0.000000</td>\n",
        "      <td>      0.000000</td>\n",
        "      <td>      0.000000</td>\n",
        "      <td>      1</td>\n",
        "    </tr>\n",
        "    <tr>\n",
        "      <th>25%</th>\n",
        "      <td>     29.000000</td>\n",
        "      <td>      0.000000</td>\n",
        "      <td>      3.000000</td>\n",
        "      <td>      0.000000</td>\n",
        "      <td>      1</td>\n",
        "    </tr>\n",
        "    <tr>\n",
        "      <th>50%</th>\n",
        "      <td>     41.000000</td>\n",
        "      <td>      1.000000</td>\n",
        "      <td>      5.000000</td>\n",
        "      <td>      0.000000</td>\n",
        "      <td>      1</td>\n",
        "    </tr>\n",
        "    <tr>\n",
        "      <th>75%</th>\n",
        "      <td>     53.000000</td>\n",
        "      <td>      1.000000</td>\n",
        "      <td>      6.000000</td>\n",
        "      <td>      0.000000</td>\n",
        "      <td>      1</td>\n",
        "    </tr>\n",
        "    <tr>\n",
        "      <th>max</th>\n",
        "      <td>    108.000000</td>\n",
        "      <td>      1.000000</td>\n",
        "      <td>     20.000000</td>\n",
        "      <td>      3.000000</td>\n",
        "      <td>      1</td>\n",
        "    </tr>\n",
        "  </tbody>\n",
        "</table>\n",
        "</div>"
       ],
       "metadata": {},
       "output_type": "pyout",
       "prompt_number": 10,
       "text": [
        "                 Age         Gender    Impressions         Clicks  Signed_In\n",
        "count  321335.000000  321335.000000  321335.000000  321335.000000     321335\n",
        "mean       42.062054       0.523644       5.010584       0.071480          1\n",
        "std        16.308117       0.499441       2.238784       0.268659          0\n",
        "min         7.000000       0.000000       0.000000       0.000000          1\n",
        "25%        29.000000       0.000000       3.000000       0.000000          1\n",
        "50%        41.000000       1.000000       5.000000       0.000000          1\n",
        "75%        53.000000       1.000000       6.000000       0.000000          1\n",
        "max       108.000000       1.000000      20.000000       3.000000          1"
       ]
      }
     ],
     "prompt_number": 10
    },
    {
     "cell_type": "code",
     "collapsed": false,
     "input": [
      "data[data.Age>0].count()"
     ],
     "language": "python",
     "metadata": {},
     "outputs": [
      {
       "metadata": {},
       "output_type": "pyout",
       "prompt_number": 11,
       "text": [
        "Age            321335\n",
        "Gender         321335\n",
        "Impressions    321335\n",
        "Clicks         321335\n",
        "Signed_In      321335\n",
        "dtype: int64"
       ]
      }
     ],
     "prompt_number": 11
    },
    {
     "cell_type": "code",
     "collapsed": false,
     "input": [
      "data[data.Impressions==0].count()"
     ],
     "language": "python",
     "metadata": {},
     "outputs": [
      {
       "metadata": {},
       "output_type": "pyout",
       "prompt_number": 16,
       "text": [
        "Age            3066\n",
        "Gender         3066\n",
        "Impressions    3066\n",
        "Clicks         3066\n",
        "Signed_In      3066\n",
        "dtype: int64"
       ]
      }
     ],
     "prompt_number": 16
    },
    {
     "cell_type": "code",
     "collapsed": false,
     "input": [
      "data[data.Age==0].count()"
     ],
     "language": "python",
     "metadata": {},
     "outputs": [
      {
       "metadata": {},
       "output_type": "pyout",
       "prompt_number": 12,
       "text": [
        "Age            137106\n",
        "Gender         137106\n",
        "Impressions    137106\n",
        "Clicks         137106\n",
        "Signed_In      137106\n",
        "dtype: int64"
       ]
      }
     ],
     "prompt_number": 12
    },
    {
     "cell_type": "code",
     "collapsed": false,
     "input": [
      "#data = data[data.Age>0]"
     ],
     "language": "python",
     "metadata": {},
     "outputs": []
    },
    {
     "cell_type": "code",
     "collapsed": false,
     "input": [
      "import matplotlib.pyplot as plt"
     ],
     "language": "python",
     "metadata": {},
     "outputs": [],
     "prompt_number": 13
    },
    {
     "cell_type": "code",
     "collapsed": false,
     "input": [
      "sub = data[data.Signed_In ==1]"
     ],
     "language": "python",
     "metadata": {},
     "outputs": [],
     "prompt_number": 22
    },
    {
     "cell_type": "code",
     "collapsed": false,
     "input": [
      "sub = sub[sub.Impressions >0]"
     ],
     "language": "python",
     "metadata": {},
     "outputs": [],
     "prompt_number": 23
    },
    {
     "cell_type": "code",
     "collapsed": false,
     "input": [
      "plt.scatter(sub['Impressions'], sub['Clicks'])"
     ],
     "language": "python",
     "metadata": {},
     "outputs": [
      {
       "metadata": {},
       "output_type": "pyout",
       "prompt_number": 24,
       "text": [
        "<matplotlib.collections.PathCollection at 0x7ff965b07110>"
       ]
      },
      {
       "metadata": {},
       "output_type": "display_data",
       "png": "[encoded data removed]",
       "text": [
        "<matplotlib.figure.Figure at 0x7ff9636484d0>"
       ]
      }
     ],
     "prompt_number": 24
    },
    {
     "cell_type": "code",
     "collapsed": false,
     "input": [
      "plt.plot(sub['Impressions'], sub['Clicks'])"
     ],
     "language": "python",
     "metadata": {},
     "outputs": [
      {
       "metadata": {},
       "output_type": "pyout",
       "prompt_number": 15,
       "text": [
        "[<matplotlib.lines.Line2D at 0x7ff965c8fd90>]"
       ]
      },
      {
       "metadata": {},
       "output_type": "display_data",
       "png": "[encoded data removed]",
       "text": [
        "<matplotlib.figure.Figure at 0x7ff965cd3f10>"
       ]
      }
     ],
     "prompt_number": 15
    },
    {
     "cell_type": "code",
     "collapsed": false,
     "input": [
      "sub['ctr'] = 1.0*sub.Clicks / sub.Impressions"
     ],
     "language": "python",
     "metadata": {},
     "outputs": [],
     "prompt_number": 27
    },
    {
     "cell_type": "code",
     "collapsed": false,
     "input": [
      "sub.ctr.describe()"
     ],
     "language": "python",
     "metadata": {},
     "outputs": [
      {
       "metadata": {},
       "output_type": "pyout",
       "prompt_number": 28,
       "text": [
        "count    319198.000000\n",
        "mean          0.014254\n",
        "std           0.060280\n",
        "min           0.000000\n",
        "25%           0.000000\n",
        "50%           0.000000\n",
        "75%           0.000000\n",
        "max           1.000000\n",
        "dtype: float64"
       ]
      }
     ],
     "prompt_number": 28
    },
    {
     "cell_type": "code",
     "collapsed": false,
     "input": [],
     "language": "python",
     "metadata": {},
     "outputs": []
    },
    {
     "cell_type": "code",
     "collapsed": false,
     "input": [
      "for i in range(31):\n",
      "    url = 'http://stat.columbia.edu/~rachel/datasets/nyt%d.csv' % (i+1)\n",
      "    if i == 0:\n",
      "        newdata=pd.read_csv(url)\n",
      "    else:\n",
      "        moredata= pd.read_csv(url)\n",
      "        newdata=pd.concat([moredata,newdata])"
     ],
     "language": "python",
     "metadata": {},
     "outputs": []
    }
   ],
   "metadata": {}
  }
 ]
}