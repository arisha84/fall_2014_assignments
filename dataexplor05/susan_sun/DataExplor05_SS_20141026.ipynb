{
 "metadata": {
  "name": "",
  "signature": "sha256:a085ea6beab73fa149ad6e04f0963bd82cb99da6884e2f503547533449d67201"
 },
 "nbformat": 3,
 "nbformat_minor": 0,
 "worksheets": [
  {
   "cells": [
    {
     "cell_type": "code",
     "collapsed": false,
     "input": [
      "# Purpose of this analysis is to predict sentiment of a tweet \n",
      "# based on the text in the tweets.  Sentiment is described with \n",
      "# \"polarity\" where:\n",
      "\n",
      "# 0 = negative\n",
      "# 4 = positive"
     ],
     "language": "python",
     "metadata": {},
     "outputs": []
    },
    {
     "cell_type": "code",
     "collapsed": false,
     "input": [
      "import pandas as pd\n",
      "import numpy as np\n",
      "from sklearn.feature_extraction.text import CountVectorizer"
     ],
     "language": "python",
     "metadata": {},
     "outputs": [],
     "prompt_number": 16
    },
    {
     "cell_type": "code",
     "collapsed": false,
     "input": [],
     "language": "python",
     "metadata": {},
     "outputs": []
    },
    {
     "cell_type": "code",
     "collapsed": false,
     "input": [
      "# import data"
     ],
     "language": "python",
     "metadata": {},
     "outputs": []
    },
    {
     "cell_type": "code",
     "collapsed": false,
     "input": [
      "df = pd.read_csv('https://raw.githubusercontent.com/TeachingDataScience/data-science-course/forstudentviewing/12_Naive_Bayes/twitter_training/sts_gold_tweet.csv',';')"
     ],
     "language": "python",
     "metadata": {},
     "outputs": [],
     "prompt_number": 17
    },
    {
     "cell_type": "code",
     "collapsed": false,
     "input": [],
     "language": "python",
     "metadata": {},
     "outputs": []
    },
    {
     "cell_type": "code",
     "collapsed": false,
     "input": [
      "# data exploration"
     ],
     "language": "python",
     "metadata": {},
     "outputs": []
    },
    {
     "cell_type": "code",
     "collapsed": false,
     "input": [
      "# quick look at data\n",
      "df.head()"
     ],
     "language": "python",
     "metadata": {},
     "outputs": [
      {
       "html": [
        "<div style=\"max-height:1000px;max-width:1500px;overflow:auto;\">\n",
        "<table border=\"1\" class=\"dataframe\">\n",
        "  <thead>\n",
        "    <tr style=\"text-align: right;\">\n",
        "      <th></th>\n",
        "      <th>id</th>\n",
        "      <th>polarity</th>\n",
        "      <th>tweet</th>\n",
        "    </tr>\n",
        "  </thead>\n",
        "  <tbody>\n",
        "    <tr>\n",
        "      <th>0</th>\n",
        "      <td> 1467933112</td>\n",
        "      <td> 0</td>\n",
        "      <td> the angel is going to miss the athlete this we...</td>\n",
        "    </tr>\n",
        "    <tr>\n",
        "      <th>1</th>\n",
        "      <td> 2323395086</td>\n",
        "      <td> 0</td>\n",
        "      <td> It looks as though Shaq is getting traded to C...</td>\n",
        "    </tr>\n",
        "    <tr>\n",
        "      <th>2</th>\n",
        "      <td> 1467968979</td>\n",
        "      <td> 0</td>\n",
        "      <td>    @clarianne APRIL 9TH ISN'T COMING SOON ENOUGH </td>\n",
        "    </tr>\n",
        "    <tr>\n",
        "      <th>3</th>\n",
        "      <td> 1990283756</td>\n",
        "      <td> 0</td>\n",
        "      <td> drinking a McDonalds coffee and not understand...</td>\n",
        "    </tr>\n",
        "    <tr>\n",
        "      <th>4</th>\n",
        "      <td> 1988884918</td>\n",
        "      <td> 0</td>\n",
        "      <td> So dissapointed Taylor Swift doesnt have a Twi...</td>\n",
        "    </tr>\n",
        "  </tbody>\n",
        "</table>\n",
        "</div>"
       ],
       "metadata": {},
       "output_type": "pyout",
       "prompt_number": 19,
       "text": [
        "           id  polarity                                              tweet\n",
        "0  1467933112         0  the angel is going to miss the athlete this we...\n",
        "1  2323395086         0  It looks as though Shaq is getting traded to C...\n",
        "2  1467968979         0     @clarianne APRIL 9TH ISN'T COMING SOON ENOUGH \n",
        "3  1990283756         0  drinking a McDonalds coffee and not understand...\n",
        "4  1988884918         0  So dissapointed Taylor Swift doesnt have a Twi..."
       ]
      }
     ],
     "prompt_number": 19
    },
    {
     "cell_type": "code",
     "collapsed": false,
     "input": [
      "# make sure there are no rows with missing data\n",
      "len(df), len(df.dropna())"
     ],
     "language": "python",
     "metadata": {},
     "outputs": [
      {
       "metadata": {},
       "output_type": "pyout",
       "prompt_number": 20,
       "text": [
        "(2034, 2034)"
       ]
      }
     ],
     "prompt_number": 20
    },
    {
     "cell_type": "code",
     "collapsed": false,
     "input": [
      "# making sure there are only 0 and 4 values for polarity\n",
      "df.polarity.value_counts()"
     ],
     "language": "python",
     "metadata": {},
     "outputs": [
      {
       "metadata": {},
       "output_type": "pyout",
       "prompt_number": 22,
       "text": [
        "0    1402\n",
        "4     632\n",
        "dtype: int64"
       ]
      }
     ],
     "prompt_number": 22
    },
    {
     "cell_type": "code",
     "collapsed": false,
     "input": [
      "# making sure that the id's are distinct, no dups\n",
      "df.id.value_counts()"
     ],
     "language": "python",
     "metadata": {},
     "outputs": [
      {
       "metadata": {},
       "output_type": "pyout",
       "prompt_number": 113,
       "text": [
        "2018145532    1\n",
        "2174569897    1\n",
        "2045826754    1\n",
        "1687790990    1\n",
        "2213258642    1\n",
        "1467987350    1\n",
        "1467841943    1\n",
        "1753038233    1\n",
        "2054471067    1\n",
        "2243126686    1\n",
        "1467960735    1\n",
        "1467841957    1\n",
        "2233259430    1\n",
        "1995759015    1\n",
        "2261476776    1\n",
        "...\n",
        "1976486578    1\n",
        "2072208051    1\n",
        "1467948434    1\n",
        "2178665142    1\n",
        "2071993016    1\n",
        "2053634746    1\n",
        "1467824828    1\n",
        "1961864642    1\n",
        "2235122367    1\n",
        "2211318464    1\n",
        "1467918126    1\n",
        "1834752708    1\n",
        "1822896837    1\n",
        "2002295494    1\n",
        "1467842568    1\n",
        "Length: 2034, dtype: int64"
       ]
      }
     ],
     "prompt_number": 113
    },
    {
     "cell_type": "code",
     "collapsed": false,
     "input": [],
     "language": "python",
     "metadata": {},
     "outputs": [],
     "prompt_number": 113
    },
    {
     "cell_type": "code",
     "collapsed": false,
     "input": [
      "# preparing covariate/feature data for modeling"
     ],
     "language": "python",
     "metadata": {},
     "outputs": []
    },
    {
     "cell_type": "code",
     "collapsed": false,
     "input": [
      "# build n_gram of 1 to n with stop_words = english\n",
      "# purposely set nmax to a high number (50) to create every single\n",
      "# ngram possible..\n",
      "\n",
      "vectorizer_1_50 = CountVectorizer(ngram_range = (1,50), stop_words = 'english')\n",
      "vectorizer_1_50"
     ],
     "language": "python",
     "metadata": {},
     "outputs": [
      {
       "metadata": {},
       "output_type": "pyout",
       "prompt_number": 85,
       "text": [
        "CountVectorizer(analyzer=u'word', binary=False, charset=None,\n",
        "        charset_error=None, decode_error=u'strict',\n",
        "        dtype=<type 'numpy.int64'>, encoding=u'utf-8', input=u'content',\n",
        "        lowercase=True, max_df=1.0, max_features=None, min_df=1,\n",
        "        ngram_range=(1, 60), preprocessor=None, stop_words='english',\n",
        "        strip_accents=None, token_pattern=u'(?u)\\\\b\\\\w\\\\w+\\\\b',\n",
        "        tokenizer=None, vocabulary=None)"
       ]
      }
     ],
     "prompt_number": 85
    },
    {
     "cell_type": "code",
     "collapsed": false,
     "input": [
      "# create n_gram fit and transform into sparse matrix in one go\n",
      "x_fit_transform = vectorizer_1_50.fit_transform(df.tweet)\n",
      "\n",
      "print x_fit_transform.shape"
     ],
     "language": "python",
     "metadata": {},
     "outputs": [
      {
       "output_type": "stream",
       "stream": "stdout",
       "text": [
        "(2034, 72009)\n"
       ]
      }
     ],
     "prompt_number": 114
    },
    {
     "cell_type": "code",
     "collapsed": false,
     "input": [],
     "language": "python",
     "metadata": {},
     "outputs": [],
     "prompt_number": 114
    },
    {
     "cell_type": "code",
     "collapsed": false,
     "input": [
      "# preparing dependent variable for modeling"
     ],
     "language": "python",
     "metadata": {},
     "outputs": []
    },
    {
     "cell_type": "code",
     "collapsed": false,
     "input": [
      "# transform the dependent variable to binary\n",
      "Y = (df.polarity == 4).values.astype(np.int)\n",
      "print Y.shape, len(Y), len(Y[Y==1]), len(Y[Y==0])"
     ],
     "language": "python",
     "metadata": {},
     "outputs": [
      {
       "output_type": "stream",
       "stream": "stdout",
       "text": [
        "(2034,) 2034 632 1402\n"
       ]
      }
     ],
     "prompt_number": 115
    },
    {
     "cell_type": "code",
     "collapsed": false,
     "input": [],
     "language": "python",
     "metadata": {},
     "outputs": [],
     "prompt_number": 115
    },
    {
     "cell_type": "code",
     "collapsed": false,
     "input": [
      "# split dataset into testing and training"
     ],
     "language": "python",
     "metadata": {},
     "outputs": []
    },
    {
     "cell_type": "code",
     "collapsed": false,
     "input": [
      "from sklearn.cross_validation import train_test_split\n",
      "xtrain, xtest, ytrain, ytest = train_test_split(x_fit_transform, Y)\n",
      "\n",
      "# make sure the split is done correctly\n",
      "xtrain, xtest, len(ytrain), len(ytest)"
     ],
     "language": "python",
     "metadata": {},
     "outputs": [
      {
       "metadata": {},
       "output_type": "pyout",
       "prompt_number": 116,
       "text": [
        "(<1525x72009 sparse matrix of type '<type 'numpy.int64'>'\n",
        " \twith 62598 stored elements in Compressed Sparse Row format>,\n",
        " <509x72009 sparse matrix of type '<type 'numpy.int64'>'\n",
        " \twith 21318 stored elements in Compressed Sparse Row format>,\n",
        " 1525,\n",
        " 509)"
       ]
      }
     ],
     "prompt_number": 116
    },
    {
     "cell_type": "code",
     "collapsed": false,
     "input": [],
     "language": "python",
     "metadata": {},
     "outputs": [],
     "prompt_number": 116
    },
    {
     "cell_type": "code",
     "collapsed": false,
     "input": [
      "# build 3 models: Multinomial Naive Bayes, Bernoulli's Naive Bayes\n",
      "# and Logistic Regression"
     ],
     "language": "python",
     "metadata": {},
     "outputs": []
    },
    {
     "cell_type": "code",
     "collapsed": false,
     "input": [
      "# fit classification using MultinomialNB\n",
      "\n",
      "from sklearn.naive_bayes import MultinomialNB\n",
      "\n",
      "fitmt = MultinomialNB().fit(xtrain, ytrain)\n",
      "print\"Predictability score on training data is:\",fitmt.score(xtrain, ytrain)\n",
      "print\"Predictability score on test data is:\",fitmt.score(xtest, ytest)\n"
     ],
     "language": "python",
     "metadata": {},
     "outputs": [
      {
       "output_type": "stream",
       "stream": "stdout",
       "text": [
        "Predictability score on training data is: 0.998032786885\n",
        "Predictability score on test data is: 0.646365422397\n"
       ]
      }
     ],
     "prompt_number": 109
    },
    {
     "cell_type": "code",
     "collapsed": false,
     "input": [
      "# fit classification using BernoulliNB\n",
      "\n",
      "from sklearn.naive_bayes import BernoulliNB\n",
      "\n",
      "fitbm = BernoulliNB().fit(xtrain, ytrain)\n",
      "print\"Predictability score on training data is:\",fitbm.score(xtrain, ytrain)\n",
      "print\"Predictability score on test data is:\",fitbm.score(xtest, ytest)\n"
     ],
     "language": "python",
     "metadata": {},
     "outputs": [
      {
       "output_type": "stream",
       "stream": "stdout",
       "text": [
        "Predictability score on training data is: 0.778360655738\n",
        "Predictability score on test data is: "
       ]
      },
      {
       "output_type": "stream",
       "stream": "stdout",
       "text": [
        "0.660117878193\n"
       ]
      }
     ],
     "prompt_number": 110
    },
    {
     "cell_type": "code",
     "collapsed": false,
     "input": [
      "# fit classification using Logistic Regression (not Naive Bayes)\n",
      "\n",
      "from sklearn.linear_model import LogisticRegression\n",
      "\n",
      "fitlg = LogisticRegression().fit(xtrain, ytrain)\n",
      "print\"Predictability score on training data is:\",fitlg.score(xtrain, ytrain)\n",
      "print\"Predictability score on test data is:\",fitlg.score(xtest, ytest)"
     ],
     "language": "python",
     "metadata": {},
     "outputs": [
      {
       "output_type": "stream",
       "stream": "stdout",
       "text": [
        "Predictability score on training data is: 0.99737704918\n",
        "Predictability score on test data is: 0.764243614931\n"
       ]
      }
     ],
     "prompt_number": 111
    },
    {
     "cell_type": "code",
     "collapsed": false,
     "input": [
      "# conclusion: logistic regression tested best on test and training"
     ],
     "language": "python",
     "metadata": {},
     "outputs": [],
     "prompt_number": 112
    },
    {
     "cell_type": "code",
     "collapsed": false,
     "input": [],
     "language": "python",
     "metadata": {},
     "outputs": [],
     "prompt_number": 112
    },
    {
     "cell_type": "code",
     "collapsed": false,
     "input": [
      "# take a look at the wrong prediction in logistic regression..."
     ],
     "language": "python",
     "metadata": {},
     "outputs": [],
     "prompt_number": 117
    },
    {
     "cell_type": "code",
     "collapsed": false,
     "input": [
      "x_fit_transform.shape"
     ],
     "language": "python",
     "metadata": {},
     "outputs": [
      {
       "metadata": {},
       "output_type": "pyout",
       "prompt_number": 125,
       "text": [
        "(2034, 72009)"
       ]
      }
     ],
     "prompt_number": 125
    },
    {
     "cell_type": "code",
     "collapsed": false,
     "input": [
      "# # save the prediction\n",
      "predict = fitlg.predict(x_fit_transform)\n",
      "prob = fitlg.predict_proba(x_fit_transform[:, 0])\n",
      "\n",
      "# # ^ couldn't complete the above part, because got the same error\n",
      "# # as the lab.. how to reshape x_fit_transform so I could calculate\n",
      "# # the predictability?"
     ],
     "language": "python",
     "metadata": {},
     "outputs": [],
     "prompt_number": 128
    },
    {
     "cell_type": "code",
     "collapsed": false,
     "input": [
      "# top 10 classification errors in either category\n",
      "bad_negative = np.argsort(prob[Y == 0][:10])\n",
      "bad_positive = np.argsort(prob[Y == 1][-10:])"
     ],
     "language": "python",
     "metadata": {},
     "outputs": []
    },
    {
     "cell_type": "code",
     "collapsed": false,
     "input": [
      "print \"Mis-predicted Negative Tweets\"\n",
      "print '---------------------------'\n",
      "for row in bad_negative:\n",
      "    print df[Y == 0].tweet.irow(row)\n",
      "    print\n",
      "\n",
      "print \"Mis-predicted Positive Tweets\"\n",
      "print '--------------------------'\n",
      "for row in bad_postive:\n",
      "    print df[Y == 1].tweet.irow(row)\n",
      "    print"
     ],
     "language": "python",
     "metadata": {},
     "outputs": []
    }
   ],
   "metadata": {}
  }
 ]
}