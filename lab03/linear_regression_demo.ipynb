{
 "metadata": {
  "name": "",
  "signature": "sha256:f7fd30c7b2f3013c319e93fe4adc268d50c31802f01ba79d1a68335ea0599713"
 },
 "nbformat": 3,
 "nbformat_minor": 0,
 "worksheets": [
  {
   "cells": [
    {
     "cell_type": "code",
     "collapsed": false,
     "input": [],
     "language": "python",
     "metadata": {},
     "outputs": []
    },
    {
     "cell_type": "code",
     "collapsed": false,
     "input": [
      "import pandas as pd\n",
      "import numpy as np\n",
      "import matplotlib.pyplot as plt\n",
      "import seaborn as sns\n",
      "from sklearn.linear_model import LinearRegression\n",
      "from IPython.display import Image"
     ],
     "language": "python",
     "metadata": {},
     "outputs": [],
     "prompt_number": 1
    },
    {
     "cell_type": "markdown",
     "metadata": {},
     "source": [
      "### Steps:\n",
      "\n",
      "1. Create random training data for X and y\n",
      "2. Visualize\n",
      "3. Create sklearn Linear Regression Model and fit training data to it\n",
      "4. Create test input data, plug it into the model, and get predicted values for y (y_hat)\n",
      "5. Visualize"
     ]
    },
    {
     "cell_type": "markdown",
     "metadata": {},
     "source": [
      "#### Create some random data"
     ]
    },
    {
     "cell_type": "code",
     "collapsed": false,
     "input": [
      "np.random.seed(0)"
     ],
     "language": "python",
     "metadata": {},
     "outputs": [],
     "prompt_number": 2
    },
    {
     "cell_type": "code",
     "collapsed": false,
     "input": [
      "# Random data\n",
      "Image(url='http://imgs.xkcd.com/comics/random_number.png')"
     ],
     "language": "python",
     "metadata": {},
     "outputs": [
      {
       "html": [
        "<img src=\"http://imgs.xkcd.com/comics/random_number.png\"/>"
       ],
       "metadata": {},
       "output_type": "pyout",
       "prompt_number": 3,
       "text": [
        "<IPython.core.display.Image at 0x7f7e6dc9b850>"
       ]
      }
     ],
     "prompt_number": 3
    },
    {
     "cell_type": "markdown",
     "metadata": {},
     "source": [
      "#### Generate X values"
     ]
    },
    {
     "cell_type": "code",
     "collapsed": false,
     "input": [
      "X = np.random.random(size=(20, 1)) # The size of the input array is expected to be [n_samples, n_features]\n",
      "X"
     ],
     "language": "python",
     "metadata": {},
     "outputs": [
      {
       "metadata": {},
       "output_type": "pyout",
       "prompt_number": 20,
       "text": [
        "array([[ 0.36371077],\n",
        "       [ 0.57019677],\n",
        "       [ 0.43860151],\n",
        "       [ 0.98837384],\n",
        "       [ 0.10204481],\n",
        "       [ 0.20887676],\n",
        "       [ 0.16130952],\n",
        "       [ 0.65310833],\n",
        "       [ 0.2532916 ],\n",
        "       [ 0.46631077],\n",
        "       [ 0.24442559],\n",
        "       [ 0.15896958],\n",
        "       [ 0.11037514],\n",
        "       [ 0.65632959],\n",
        "       [ 0.13818295],\n",
        "       [ 0.19658236],\n",
        "       [ 0.36872517],\n",
        "       [ 0.82099323],\n",
        "       [ 0.09710128],\n",
        "       [ 0.83794491]])"
       ]
      }
     ],
     "prompt_number": 20
    },
    {
     "cell_type": "code",
     "collapsed": false,
     "input": [
      "print X"
     ],
     "language": "python",
     "metadata": {},
     "outputs": [
      {
       "output_type": "stream",
       "stream": "stdout",
       "text": [
        "[[ 0.36371077]\n",
        " [ 0.57019677]\n",
        " [ 0.43860151]\n",
        " [ 0.98837384]\n",
        " [ 0.10204481]\n",
        " [ 0.20887676]\n",
        " [ 0.16130952]\n",
        " [ 0.65310833]\n",
        " [ 0.2532916 ]\n",
        " [ 0.46631077]\n",
        " [ 0.24442559]\n",
        " [ 0.15896958]\n",
        " [ 0.11037514]\n",
        " [ 0.65632959]\n",
        " [ 0.13818295]\n",
        " [ 0.19658236]\n",
        " [ 0.36872517]\n",
        " [ 0.82099323]\n",
        " [ 0.09710128]\n",
        " [ 0.83794491]]\n"
       ]
      }
     ],
     "prompt_number": 21
    },
    {
     "cell_type": "markdown",
     "metadata": {},
     "source": [
      "#### Generate y values\n",
      "1. what does the \"squeeze\" method do?\n",
      "2. why do we include X when we generate y?\n",
      "3. what happens to y when we change the numbers around?"
     ]
    },
    {
     "cell_type": "code",
     "collapsed": false,
     "input": [
      "y = 2 + 3 * X.squeeze() + np.random.normal(size=20)\n",
      "y"
     ],
     "language": "python",
     "metadata": {},
     "outputs": [
      {
       "metadata": {},
       "output_type": "pyout",
       "prompt_number": 24,
       "text": [
        "array([ 1.92598247,  4.6114168 ,  3.78146698,  3.42887783,  3.79438663,\n",
        "        4.52251944,  3.66270812,  3.77940014,  1.68912219,  4.45338405,\n",
        "        2.33009983,  3.69935382,  2.5394004 ,  4.9456278 ,  2.77091525,\n",
        "        3.29632025,  3.11667553,  6.24885018,  2.41821592,  4.91582409])"
       ]
      }
     ],
     "prompt_number": 24
    },
    {
     "cell_type": "markdown",
     "metadata": {},
     "source": [
      "#### Guess the output of each line in the following cell"
     ]
    },
    {
     "cell_type": "code",
     "collapsed": false,
     "input": [
      "example_X = np.random.random(size=(5, 1)) \n",
      "print example_X\n",
      "print example_X.shape\n",
      "print example_X.squeeze()\n",
      "print example_X.flatten()\n",
      "print example_X.reshape(example_X.size)"
     ],
     "language": "python",
     "metadata": {},
     "outputs": [
      {
       "output_type": "stream",
       "stream": "stdout",
       "text": [
        "[[ 0.42385505]\n",
        " [ 0.60639321]\n",
        " [ 0.0191932 ]\n",
        " [ 0.30157482]\n",
        " [ 0.66017354]]\n",
        "(5, 1)\n",
        "[ 0.42385505  0.60639321  0.0191932   0.30157482  0.66017354]\n",
        "[ 0.42385505  0.60639321  0.0191932   0.30157482  0.66017354]\n",
        "[ 0.42385505  0.60639321  0.0191932   0.30157482  0.66017354]\n"
       ]
      }
     ],
     "prompt_number": 25
    },
    {
     "cell_type": "code",
     "collapsed": false,
     "input": [
      "print (X)\n",
      "print (y.reshape(y.size,1))"
     ],
     "language": "python",
     "metadata": {},
     "outputs": [
      {
       "output_type": "stream",
       "stream": "stdout",
       "text": [
        "[[ 0.36371077]\n",
        " [ 0.57019677]\n",
        " [ 0.43860151]\n",
        " [ 0.98837384]\n",
        " [ 0.10204481]\n",
        " [ 0.20887676]\n",
        " [ 0.16130952]\n",
        " [ 0.65310833]\n",
        " [ 0.2532916 ]\n",
        " [ 0.46631077]\n",
        " [ 0.24442559]\n",
        " [ 0.15896958]\n",
        " [ 0.11037514]\n",
        " [ 0.65632959]\n",
        " [ 0.13818295]\n",
        " [ 0.19658236]\n",
        " [ 0.36872517]\n",
        " [ 0.82099323]\n",
        " [ 0.09710128]\n",
        " [ 0.83794491]]\n",
        "[[ 1.92598247]\n",
        " [ 4.6114168 ]\n",
        " [ 3.78146698]\n",
        " [ 3.42887783]\n",
        " [ 3.79438663]\n",
        " [ 4.52251944]\n",
        " [ 3.66270812]\n",
        " [ 3.77940014]\n",
        " [ 1.68912219]\n",
        " [ 4.45338405]\n",
        " [ 2.33009983]\n",
        " [ 3.69935382]\n",
        " [ 2.5394004 ]\n",
        " [ 4.9456278 ]\n",
        " [ 2.77091525]\n",
        " [ 3.29632025]\n",
        " [ 3.11667553]\n",
        " [ 6.24885018]\n",
        " [ 2.41821592]\n",
        " [ 4.91582409]]\n"
       ]
      }
     ],
     "prompt_number": 29
    },
    {
     "cell_type": "code",
     "collapsed": false,
     "input": [
      "# Visualize this training dataset\n",
      "plt.plot(X,y.reshape(y.size,1),'o')"
     ],
     "language": "python",
     "metadata": {},
     "outputs": [
      {
       "metadata": {},
       "output_type": "pyout",
       "prompt_number": 30,
       "text": [
        "[<matplotlib.lines.Line2D at 0x7f7e56c3fc50>]"
       ]
      },
      {
       "metadata": {},
       "output_type": "display_data",
       "png": "[encoded data removed]",
       "text": [
        "<matplotlib.figure.Figure at 0x7f7e56f0fd90>"
       ]
      }
     ],
     "prompt_number": 30
    },
    {
     "cell_type": "code",
     "collapsed": false,
     "input": [
      "plt.plot(X,y,'o')"
     ],
     "language": "python",
     "metadata": {},
     "outputs": [
      {
       "metadata": {},
       "output_type": "pyout",
       "prompt_number": 31,
       "text": [
        "[<matplotlib.lines.Line2D at 0x7f7e56b72bd0>]"
       ]
      },
      {
       "metadata": {},
       "output_type": "display_data",
       "png": "[encoded data removed]",
       "text": [
        "<matplotlib.figure.Figure at 0x7f7e56bf4150>"
       ]
      }
     ],
     "prompt_number": 31
    },
    {
     "cell_type": "markdown",
     "metadata": {},
     "source": [
      "#### Create a model and fit a linear regression to it"
     ]
    },
    {
     "cell_type": "code",
     "collapsed": false,
     "input": [
      "X?"
     ],
     "language": "python",
     "metadata": {},
     "outputs": [],
     "prompt_number": 14
    },
    {
     "cell_type": "code",
     "collapsed": false,
     "input": [
      "model = LinearRegression(fit_intercept=True)\n",
      "model.fit(X, y)\n",
      "print (\"Model coefficient: %.5f, and intercept: %.5f\"\n",
      "       % (model.coef_, model.intercept_))\n"
     ],
     "language": "python",
     "metadata": {},
     "outputs": [
      {
       "output_type": "stream",
       "stream": "stdout",
       "text": [
        "Model coefficient: 3.93491, and intercept: 1.46229\n"
       ]
      }
     ],
     "prompt_number": 10
    },
    {
     "cell_type": "markdown",
     "metadata": {},
     "source": [
      "#### Plot the data and the model prediction\n",
      "1. what does np.linspace do?\n",
      "2. why do we need to reshape it?"
     ]
    },
    {
     "cell_type": "code",
     "collapsed": false,
     "input": [
      "t = np.linspace(0, 1, 100)\n",
      "#print (t)\n",
      "#print (t.reshape(100,1))\n",
      "np.linspace?"
     ],
     "language": "python",
     "metadata": {},
     "outputs": [],
     "prompt_number": 38
    },
    {
     "cell_type": "code",
     "collapsed": false,
     "input": [
      "X_test = np.linspace(0, 1, 100).reshape(100,1)\n",
      "y_hat = model.predict(X_test)"
     ],
     "language": "python",
     "metadata": {},
     "outputs": [],
     "prompt_number": 11
    },
    {
     "cell_type": "markdown",
     "metadata": {},
     "source": [
      "#### Plot the train data and regression!"
     ]
    },
    {
     "cell_type": "code",
     "collapsed": false,
     "input": [
      "plt.plot(X, y, 'o')\n",
      "plt.plot(X_test, y_hat)"
     ],
     "language": "python",
     "metadata": {},
     "outputs": [
      {
       "metadata": {},
       "output_type": "pyout",
       "prompt_number": 12,
       "text": [
        "[<matplotlib.lines.Line2D at 0x7f7e56ff1110>]"
       ]
      },
      {
       "metadata": {},
       "output_type": "display_data",
       "png": "[encoded data removed]",
       "text": [
        "<matplotlib.figure.Figure at 0x7f7e56ff1990>"
       ]
      }
     ],
     "prompt_number": 12
    },
    {
     "cell_type": "code",
     "collapsed": false,
     "input": [
      "X_test"
     ],
     "language": "python",
     "metadata": {},
     "outputs": [
      {
       "metadata": {},
       "output_type": "pyout",
       "prompt_number": 18,
       "text": [
        "array([[ 0.        ],\n",
        "       [ 0.01010101],\n",
        "       [ 0.02020202],\n",
        "       [ 0.03030303],\n",
        "       [ 0.04040404],\n",
        "       [ 0.05050505],\n",
        "       [ 0.06060606],\n",
        "       [ 0.07070707],\n",
        "       [ 0.08080808],\n",
        "       [ 0.09090909],\n",
        "       [ 0.1010101 ],\n",
        "       [ 0.11111111],\n",
        "       [ 0.12121212],\n",
        "       [ 0.13131313],\n",
        "       [ 0.14141414],\n",
        "       [ 0.15151515],\n",
        "       [ 0.16161616],\n",
        "       [ 0.17171717],\n",
        "       [ 0.18181818],\n",
        "       [ 0.19191919],\n",
        "       [ 0.2020202 ],\n",
        "       [ 0.21212121],\n",
        "       [ 0.22222222],\n",
        "       [ 0.23232323],\n",
        "       [ 0.24242424],\n",
        "       [ 0.25252525],\n",
        "       [ 0.26262626],\n",
        "       [ 0.27272727],\n",
        "       [ 0.28282828],\n",
        "       [ 0.29292929],\n",
        "       [ 0.3030303 ],\n",
        "       [ 0.31313131],\n",
        "       [ 0.32323232],\n",
        "       [ 0.33333333],\n",
        "       [ 0.34343434],\n",
        "       [ 0.35353535],\n",
        "       [ 0.36363636],\n",
        "       [ 0.37373737],\n",
        "       [ 0.38383838],\n",
        "       [ 0.39393939],\n",
        "       [ 0.4040404 ],\n",
        "       [ 0.41414141],\n",
        "       [ 0.42424242],\n",
        "       [ 0.43434343],\n",
        "       [ 0.44444444],\n",
        "       [ 0.45454545],\n",
        "       [ 0.46464646],\n",
        "       [ 0.47474747],\n",
        "       [ 0.48484848],\n",
        "       [ 0.49494949],\n",
        "       [ 0.50505051],\n",
        "       [ 0.51515152],\n",
        "       [ 0.52525253],\n",
        "       [ 0.53535354],\n",
        "       [ 0.54545455],\n",
        "       [ 0.55555556],\n",
        "       [ 0.56565657],\n",
        "       [ 0.57575758],\n",
        "       [ 0.58585859],\n",
        "       [ 0.5959596 ],\n",
        "       [ 0.60606061],\n",
        "       [ 0.61616162],\n",
        "       [ 0.62626263],\n",
        "       [ 0.63636364],\n",
        "       [ 0.64646465],\n",
        "       [ 0.65656566],\n",
        "       [ 0.66666667],\n",
        "       [ 0.67676768],\n",
        "       [ 0.68686869],\n",
        "       [ 0.6969697 ],\n",
        "       [ 0.70707071],\n",
        "       [ 0.71717172],\n",
        "       [ 0.72727273],\n",
        "       [ 0.73737374],\n",
        "       [ 0.74747475],\n",
        "       [ 0.75757576],\n",
        "       [ 0.76767677],\n",
        "       [ 0.77777778],\n",
        "       [ 0.78787879],\n",
        "       [ 0.7979798 ],\n",
        "       [ 0.80808081],\n",
        "       [ 0.81818182],\n",
        "       [ 0.82828283],\n",
        "       [ 0.83838384],\n",
        "       [ 0.84848485],\n",
        "       [ 0.85858586],\n",
        "       [ 0.86868687],\n",
        "       [ 0.87878788],\n",
        "       [ 0.88888889],\n",
        "       [ 0.8989899 ],\n",
        "       [ 0.90909091],\n",
        "       [ 0.91919192],\n",
        "       [ 0.92929293],\n",
        "       [ 0.93939394],\n",
        "       [ 0.94949495],\n",
        "       [ 0.95959596],\n",
        "       [ 0.96969697],\n",
        "       [ 0.97979798],\n",
        "       [ 0.98989899],\n",
        "       [ 1.        ]])"
       ]
      }
     ],
     "prompt_number": 18
    },
    {
     "cell_type": "code",
     "collapsed": false,
     "input": [
      "y_hat"
     ],
     "language": "python",
     "metadata": {},
     "outputs": [
      {
       "metadata": {},
       "output_type": "pyout",
       "prompt_number": 19,
       "text": [
        "array([ 1.46229079,  1.50203737,  1.54178395,  1.58153052,  1.6212771 ,\n",
        "        1.66102368,  1.70077026,  1.74051684,  1.78026342,  1.82000999,\n",
        "        1.85975657,  1.89950315,  1.93924973,  1.97899631,  2.01874289,\n",
        "        2.05848947,  2.09823604,  2.13798262,  2.1777292 ,  2.21747578,\n",
        "        2.25722236,  2.29696894,  2.33671551,  2.37646209,  2.41620867,\n",
        "        2.45595525,  2.49570183,  2.53544841,  2.57519498,  2.61494156,\n",
        "        2.65468814,  2.69443472,  2.7341813 ,  2.77392788,  2.81367445,\n",
        "        2.85342103,  2.89316761,  2.93291419,  2.97266077,  3.01240735,\n",
        "        3.05215393,  3.0919005 ,  3.13164708,  3.17139366,  3.21114024,\n",
        "        3.25088682,  3.2906334 ,  3.33037997,  3.37012655,  3.40987313,\n",
        "        3.44961971,  3.48936629,  3.52911287,  3.56885944,  3.60860602,\n",
        "        3.6483526 ,  3.68809918,  3.72784576,  3.76759234,  3.80733891,\n",
        "        3.84708549,  3.88683207,  3.92657865,  3.96632523,  4.00607181,\n",
        "        4.04581839,  4.08556496,  4.12531154,  4.16505812,  4.2048047 ,\n",
        "        4.24455128,  4.28429786,  4.32404443,  4.36379101,  4.40353759,\n",
        "        4.44328417,  4.48303075,  4.52277733,  4.5625239 ,  4.60227048,\n",
        "        4.64201706,  4.68176364,  4.72151022,  4.7612568 ,  4.80100338,\n",
        "        4.84074995,  4.88049653,  4.92024311,  4.95998969,  4.99973627,\n",
        "        5.03948285,  5.07922942,  5.118976  ,  5.15872258,  5.19846916,\n",
        "        5.23821574,  5.27796232,  5.31770889,  5.35745547,  5.39720205])"
       ]
      }
     ],
     "prompt_number": 19
    },
    {
     "cell_type": "code",
     "collapsed": false,
     "input": [],
     "language": "python",
     "metadata": {},
     "outputs": []
    }
   ],
   "metadata": {}
  }
 ]
}