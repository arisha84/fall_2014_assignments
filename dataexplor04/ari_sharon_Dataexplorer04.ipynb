{
 "metadata": {
  "name": "",
  "signature": "sha256:97464705b0eb01536e9d5148e173d3afe36ae951469a66505aab6a3692c8921f"
 },
 "nbformat": 3,
 "nbformat_minor": 0,
 "worksheets": [
  {
   "cells": [
    {
     "cell_type": "code",
     "collapsed": false,
     "input": [
      "import sklearn as sk\n",
      "from sklearn.datasets import load_diabetes\n",
      "from sklearn.linear_model import LinearRegression\n",
      "from sklearn.metrics import explained_variance_score\n",
      "from sklearn.linear_model import LinearRegression, Ridge, Lasso\n",
      "from sklearn import cross_validation\n",
      "import numpy as np\n",
      "import pandas as pd\n",
      "from sklearn.cross_validation import KFold\n",
      "from sklearn.cross_validation import train_test_split\n",
      "from sklearn.cross_validation import cross_val_score\n",
      "from sklearn.metrics import mean_squared_error\n",
      "from itertools import combinations\n",
      "from collections import defaultdict"
     ],
     "language": "python",
     "metadata": {},
     "outputs": [],
     "prompt_number": 232
    },
    {
     "cell_type": "heading",
     "level": 4,
     "metadata": {},
     "source": [
      "The diabetes dataset consists of 10 physiological variables (age, sex, weight, blood pressure) measure on 442 patients, and an indication of disease progression after one year:"
     ]
    },
    {
     "cell_type": "code",
     "collapsed": false,
     "input": [
      "data = load_diabetes()"
     ],
     "language": "python",
     "metadata": {},
     "outputs": [],
     "prompt_number": 233
    },
    {
     "cell_type": "code",
     "collapsed": false,
     "input": [
      "df=pd.DataFrame(data.data)"
     ],
     "language": "python",
     "metadata": {},
     "outputs": [],
     "prompt_number": 234
    },
    {
     "cell_type": "code",
     "collapsed": false,
     "input": [
      "df['y']=data.target"
     ],
     "language": "python",
     "metadata": {},
     "outputs": [],
     "prompt_number": 235
    },
    {
     "cell_type": "code",
     "collapsed": false,
     "input": [
      "df.columns = ['0','1','2','3','4','5','6','7','8','9','y']"
     ],
     "language": "python",
     "metadata": {},
     "outputs": [],
     "prompt_number": 236
    },
    {
     "cell_type": "code",
     "collapsed": false,
     "input": [
      "df.head(5)"
     ],
     "language": "python",
     "metadata": {},
     "outputs": [
      {
       "html": [
        "<div style=\"max-height:1000px;max-width:1500px;overflow:auto;\">\n",
        "<table border=\"1\" class=\"dataframe\">\n",
        "  <thead>\n",
        "    <tr style=\"text-align: right;\">\n",
        "      <th></th>\n",
        "      <th>0</th>\n",
        "      <th>1</th>\n",
        "      <th>2</th>\n",
        "      <th>3</th>\n",
        "      <th>4</th>\n",
        "      <th>5</th>\n",
        "      <th>6</th>\n",
        "      <th>7</th>\n",
        "      <th>8</th>\n",
        "      <th>9</th>\n",
        "      <th>y</th>\n",
        "    </tr>\n",
        "  </thead>\n",
        "  <tbody>\n",
        "    <tr>\n",
        "      <th>0</th>\n",
        "      <td> 0.038076</td>\n",
        "      <td> 0.050680</td>\n",
        "      <td> 0.061696</td>\n",
        "      <td> 0.021872</td>\n",
        "      <td>-0.044223</td>\n",
        "      <td>-0.034821</td>\n",
        "      <td>-0.043401</td>\n",
        "      <td>-0.002592</td>\n",
        "      <td> 0.019908</td>\n",
        "      <td>-0.017646</td>\n",
        "      <td> 151</td>\n",
        "    </tr>\n",
        "    <tr>\n",
        "      <th>1</th>\n",
        "      <td>-0.001882</td>\n",
        "      <td>-0.044642</td>\n",
        "      <td>-0.051474</td>\n",
        "      <td>-0.026328</td>\n",
        "      <td>-0.008449</td>\n",
        "      <td>-0.019163</td>\n",
        "      <td> 0.074412</td>\n",
        "      <td>-0.039493</td>\n",
        "      <td>-0.068330</td>\n",
        "      <td>-0.092204</td>\n",
        "      <td>  75</td>\n",
        "    </tr>\n",
        "    <tr>\n",
        "      <th>2</th>\n",
        "      <td> 0.085299</td>\n",
        "      <td> 0.050680</td>\n",
        "      <td> 0.044451</td>\n",
        "      <td>-0.005671</td>\n",
        "      <td>-0.045599</td>\n",
        "      <td>-0.034194</td>\n",
        "      <td>-0.032356</td>\n",
        "      <td>-0.002592</td>\n",
        "      <td> 0.002864</td>\n",
        "      <td>-0.025930</td>\n",
        "      <td> 141</td>\n",
        "    </tr>\n",
        "    <tr>\n",
        "      <th>3</th>\n",
        "      <td>-0.089063</td>\n",
        "      <td>-0.044642</td>\n",
        "      <td>-0.011595</td>\n",
        "      <td>-0.036656</td>\n",
        "      <td> 0.012191</td>\n",
        "      <td> 0.024991</td>\n",
        "      <td>-0.036038</td>\n",
        "      <td> 0.034309</td>\n",
        "      <td> 0.022692</td>\n",
        "      <td>-0.009362</td>\n",
        "      <td> 206</td>\n",
        "    </tr>\n",
        "    <tr>\n",
        "      <th>4</th>\n",
        "      <td> 0.005383</td>\n",
        "      <td>-0.044642</td>\n",
        "      <td>-0.036385</td>\n",
        "      <td> 0.021872</td>\n",
        "      <td> 0.003935</td>\n",
        "      <td> 0.015596</td>\n",
        "      <td> 0.008142</td>\n",
        "      <td>-0.002592</td>\n",
        "      <td>-0.031991</td>\n",
        "      <td>-0.046641</td>\n",
        "      <td> 135</td>\n",
        "    </tr>\n",
        "  </tbody>\n",
        "</table>\n",
        "</div>"
       ],
       "metadata": {},
       "output_type": "pyout",
       "prompt_number": 237,
       "text": [
        "          0         1         2         3         4         5         6  \\\n",
        "0  0.038076  0.050680  0.061696  0.021872 -0.044223 -0.034821 -0.043401   \n",
        "1 -0.001882 -0.044642 -0.051474 -0.026328 -0.008449 -0.019163  0.074412   \n",
        "2  0.085299  0.050680  0.044451 -0.005671 -0.045599 -0.034194 -0.032356   \n",
        "3 -0.089063 -0.044642 -0.011595 -0.036656  0.012191  0.024991 -0.036038   \n",
        "4  0.005383 -0.044642 -0.036385  0.021872  0.003935  0.015596  0.008142   \n",
        "\n",
        "          7         8         9    y  \n",
        "0 -0.002592  0.019908 -0.017646  151  \n",
        "1 -0.039493 -0.068330 -0.092204   75  \n",
        "2 -0.002592  0.002864 -0.025930  141  \n",
        "3  0.034309  0.022692 -0.009362  206  \n",
        "4 -0.002592 -0.031991 -0.046641  135  "
       ]
      }
     ],
     "prompt_number": 237
    },
    {
     "cell_type": "code",
     "collapsed": false,
     "input": [
      "df.describe()"
     ],
     "language": "python",
     "metadata": {},
     "outputs": [
      {
       "html": [
        "<div style=\"max-height:1000px;max-width:1500px;overflow:auto;\">\n",
        "<table border=\"1\" class=\"dataframe\">\n",
        "  <thead>\n",
        "    <tr style=\"text-align: right;\">\n",
        "      <th></th>\n",
        "      <th>0</th>\n",
        "      <th>1</th>\n",
        "      <th>2</th>\n",
        "      <th>3</th>\n",
        "      <th>4</th>\n",
        "      <th>5</th>\n",
        "      <th>6</th>\n",
        "      <th>7</th>\n",
        "      <th>8</th>\n",
        "      <th>9</th>\n",
        "      <th>y</th>\n",
        "    </tr>\n",
        "  </thead>\n",
        "  <tbody>\n",
        "    <tr>\n",
        "      <th>count</th>\n",
        "      <td> 4.420000e+02</td>\n",
        "      <td> 4.420000e+02</td>\n",
        "      <td> 4.420000e+02</td>\n",
        "      <td> 4.420000e+02</td>\n",
        "      <td> 4.420000e+02</td>\n",
        "      <td> 4.420000e+02</td>\n",
        "      <td> 4.420000e+02</td>\n",
        "      <td> 4.420000e+02</td>\n",
        "      <td> 4.420000e+02</td>\n",
        "      <td> 4.420000e+02</td>\n",
        "      <td> 442.000000</td>\n",
        "    </tr>\n",
        "    <tr>\n",
        "      <th>mean</th>\n",
        "      <td>-3.639623e-16</td>\n",
        "      <td> 1.309912e-16</td>\n",
        "      <td>-8.013951e-16</td>\n",
        "      <td> 1.289818e-16</td>\n",
        "      <td>-9.042540e-17</td>\n",
        "      <td> 1.301121e-16</td>\n",
        "      <td>-4.563971e-16</td>\n",
        "      <td> 3.863174e-16</td>\n",
        "      <td>-3.848103e-16</td>\n",
        "      <td>-3.398488e-16</td>\n",
        "      <td> 152.133484</td>\n",
        "    </tr>\n",
        "    <tr>\n",
        "      <th>std</th>\n",
        "      <td> 4.761905e-02</td>\n",
        "      <td> 4.761905e-02</td>\n",
        "      <td> 4.761905e-02</td>\n",
        "      <td> 4.761905e-02</td>\n",
        "      <td> 4.761905e-02</td>\n",
        "      <td> 4.761905e-02</td>\n",
        "      <td> 4.761905e-02</td>\n",
        "      <td> 4.761905e-02</td>\n",
        "      <td> 4.761905e-02</td>\n",
        "      <td> 4.761905e-02</td>\n",
        "      <td>  77.093005</td>\n",
        "    </tr>\n",
        "    <tr>\n",
        "      <th>min</th>\n",
        "      <td>-1.072256e-01</td>\n",
        "      <td>-4.464164e-02</td>\n",
        "      <td>-9.027530e-02</td>\n",
        "      <td>-1.123996e-01</td>\n",
        "      <td>-1.267807e-01</td>\n",
        "      <td>-1.156131e-01</td>\n",
        "      <td>-1.023071e-01</td>\n",
        "      <td>-7.639450e-02</td>\n",
        "      <td>-1.260974e-01</td>\n",
        "      <td>-1.377672e-01</td>\n",
        "      <td>  25.000000</td>\n",
        "    </tr>\n",
        "    <tr>\n",
        "      <th>25%</th>\n",
        "      <td>-3.729927e-02</td>\n",
        "      <td>-4.464164e-02</td>\n",
        "      <td>-3.422907e-02</td>\n",
        "      <td>-3.665645e-02</td>\n",
        "      <td>-3.424784e-02</td>\n",
        "      <td>-3.035840e-02</td>\n",
        "      <td>-3.511716e-02</td>\n",
        "      <td>-3.949338e-02</td>\n",
        "      <td>-3.324879e-02</td>\n",
        "      <td>-3.317903e-02</td>\n",
        "      <td>  87.000000</td>\n",
        "    </tr>\n",
        "    <tr>\n",
        "      <th>50%</th>\n",
        "      <td> 5.383060e-03</td>\n",
        "      <td>-4.464164e-02</td>\n",
        "      <td>-7.283766e-03</td>\n",
        "      <td>-5.670611e-03</td>\n",
        "      <td>-4.320866e-03</td>\n",
        "      <td>-3.819065e-03</td>\n",
        "      <td>-6.584468e-03</td>\n",
        "      <td>-2.592262e-03</td>\n",
        "      <td>-1.947634e-03</td>\n",
        "      <td>-1.077698e-03</td>\n",
        "      <td> 140.500000</td>\n",
        "    </tr>\n",
        "    <tr>\n",
        "      <th>75%</th>\n",
        "      <td> 3.807591e-02</td>\n",
        "      <td> 5.068012e-02</td>\n",
        "      <td> 3.124802e-02</td>\n",
        "      <td> 3.564384e-02</td>\n",
        "      <td> 2.835801e-02</td>\n",
        "      <td> 2.984439e-02</td>\n",
        "      <td> 2.931150e-02</td>\n",
        "      <td> 3.430886e-02</td>\n",
        "      <td> 3.243323e-02</td>\n",
        "      <td> 2.791705e-02</td>\n",
        "      <td> 211.500000</td>\n",
        "    </tr>\n",
        "    <tr>\n",
        "      <th>max</th>\n",
        "      <td> 1.107267e-01</td>\n",
        "      <td> 5.068012e-02</td>\n",
        "      <td> 1.705552e-01</td>\n",
        "      <td> 1.320442e-01</td>\n",
        "      <td> 1.539137e-01</td>\n",
        "      <td> 1.987880e-01</td>\n",
        "      <td> 1.811791e-01</td>\n",
        "      <td> 1.852344e-01</td>\n",
        "      <td> 1.335990e-01</td>\n",
        "      <td> 1.356118e-01</td>\n",
        "      <td> 346.000000</td>\n",
        "    </tr>\n",
        "  </tbody>\n",
        "</table>\n",
        "</div>"
       ],
       "metadata": {},
       "output_type": "pyout",
       "prompt_number": 238,
       "text": [
        "                  0             1             2             3             4  \\\n",
        "count  4.420000e+02  4.420000e+02  4.420000e+02  4.420000e+02  4.420000e+02   \n",
        "mean  -3.639623e-16  1.309912e-16 -8.013951e-16  1.289818e-16 -9.042540e-17   \n",
        "std    4.761905e-02  4.761905e-02  4.761905e-02  4.761905e-02  4.761905e-02   \n",
        "min   -1.072256e-01 -4.464164e-02 -9.027530e-02 -1.123996e-01 -1.267807e-01   \n",
        "25%   -3.729927e-02 -4.464164e-02 -3.422907e-02 -3.665645e-02 -3.424784e-02   \n",
        "50%    5.383060e-03 -4.464164e-02 -7.283766e-03 -5.670611e-03 -4.320866e-03   \n",
        "75%    3.807591e-02  5.068012e-02  3.124802e-02  3.564384e-02  2.835801e-02   \n",
        "max    1.107267e-01  5.068012e-02  1.705552e-01  1.320442e-01  1.539137e-01   \n",
        "\n",
        "                  5             6             7             8             9  \\\n",
        "count  4.420000e+02  4.420000e+02  4.420000e+02  4.420000e+02  4.420000e+02   \n",
        "mean   1.301121e-16 -4.563971e-16  3.863174e-16 -3.848103e-16 -3.398488e-16   \n",
        "std    4.761905e-02  4.761905e-02  4.761905e-02  4.761905e-02  4.761905e-02   \n",
        "min   -1.156131e-01 -1.023071e-01 -7.639450e-02 -1.260974e-01 -1.377672e-01   \n",
        "25%   -3.035840e-02 -3.511716e-02 -3.949338e-02 -3.324879e-02 -3.317903e-02   \n",
        "50%   -3.819065e-03 -6.584468e-03 -2.592262e-03 -1.947634e-03 -1.077698e-03   \n",
        "75%    2.984439e-02  2.931150e-02  3.430886e-02  3.243323e-02  2.791705e-02   \n",
        "max    1.987880e-01  1.811791e-01  1.852344e-01  1.335990e-01  1.356118e-01   \n",
        "\n",
        "                y  \n",
        "count  442.000000  \n",
        "mean   152.133484  \n",
        "std     77.093005  \n",
        "min     25.000000  \n",
        "25%     87.000000  \n",
        "50%    140.500000  \n",
        "75%    211.500000  \n",
        "max    346.000000  "
       ]
      }
     ],
     "prompt_number": 238
    },
    {
     "cell_type": "code",
     "collapsed": false,
     "input": [
      "df.y.plot()"
     ],
     "language": "python",
     "metadata": {},
     "outputs": [
      {
       "metadata": {},
       "output_type": "pyout",
       "prompt_number": 239,
       "text": [
        "<matplotlib.axes.AxesSubplot at 0x7ff07f0dc610>"
       ]
      },
      {
       "metadata": {},
       "output_type": "display_data",
       "png": "[encoded data removed]",
       "text": [
        "<matplotlib.figure.Figure at 0x7ff07f091950>"
       ]
      }
     ],
     "prompt_number": 239
    },
    {
     "cell_type": "heading",
     "level": 1,
     "metadata": {},
     "source": [
      "First model: use simple linear regression and try all the different combinations of predictors."
     ]
    },
    {
     "cell_type": "heading",
     "level": 3,
     "metadata": {},
     "source": [
      "The dataset consists of 10 pysiological characteristics and a\n",
      "measurement of disease progress. All 10 covariates are demeaned and standardized.\n",
      "**Build a cross validated predictive model of disease progress"
     ]
    },
    {
     "cell_type": "heading",
     "level": 3,
     "metadata": {},
     "source": [
      "1) Divide Data into K roughly equal parts"
     ]
    },
    {
     "cell_type": "heading",
     "level": 3,
     "metadata": {},
     "source": [
      "2) for each k = 1,2,..,k, fit the model to other K-1 parts and compute its error in predicting the K'th part"
     ]
    },
    {
     "cell_type": "heading",
     "level": 3,
     "metadata": {},
     "source": [
      "First try: use simple linear regression and try all the different combinations of predictors."
     ]
    },
    {
     "cell_type": "code",
     "collapsed": false,
     "input": [
      "base_model = LinearRegression(fit_intercept=True)"
     ],
     "language": "python",
     "metadata": {},
     "outputs": [],
     "prompt_number": 240
    },
    {
     "cell_type": "code",
     "collapsed": false,
     "input": [
      "predictors?"
     ],
     "language": "python",
     "metadata": {},
     "outputs": [],
     "prompt_number": 241
    },
    {
     "cell_type": "code",
     "collapsed": false,
     "input": [
      "predictors = ['0','1','2','3','4','5','6','7','8','9']"
     ],
     "language": "python",
     "metadata": {},
     "outputs": [],
     "prompt_number": 242
    },
    {
     "cell_type": "code",
     "collapsed": false,
     "input": [
      "dic = {}\n",
      "dic['y'] = 7\n",
      "dic['y']\n"
     ],
     "language": "python",
     "metadata": {},
     "outputs": [
      {
       "metadata": {},
       "output_type": "pyout",
       "prompt_number": 257,
       "text": [
        "7"
       ]
      }
     ],
     "prompt_number": 257
    },
    {
     "cell_type": "code",
     "collapsed": false,
     "input": [
      "cv_errors = {}\n",
      "cv_errors_best = {}\n",
      "mses = []\n",
      "count = 0;\n",
      "nfeatures = range(1, len(predictors))\n",
      "for r in nfeatures:\n",
      "    print \"r = \", r\n",
      "    cv_errors_tmp = {}\n",
      "    for predictor_combos in combinations(predictors, r=r):\n",
      "        X = df[list(predictor_combos)].values\n",
      "        y = df[\"y\"].values\n",
      "        kfold = KFold(len(df), n_folds=10)\n",
      "        mses = []\n",
      "        for train, test in kfold:\n",
      "            ##print 't'\n",
      "            Xtrain, ytrain, Xtest, ytest = X[train], y[train], X[test], y[test]\n",
      "            base_model.fit(Xtrain,ytrain)\n",
      "            ypred = base_model.predict(Xtest)\n",
      "            mses.append(mean_squared_error(ypred, ytest))\n",
      "        curr_mses = np.mean(mses)\n",
      "        cv_errors[predictor_combos] = curr_mses\n",
      "       \n",
      "        if r in cv_errors_best:\n",
      "            curr_best = cv_errors_best[r][0]\n",
      "            \n",
      "            if curr_best > curr_mses:\n",
      "                cv_errors_best[r] = [curr_mses, str(predictor_combos)]\n",
      "        else:     \n",
      "            cv_errors_best[r] = [curr_mses, str(predictor_combos)]\n",
      "        \n",
      "\n"
     ],
     "language": "python",
     "metadata": {},
     "outputs": [
      {
       "output_type": "stream",
       "stream": "stdout",
       "text": [
        "r =  1\n",
        "r = "
       ]
      },
      {
       "output_type": "stream",
       "stream": "stdout",
       "text": [
        " 2\n",
        "r = "
       ]
      },
      {
       "output_type": "stream",
       "stream": "stdout",
       "text": [
        " 3\n",
        "r = "
       ]
      },
      {
       "output_type": "stream",
       "stream": "stdout",
       "text": [
        " 4\n",
        "r = "
       ]
      },
      {
       "output_type": "stream",
       "stream": "stdout",
       "text": [
        " 5\n",
        "r = "
       ]
      },
      {
       "output_type": "stream",
       "stream": "stdout",
       "text": [
        " 6\n",
        "r = "
       ]
      },
      {
       "output_type": "stream",
       "stream": "stdout",
       "text": [
        " 7\n",
        "r = "
       ]
      },
      {
       "output_type": "stream",
       "stream": "stdout",
       "text": [
        " 8\n",
        "r = "
       ]
      },
      {
       "output_type": "stream",
       "stream": "stdout",
       "text": [
        " 9\n"
       ]
      }
     ],
     "prompt_number": 282
    },
    {
     "cell_type": "heading",
     "level": 2,
     "metadata": {},
     "source": [
      "cv_errors_best holds the best mse result for each number of features"
     ]
    },
    {
     "cell_type": "code",
     "collapsed": false,
     "input": [
      "cv_errors_best_values = []\n",
      "for k,v in cv_errors_best.iteritems():\n",
      "    print v[0]\n",
      "    cv_errors_best_values.append(v[0])"
     ],
     "language": "python",
     "metadata": {},
     "outputs": [
      {
       "output_type": "stream",
       "stream": "stdout",
       "text": [
        "3906.91899011\n",
        "3234.84908784\n",
        "3115.85436712\n",
        "3054.72438103\n",
        "2968.13296953\n",
        "2944.14425207\n",
        "2943.41901115\n",
        "2952.7173929\n",
        "2972.63708995\n"
       ]
      }
     ],
     "prompt_number": 293
    },
    {
     "cell_type": "code",
     "collapsed": false,
     "input": [
      "plt.plot(nfeatures, cv_errors_best_values)\n",
      "plt.xlabel(\"number of features\")\n",
      "plt.ylabel(\"RMSE\")"
     ],
     "language": "python",
     "metadata": {},
     "outputs": [
      {
       "metadata": {},
       "output_type": "pyout",
       "prompt_number": 295,
       "text": [
        "<matplotlib.text.Text at 0x7ff07cc32890>"
       ]
      },
      {
       "metadata": {},
       "output_type": "display_data",
       "png": "[encoded data removed]",
       "text": [
        "<matplotlib.figure.Figure at 0x7ff07cb1d1d0>"
       ]
      }
     ],
     "prompt_number": 295
    },
    {
     "cell_type": "heading",
     "level": 2,
     "metadata": {},
     "source": [
      "Conclusion: 5 features give us the best result. Those features are:"
     ]
    },
    {
     "cell_type": "code",
     "collapsed": false,
     "input": [
      "cv_errors_best[5]"
     ],
     "language": "python",
     "metadata": {},
     "outputs": [
      {
       "metadata": {},
       "output_type": "pyout",
       "prompt_number": 299,
       "text": [
        "[2968.1329695314316, \"('1', '2', '3', '6', '8')\"]"
       ]
      }
     ],
     "prompt_number": 299
    },
    {
     "cell_type": "code",
     "collapsed": false,
     "input": [
      "##### Draft #####\n",
      "#cv_errors_df = pd.DataFrame.from_dict(cv_errors, orient='index')\n",
      "#cv_errors_df.columns = ['cv_error']\n",
      "\n",
      "#cv_errors_df = cv_errors_df.sort('cv_error', ascending=False)\n",
      "#fig, ax = subplots()\n",
      "#xticks = ['_'.join(list(p)) for p in cv_errors_df.index]\n",
      "\n",
      "#cv_errors_df.plot(ax=ax, figsize=(24,12))\n",
      "#ax.set_xticklabels(xticks, fontsize=16, alpha=0.7, rotation=45)\n",
      "\n",
      "#cv_errors_df.tail(5)"
     ],
     "language": "python",
     "metadata": {},
     "outputs": [],
     "prompt_number": 301
    },
    {
     "cell_type": "heading",
     "level": 1,
     "metadata": {},
     "source": [
      "Second Model: Try different Regression Models on the best 5 features"
     ]
    },
    {
     "cell_type": "code",
     "collapsed": false,
     "input": [
      "best_predictors = ['1', '2', '3', '6', '8']\n"
     ],
     "language": "python",
     "metadata": {},
     "outputs": [],
     "prompt_number": 323
    },
    {
     "cell_type": "code",
     "collapsed": false,
     "input": [
      "model_map = {'linreg' : LinearRegression, \n",
      "             'ridge' : Ridge,\n",
      "             'lasso' : Lasso,}\n",
      "\n",
      "def cv_model (X,y, test,train, reg_model = 'linreg'):\n",
      "    Xtrain, ytrain, Xtest, ytest = X[train], y[train], X[test], y[test]\n",
      "    model = model_map[reg_model](normalize=False, fit_intercept=True)\n",
      "    model.fit(X,y)\n",
      "    ypred = model.predict(Xtest)\n",
      "    return mean_squared_error(ypred,ytest)\n",
      "    \n",
      "def cv_subset_selector(df, predictors):\n",
      "    cv_errors = defaultdict(lambda: defaultdict(list))\n",
      "    for r in range(2, len(predictors)+1):\n",
      "        print \"r =\", r\n",
      "        for predictor_combos in combinations(predictors, r=r):\n",
      "            print predictor_combos\n",
      "            X = df[list(predictor_combos)].values\n",
      "            y = df[\"y\"].values\n",
      "            kfold = KFold(len(df), n_folds=10)\n",
      "            mean_sq_errs = defaultdict(list)\n",
      "            for train, test in kfold:\n",
      "                for m in model_map.keys():\n",
      "                    mse = cv_model(X, y, test, train, m)\n",
      "                    mean_sq_errs[m].append(mse)\n",
      "            for m, vals in mean_sq_errs.iteritems():\n",
      "                model_df = pd.DataFrame()\n",
      "                cv_errors['_'.join(predictor_combos)][m] = np.mean(vals)\n",
      "                #cv_errors[predictor_combos][m] = np.mean(vals)\n",
      "    return cv_errors\n",
      "    "
     ],
     "language": "python",
     "metadata": {},
     "outputs": [],
     "prompt_number": 317
    },
    {
     "cell_type": "code",
     "collapsed": false,
     "input": [
      "cv_errors = defaultdict(lambda: defaultdict(list))"
     ],
     "language": "python",
     "metadata": {},
     "outputs": [],
     "prompt_number": 318
    },
    {
     "cell_type": "code",
     "collapsed": false,
     "input": [
      "cv_errors = cv_subset_selector(df, best_predictors)"
     ],
     "language": "python",
     "metadata": {},
     "outputs": [
      {
       "output_type": "stream",
       "stream": "stdout",
       "text": [
        "r = 2\n",
        "('1', '2')\n",
        "('1', '3')\n",
        "('1', '6')\n",
        "('1', '8')"
       ]
      },
      {
       "output_type": "stream",
       "stream": "stdout",
       "text": [
        "\n",
        "('2', '3')\n",
        "('2', '6')\n",
        "('2', '8')\n",
        "('3', '6')"
       ]
      },
      {
       "output_type": "stream",
       "stream": "stdout",
       "text": [
        "\n",
        "('3', '8')\n",
        "('6', '8')\n",
        "r = 3\n",
        "('1', '2', '3')\n",
        "('1', '2', '6')"
       ]
      },
      {
       "output_type": "stream",
       "stream": "stdout",
       "text": [
        "\n",
        "('1', '2', '8')\n",
        "('1', '3', '6')\n",
        "('1', '3', '8')"
       ]
      },
      {
       "output_type": "stream",
       "stream": "stdout",
       "text": [
        "\n",
        "('1', '6', '8')\n",
        "('2', '3', '6')\n",
        "('2', '3', '8')\n",
        "('2', '6', '8')"
       ]
      },
      {
       "output_type": "stream",
       "stream": "stdout",
       "text": [
        "\n",
        "('3', '6', '8')\n",
        "r = 4\n",
        "('1', '2', '3', '6')\n",
        "('1', '2', '3', '8')\n",
        "('1', '2', '6', '8')"
       ]
      },
      {
       "output_type": "stream",
       "stream": "stdout",
       "text": [
        "\n",
        "('1', '3', '6', '8')\n",
        "('2', '3', '6', '8')\n",
        "r = 5\n",
        "('1', '2', '3', '6', '8')\n"
       ]
      }
     ],
     "prompt_number": 319
    },
    {
     "cell_type": "code",
     "collapsed": false,
     "input": [
      "cv_errors"
     ],
     "language": "python",
     "metadata": {},
     "outputs": [
      {
       "metadata": {},
       "output_type": "pyout",
       "prompt_number": 313,
       "text": [
        "defaultdict(<function <lambda> at 0x7ff07f01cc08>, {'2_3_6': defaultdict(<type 'list'>, {'linreg': 3379.4427939950206, 'ridge': 3760.6070078141252, 'lasso': 4204.8412144830818}), '2_3_8': defaultdict(<type 'list'>, {'linreg': 3083.8334962136073, 'ridge': 3462.3043610706527, 'lasso': 3812.4835546806075}), '6_8': defaultdict(<type 'list'>, {'linreg': 3832.2154415333512, 'ridge': 4228.3203192194551, 'lasso': 4464.6340188002459}), '1_6': defaultdict(<type 'list'>, {'linreg': 4927.8070373630053, 'ridge': 5227.0962485254149, 'lasso': 5450.6012433962514}), '1_3': defaultdict(<type 'list'>, {'linreg': 4750.9661179578416, 'ridge': 5063.6830932302473, 'lasso': 5219.0102355063518}), '1_2': defaultdict(<type 'list'>, {'linreg': 3890.5168695238085, 'ridge': 4401.7779255004243, 'lasso': 4333.8416599239954}), '1_3_6_8': defaultdict(<type 'list'>, {'linreg': 3345.9968617180202, 'ridge': 3804.8150134012053, 'lasso': 4324.2905030717866}), '1_8': defaultdict(<type 'list'>, {'linreg': 4024.5434140255411, 'ridge': 4509.3069840554735, 'lasso': 4476.51155935733}), '2_8': defaultdict(<type 'list'>, {'linreg': 3206.3634217570293, 'ridge': 3662.8662667402205, 'lasso': 3818.2795940520095}), '1_2_3': defaultdict(<type 'list'>, {'linreg': 3559.4924096950067, 'ridge': 4009.0591508507619, 'lasso': 4216.4968679173271}), '1_2_6': defaultdict(<type 'list'>, {'linreg': 3623.6434550536833, 'ridge': 4094.1540175241526, 'lasso': 4317.3832180095869}), '3_6': defaultdict(<type 'list'>, {'linreg': 4163.2969633876164, 'ridge': 4537.7150065836868, 'lasso': 4915.3829916420418}), '3_8': defaultdict(<type 'list'>, {'linreg': 3697.7767097498313, 'ridge': 4104.0640734252429, 'lasso': 4332.6572263092039}), '1_2_8': defaultdict(<type 'list'>, {'linreg': 3191.1459624285353, 'ridge': 3660.4737172284003, 'lasso': 3818.2795940520095}), '2_3': defaultdict(<type 'list'>, {'linreg': 3581.772683486608, 'ridge': 4014.1102778340855, 'lasso': 4216.4968679173271}), '2_6': defaultdict(<type 'list'>, {'linreg': 3668.5110792360479, 'ridge': 4107.3626654496456, 'lasso': 4317.3832180095869}), '1_3_8': defaultdict(<type 'list'>, {'linreg': 3648.1611648899984, 'ridge': 4091.355028271681, 'lasso': 4332.6572263092039}), '1_3_6': defaultdict(<type 'list'>, {'linreg': 3948.4107926338647, 'ridge': 4486.5140802768328, 'lasso': 4915.3829916420418}), '1_6_8': defaultdict(<type 'list'>, {'linreg': 3754.8490436680731, 'ridge': 4204.8607369172223, 'lasso': 4464.6340188002459}), '1_2_3_6_8': defaultdict(<type 'list'>, {'linreg': 2914.7809118190539, 'ridge': 3295.4431890506212, 'lasso': 3812.4835546806075}), '1_2_6_8': defaultdict(<type 'list'>, {'linreg': 3093.8017148481417, 'ridge': 3513.7112978093865, 'lasso': 3818.2803169188569}), '3_6_8': defaultdict(<type 'list'>, {'linreg': 3508.3730658034692, 'ridge': 3860.7225690145824, 'lasso': 4324.2905030717866}), '1_2_3_8': defaultdict(<type 'list'>, {'linreg': 3044.6457639419232, 'ridge': 3448.1935021712934, 'lasso': 3812.4835546806075}), '1_2_3_6': defaultdict(<type 'list'>, {'linreg': 3261.7903354569294, 'ridge': 3719.9321872948885, 'lasso': 4204.8412144830818}), '2_6_8': defaultdict(<type 'list'>, {'linreg': 3145.0668720582316, 'ridge': 3535.5044564646932, 'lasso': 3818.2803169188569}), '2_3_6_8': defaultdict(<type 'list'>, {'linreg': 3015.7343858445743, 'ridge': 3340.746429039431, 'lasso': 3812.4835546806075})})"
       ]
      }
     ],
     "prompt_number": 313
    },
    {
     "cell_type": "code",
     "collapsed": false,
     "input": [
      "cv_errors_df = pd.DataFrame.from_dict(cv_errors, orient='index')\n",
      "cv_errors_df = cv_errors_df.sort('linreg', ascending=False)\n"
     ],
     "language": "python",
     "metadata": {},
     "outputs": [],
     "prompt_number": 311
    },
    {
     "cell_type": "code",
     "collapsed": false,
     "input": [
      "fig, ax = subplots()\n",
      "# Customize x tick lables\n",
      "xticks = cv_errors_df.index\n",
      "cv_errors_df.plot(ax=ax, figsize=(24,12))\n",
      "ax.set_xticklabels(xticks, fontsize=16, alpha=0.7, rotation=45)\n",
      "\n",
      "cv_errors_df.tail(10)"
     ],
     "language": "python",
     "metadata": {},
     "outputs": [
      {
       "html": [
        "<div style=\"max-height:1000px;max-width:1500px;overflow:auto;\">\n",
        "<table border=\"1\" class=\"dataframe\">\n",
        "  <thead>\n",
        "    <tr style=\"text-align: right;\">\n",
        "      <th></th>\n",
        "      <th>linreg</th>\n",
        "      <th>ridge</th>\n",
        "      <th>lasso</th>\n",
        "    </tr>\n",
        "  </thead>\n",
        "  <tbody>\n",
        "    <tr>\n",
        "      <th>1_3_6_8</th>\n",
        "      <td> 3345.996862</td>\n",
        "      <td> 3804.815013</td>\n",
        "      <td> 4324.290503</td>\n",
        "    </tr>\n",
        "    <tr>\n",
        "      <th>1_2_3_6</th>\n",
        "      <td> 3261.790335</td>\n",
        "      <td> 3719.932187</td>\n",
        "      <td> 4204.841214</td>\n",
        "    </tr>\n",
        "    <tr>\n",
        "      <th>2_8</th>\n",
        "      <td> 3206.363422</td>\n",
        "      <td> 3662.866267</td>\n",
        "      <td> 3818.279594</td>\n",
        "    </tr>\n",
        "    <tr>\n",
        "      <th>1_2_8</th>\n",
        "      <td> 3191.145962</td>\n",
        "      <td> 3660.473717</td>\n",
        "      <td> 3818.279594</td>\n",
        "    </tr>\n",
        "    <tr>\n",
        "      <th>2_6_8</th>\n",
        "      <td> 3145.066872</td>\n",
        "      <td> 3535.504456</td>\n",
        "      <td> 3818.280317</td>\n",
        "    </tr>\n",
        "    <tr>\n",
        "      <th>1_2_6_8</th>\n",
        "      <td> 3093.801715</td>\n",
        "      <td> 3513.711298</td>\n",
        "      <td> 3818.280317</td>\n",
        "    </tr>\n",
        "    <tr>\n",
        "      <th>2_3_8</th>\n",
        "      <td> 3083.833496</td>\n",
        "      <td> 3462.304361</td>\n",
        "      <td> 3812.483555</td>\n",
        "    </tr>\n",
        "    <tr>\n",
        "      <th>1_2_3_8</th>\n",
        "      <td> 3044.645764</td>\n",
        "      <td> 3448.193502</td>\n",
        "      <td> 3812.483555</td>\n",
        "    </tr>\n",
        "    <tr>\n",
        "      <th>2_3_6_8</th>\n",
        "      <td> 3015.734386</td>\n",
        "      <td> 3340.746429</td>\n",
        "      <td> 3812.483555</td>\n",
        "    </tr>\n",
        "    <tr>\n",
        "      <th>1_2_3_6_8</th>\n",
        "      <td> 2914.780912</td>\n",
        "      <td> 3295.443189</td>\n",
        "      <td> 3812.483555</td>\n",
        "    </tr>\n",
        "  </tbody>\n",
        "</table>\n",
        "</div>"
       ],
       "metadata": {},
       "output_type": "pyout",
       "prompt_number": 312,
       "text": [
        "                linreg        ridge        lasso\n",
        "1_3_6_8    3345.996862  3804.815013  4324.290503\n",
        "1_2_3_6    3261.790335  3719.932187  4204.841214\n",
        "2_8        3206.363422  3662.866267  3818.279594\n",
        "1_2_8      3191.145962  3660.473717  3818.279594\n",
        "2_6_8      3145.066872  3535.504456  3818.280317\n",
        "1_2_6_8    3093.801715  3513.711298  3818.280317\n",
        "2_3_8      3083.833496  3462.304361  3812.483555\n",
        "1_2_3_8    3044.645764  3448.193502  3812.483555\n",
        "2_3_6_8    3015.734386  3340.746429  3812.483555\n",
        "1_2_3_6_8  2914.780912  3295.443189  3812.483555"
       ]
      },
      {
       "metadata": {},
       "output_type": "display_data",
       "png": "[encoded data removed]",
       "text": [
        "<matplotlib.figure.Figure at 0x7ff07cc11550>"
       ]
      }
     ],
     "prompt_number": 312
    },
    {
     "cell_type": "heading",
     "level": 3,
     "metadata": {},
     "source": [
      "Looks like linear regression wins. So my final answer is that the best model is Linear regressin in features: \n",
      "    '1', '2', '3', '6', '8'"
     ]
    },
    {
     "cell_type": "code",
     "collapsed": false,
     "input": [],
     "language": "python",
     "metadata": {},
     "outputs": []
    }
   ],
   "metadata": {}
  }
 ]
}