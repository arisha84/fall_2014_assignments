{
 "metadata": {
  "name": "",
  "signature": "sha256:241a3ad8558efbc1c331d32cd2503519bc0af32fcd6d906422498269e8f4370d"
 },
 "nbformat": 3,
 "nbformat_minor": 0,
 "worksheets": [
  {
   "cells": [
    {
     "cell_type": "code",
     "collapsed": false,
     "input": [
      "# Class 08 - Bayes - Demo Bayes Regression"
     ],
     "language": "python",
     "metadata": {},
     "outputs": [],
     "prompt_number": 1
    },
    {
     "cell_type": "code",
     "collapsed": false,
     "input": [
      "from scipy import stats"
     ],
     "language": "python",
     "metadata": {},
     "outputs": []
    },
    {
     "cell_type": "code",
     "collapsed": false,
     "input": [
      "import numpy as np\n",
      "import pandas as pd\n",
      "import matplotlib.pyplot as plt"
     ],
     "language": "python",
     "metadata": {},
     "outputs": [],
     "prompt_number": 2
    },
    {
     "cell_type": "code",
     "collapsed": false,
     "input": [
      "#import data\n",
      "df = pd.read_csv('/home/vagrant/notebooks/fall_2014_lessons/datasets/africa_ph.csv')\n",
      "\n",
      "#default set to that, drop the row if anything in that row is missing data\n",
      "df = df.dropna()\n",
      "\n",
      "#name the predictors\n",
      "predictors = ['ELEV', 'REF2', 'BSAN', 'LSTN', 'Infrared01', 'Infrared02', 'Infrared03', 'Infrared04', 'Infrared05']"
     ],
     "language": "python",
     "metadata": {},
     "outputs": [],
     "prompt_number": 17
    },
    {
     "cell_type": "code",
     "collapsed": false,
     "input": [
      "df.head()"
     ],
     "language": "python",
     "metadata": {},
     "outputs": [
      {
       "html": [
        "<div style=\"max-height:1000px;max-width:1500px;overflow:auto;\">\n",
        "<table border=\"1\" class=\"dataframe\">\n",
        "  <thead>\n",
        "    <tr style=\"text-align: right;\">\n",
        "      <th></th>\n",
        "      <th>Unnamed: 0</th>\n",
        "      <th>PIDN</th>\n",
        "      <th>pH</th>\n",
        "      <th>ELEV</th>\n",
        "      <th>REF2</th>\n",
        "      <th>BSAN</th>\n",
        "      <th>LSTN</th>\n",
        "      <th>Infrared01</th>\n",
        "      <th>Infrared02</th>\n",
        "      <th>Infrared03</th>\n",
        "      <th>Infrared04</th>\n",
        "      <th>Infrared05</th>\n",
        "    </tr>\n",
        "  </thead>\n",
        "  <tbody>\n",
        "    <tr>\n",
        "      <th>0</th>\n",
        "      <td> 32</td>\n",
        "      <td> d9u06tdU</td>\n",
        "      <td>-0.044436</td>\n",
        "      <td> 0.904900</td>\n",
        "      <td>-0.352505</td>\n",
        "      <td>-0.710145</td>\n",
        "      <td>-0.371001</td>\n",
        "      <td> 0.378298</td>\n",
        "      <td> 0.056228</td>\n",
        "      <td> 1.349732</td>\n",
        "      <td> 1.81377</td>\n",
        "      <td> 1.65483</td>\n",
        "    </tr>\n",
        "    <tr>\n",
        "      <th>1</th>\n",
        "      <td> 33</td>\n",
        "      <td> qsQFu3ef</td>\n",
        "      <td>-0.455961</td>\n",
        "      <td> 0.904900</td>\n",
        "      <td>-0.352505</td>\n",
        "      <td>-0.710145</td>\n",
        "      <td>-0.371001</td>\n",
        "      <td> 0.374321</td>\n",
        "      <td> 0.072229</td>\n",
        "      <td> 1.459569</td>\n",
        "      <td> 1.78552</td>\n",
        "      <td> 1.62982</td>\n",
        "    </tr>\n",
        "    <tr>\n",
        "      <th>2</th>\n",
        "      <td> 34</td>\n",
        "      <td> C4kj5IMN</td>\n",
        "      <td>-0.549490</td>\n",
        "      <td> 0.971715</td>\n",
        "      <td>-0.352505</td>\n",
        "      <td>-0.702899</td>\n",
        "      <td>-0.399312</td>\n",
        "      <td> 0.390773</td>\n",
        "      <td> 0.048228</td>\n",
        "      <td> 1.555917</td>\n",
        "      <td> 1.73194</td>\n",
        "      <td> 1.63317</td>\n",
        "    </tr>\n",
        "    <tr>\n",
        "      <th>3</th>\n",
        "      <td> 35</td>\n",
        "      <td> p1SCgsM8</td>\n",
        "      <td>-0.951662</td>\n",
        "      <td> 0.971715</td>\n",
        "      <td>-0.352505</td>\n",
        "      <td>-0.702899</td>\n",
        "      <td>-0.399312</td>\n",
        "      <td> 0.385719</td>\n",
        "      <td> 0.047679</td>\n",
        "      <td> 1.662981</td>\n",
        "      <td> 1.68115</td>\n",
        "      <td> 1.69190</td>\n",
        "    </tr>\n",
        "    <tr>\n",
        "      <th>4</th>\n",
        "      <td> 36</td>\n",
        "      <td> UqyLWYTl</td>\n",
        "      <td>-0.427903</td>\n",
        "      <td> 0.929399</td>\n",
        "      <td>-0.506494</td>\n",
        "      <td>-0.695652</td>\n",
        "      <td>-0.543779</td>\n",
        "      <td> 0.411471</td>\n",
        "      <td> 0.043002</td>\n",
        "      <td> 1.522019</td>\n",
        "      <td> 1.71672</td>\n",
        "      <td> 1.68936</td>\n",
        "    </tr>\n",
        "  </tbody>\n",
        "</table>\n",
        "</div>"
       ],
       "metadata": {},
       "output_type": "pyout",
       "prompt_number": 18,
       "text": [
        "   Unnamed: 0      PIDN        pH      ELEV      REF2      BSAN      LSTN  \\\n",
        "0          32  d9u06tdU -0.044436  0.904900 -0.352505 -0.710145 -0.371001   \n",
        "1          33  qsQFu3ef -0.455961  0.904900 -0.352505 -0.710145 -0.371001   \n",
        "2          34  C4kj5IMN -0.549490  0.971715 -0.352505 -0.702899 -0.399312   \n",
        "3          35  p1SCgsM8 -0.951662  0.971715 -0.352505 -0.702899 -0.399312   \n",
        "4          36  UqyLWYTl -0.427903  0.929399 -0.506494 -0.695652 -0.543779   \n",
        "\n",
        "   Infrared01  Infrared02  Infrared03  Infrared04  Infrared05  \n",
        "0    0.378298    0.056228    1.349732     1.81377     1.65483  \n",
        "1    0.374321    0.072229    1.459569     1.78552     1.62982  \n",
        "2    0.390773    0.048228    1.555917     1.73194     1.63317  \n",
        "3    0.385719    0.047679    1.662981     1.68115     1.69190  \n",
        "4    0.411471    0.043002    1.522019     1.71672     1.68936  "
       ]
      }
     ],
     "prompt_number": 18
    },
    {
     "cell_type": "code",
     "collapsed": false,
     "input": [
      "df.describe()"
     ],
     "language": "python",
     "metadata": {},
     "outputs": [
      {
       "html": [
        "<div style=\"max-height:1000px;max-width:1500px;overflow:auto;\">\n",
        "<table border=\"1\" class=\"dataframe\">\n",
        "  <thead>\n",
        "    <tr style=\"text-align: right;\">\n",
        "      <th></th>\n",
        "      <th>Unnamed: 0</th>\n",
        "      <th>pH</th>\n",
        "      <th>ELEV</th>\n",
        "      <th>REF2</th>\n",
        "      <th>BSAN</th>\n",
        "      <th>LSTN</th>\n",
        "      <th>Infrared01</th>\n",
        "      <th>Infrared02</th>\n",
        "      <th>Infrared03</th>\n",
        "      <th>Infrared04</th>\n",
        "      <th>Infrared05</th>\n",
        "    </tr>\n",
        "  </thead>\n",
        "  <tbody>\n",
        "    <tr>\n",
        "      <th>count</th>\n",
        "      <td> 736.000000</td>\n",
        "      <td> 736.000000</td>\n",
        "      <td> 736.000000</td>\n",
        "      <td> 736.000000</td>\n",
        "      <td> 736.000000</td>\n",
        "      <td> 736.000000</td>\n",
        "      <td> 736.000000</td>\n",
        "      <td> 736.000000</td>\n",
        "      <td> 736.000000</td>\n",
        "      <td> 736.000000</td>\n",
        "      <td> 736.000000</td>\n",
        "    </tr>\n",
        "    <tr>\n",
        "      <th>mean</th>\n",
        "      <td> 399.500000</td>\n",
        "      <td>   0.019585</td>\n",
        "      <td>   0.403813</td>\n",
        "      <td>  -0.429374</td>\n",
        "      <td>  -0.563376</td>\n",
        "      <td>  -0.011037</td>\n",
        "      <td>   0.307313</td>\n",
        "      <td>   0.070904</td>\n",
        "      <td>   1.315295</td>\n",
        "      <td>   1.776879</td>\n",
        "      <td>   1.494852</td>\n",
        "    </tr>\n",
        "    <tr>\n",
        "      <th>std</th>\n",
        "      <td> 212.609188</td>\n",
        "      <td>   0.964509</td>\n",
        "      <td>   1.607167</td>\n",
        "      <td>   0.329725</td>\n",
        "      <td>   0.209979</td>\n",
        "      <td>   0.958168</td>\n",
        "      <td>   0.092668</td>\n",
        "      <td>   0.041800</td>\n",
        "      <td>   0.253520</td>\n",
        "      <td>   0.175960</td>\n",
        "      <td>   0.159071</td>\n",
        "    </tr>\n",
        "    <tr>\n",
        "      <th>min</th>\n",
        "      <td>  32.000000</td>\n",
        "      <td>  -1.886946</td>\n",
        "      <td>  -1.326726</td>\n",
        "      <td>  -1.642857</td>\n",
        "      <td>  -1.007246</td>\n",
        "      <td>  -2.720276</td>\n",
        "      <td>   0.044781</td>\n",
        "      <td>   0.009202</td>\n",
        "      <td>   0.367167</td>\n",
        "      <td>   1.295110</td>\n",
        "      <td>   1.132220</td>\n",
        "    </tr>\n",
        "    <tr>\n",
        "      <th>25%</th>\n",
        "      <td> 215.750000</td>\n",
        "      <td>  -0.717841</td>\n",
        "      <td>  -1.050557</td>\n",
        "      <td>  -0.657699</td>\n",
        "      <td>  -0.695652</td>\n",
        "      <td>  -0.448294</td>\n",
        "      <td>   0.249050</td>\n",
        "      <td>   0.041492</td>\n",
        "      <td>   1.166361</td>\n",
        "      <td>   1.675233</td>\n",
        "      <td>   1.382195</td>\n",
        "    </tr>\n",
        "    <tr>\n",
        "      <th>50%</th>\n",
        "      <td> 399.500000</td>\n",
        "      <td>  -0.137964</td>\n",
        "      <td>  -0.166370</td>\n",
        "      <td>  -0.442486</td>\n",
        "      <td>  -0.586957</td>\n",
        "      <td>   0.089564</td>\n",
        "      <td>   0.294500</td>\n",
        "      <td>   0.059636</td>\n",
        "      <td>   1.340995</td>\n",
        "      <td>   1.742140</td>\n",
        "      <td>   1.506285</td>\n",
        "    </tr>\n",
        "    <tr>\n",
        "      <th>75%</th>\n",
        "      <td> 583.250000</td>\n",
        "      <td>   0.455941</td>\n",
        "      <td>   1.365367</td>\n",
        "      <td>  -0.205937</td>\n",
        "      <td>  -0.449275</td>\n",
        "      <td>   0.750153</td>\n",
        "      <td>   0.356444</td>\n",
        "      <td>   0.090415</td>\n",
        "      <td>   1.493126</td>\n",
        "      <td>   1.848032</td>\n",
        "      <td>   1.609793</td>\n",
        "    </tr>\n",
        "    <tr>\n",
        "      <th>max</th>\n",
        "      <td> 767.000000</td>\n",
        "      <td>   2.480832</td>\n",
        "      <td>   4.891537</td>\n",
        "      <td>   0.335807</td>\n",
        "      <td>   0.217391</td>\n",
        "      <td>   1.519218</td>\n",
        "      <td>   0.761519</td>\n",
        "      <td>   0.246435</td>\n",
        "      <td>   1.888528</td>\n",
        "      <td>   2.569190</td>\n",
        "      <td>   1.999830</td>\n",
        "    </tr>\n",
        "  </tbody>\n",
        "</table>\n",
        "</div>"
       ],
       "metadata": {},
       "output_type": "pyout",
       "prompt_number": 19,
       "text": [
        "       Unnamed: 0          pH        ELEV        REF2        BSAN        LSTN  \\\n",
        "count  736.000000  736.000000  736.000000  736.000000  736.000000  736.000000   \n",
        "mean   399.500000    0.019585    0.403813   -0.429374   -0.563376   -0.011037   \n",
        "std    212.609188    0.964509    1.607167    0.329725    0.209979    0.958168   \n",
        "min     32.000000   -1.886946   -1.326726   -1.642857   -1.007246   -2.720276   \n",
        "25%    215.750000   -0.717841   -1.050557   -0.657699   -0.695652   -0.448294   \n",
        "50%    399.500000   -0.137964   -0.166370   -0.442486   -0.586957    0.089564   \n",
        "75%    583.250000    0.455941    1.365367   -0.205937   -0.449275    0.750153   \n",
        "max    767.000000    2.480832    4.891537    0.335807    0.217391    1.519218   \n",
        "\n",
        "       Infrared01  Infrared02  Infrared03  Infrared04  Infrared05  \n",
        "count  736.000000  736.000000  736.000000  736.000000  736.000000  \n",
        "mean     0.307313    0.070904    1.315295    1.776879    1.494852  \n",
        "std      0.092668    0.041800    0.253520    0.175960    0.159071  \n",
        "min      0.044781    0.009202    0.367167    1.295110    1.132220  \n",
        "25%      0.249050    0.041492    1.166361    1.675233    1.382195  \n",
        "50%      0.294500    0.059636    1.340995    1.742140    1.506285  \n",
        "75%      0.356444    0.090415    1.493126    1.848032    1.609793  \n",
        "max      0.761519    0.246435    1.888528    2.569190    1.999830  "
       ]
      }
     ],
     "prompt_number": 19
    },
    {
     "cell_type": "code",
     "collapsed": false,
     "input": [
      "ph = REF2 + BSAN + Infrared02 + Infrared03 + Infrared04 \n",
      "\n",
      "Elev = 0\n",
      "LSTN = 0\n",
      "Infrared01 = 0\n",
      "Infrared05 = 0"
     ],
     "language": "python",
     "metadata": {},
     "outputs": [
      {
       "ename": "NameError",
       "evalue": "name 'REF2' is not defined",
       "output_type": "pyerr",
       "traceback": [
        "\u001b[1;31m---------------------------------------------------------------------------\u001b[0m\n\u001b[1;31mNameError\u001b[0m                                 Traceback (most recent call last)",
        "\u001b[1;32m<ipython-input-20-0d1b6b9eb496>\u001b[0m in \u001b[0;36m<module>\u001b[1;34m()\u001b[0m\n\u001b[1;32m----> 1\u001b[1;33m \u001b[0mph\u001b[0m \u001b[1;33m=\u001b[0m \u001b[0mREF2\u001b[0m \u001b[1;33m+\u001b[0m \u001b[0mBSAN\u001b[0m \u001b[1;33m+\u001b[0m \u001b[0mInfrared02\u001b[0m \u001b[1;33m+\u001b[0m \u001b[0mInfrared03\u001b[0m \u001b[1;33m+\u001b[0m \u001b[0mInfrared04\u001b[0m\u001b[1;33m\u001b[0m\u001b[0m\n\u001b[0m\u001b[0;32m      2\u001b[0m \u001b[1;33m\u001b[0m\u001b[0m\n\u001b[0;32m      3\u001b[0m \u001b[0mElev\u001b[0m \u001b[1;33m=\u001b[0m \u001b[1;36m0\u001b[0m\u001b[1;33m\u001b[0m\u001b[0m\n\u001b[0;32m      4\u001b[0m \u001b[0mLSTN\u001b[0m \u001b[1;33m=\u001b[0m \u001b[1;36m0\u001b[0m\u001b[1;33m\u001b[0m\u001b[0m\n\u001b[0;32m      5\u001b[0m \u001b[0mInfrared01\u001b[0m \u001b[1;33m=\u001b[0m \u001b[1;36m0\u001b[0m\u001b[1;33m\u001b[0m\u001b[0m\n",
        "\u001b[1;31mNameError\u001b[0m: name 'REF2' is not defined"
       ]
      }
     ],
     "prompt_number": 20
    },
    {
     "cell_type": "code",
     "collapsed": false,
     "input": [
      "bestmodel=['REF2','BSAN','Infrared02','Infrared03','Infrared04']\n",
      "bad_predictors = ['ELEV','LSTN','Infrared01','Infrared05']"
     ],
     "language": "python",
     "metadata": {},
     "outputs": [],
     "prompt_number": 21
    },
    {
     "cell_type": "code",
     "collapsed": false,
     "input": [
      "plt.scatter(np.linspace(-2*std,2*std,num=100),stats.norm.pdf(np.linspace(-2*std,2*std,num=100)))\n",
      "plt.scatter(np.linspace(-2*std,2*std,num=100),stats.norm(0,3).pdf(np.linspace(-2*std,2*std,num=100)))"
     ],
     "language": "python",
     "metadata": {},
     "outputs": [
      {
       "ename": "TypeError",
       "evalue": "unsupported operand type(s) for *: 'int' and 'function'",
       "output_type": "pyerr",
       "traceback": [
        "\u001b[1;31m---------------------------------------------------------------------------\u001b[0m\n\u001b[1;31mTypeError\u001b[0m                                 Traceback (most recent call last)",
        "\u001b[1;32m<ipython-input-28-6699f9287682>\u001b[0m in \u001b[0;36m<module>\u001b[1;34m()\u001b[0m\n\u001b[1;32m----> 1\u001b[1;33m \u001b[0mplt\u001b[0m\u001b[1;33m.\u001b[0m\u001b[0mscatter\u001b[0m\u001b[1;33m(\u001b[0m\u001b[0mnp\u001b[0m\u001b[1;33m.\u001b[0m\u001b[0mlinspace\u001b[0m\u001b[1;33m(\u001b[0m\u001b[1;33m-\u001b[0m\u001b[1;36m2\u001b[0m\u001b[1;33m*\u001b[0m\u001b[0mstd\u001b[0m\u001b[1;33m,\u001b[0m\u001b[1;36m2\u001b[0m\u001b[1;33m*\u001b[0m\u001b[0mstd\u001b[0m\u001b[1;33m,\u001b[0m\u001b[0mnum\u001b[0m\u001b[1;33m=\u001b[0m\u001b[1;36m100\u001b[0m\u001b[1;33m)\u001b[0m\u001b[1;33m,\u001b[0m\u001b[0mstats\u001b[0m\u001b[1;33m.\u001b[0m\u001b[0mnorm\u001b[0m\u001b[1;33m.\u001b[0m\u001b[0mpdf\u001b[0m\u001b[1;33m(\u001b[0m\u001b[0mnp\u001b[0m\u001b[1;33m.\u001b[0m\u001b[0mlinspace\u001b[0m\u001b[1;33m(\u001b[0m\u001b[1;33m-\u001b[0m\u001b[1;36m2\u001b[0m\u001b[1;33m*\u001b[0m\u001b[0mstd\u001b[0m\u001b[1;33m,\u001b[0m\u001b[1;36m2\u001b[0m\u001b[1;33m*\u001b[0m\u001b[0mstd\u001b[0m\u001b[1;33m,\u001b[0m\u001b[0mnum\u001b[0m\u001b[1;33m=\u001b[0m\u001b[1;36m100\u001b[0m\u001b[1;33m)\u001b[0m\u001b[1;33m)\u001b[0m\u001b[1;33m)\u001b[0m\u001b[1;33m\u001b[0m\u001b[0m\n\u001b[0m\u001b[0;32m      2\u001b[0m \u001b[0mplt\u001b[0m\u001b[1;33m.\u001b[0m\u001b[0mscatter\u001b[0m\u001b[1;33m(\u001b[0m\u001b[0mnp\u001b[0m\u001b[1;33m.\u001b[0m\u001b[0mlinspace\u001b[0m\u001b[1;33m(\u001b[0m\u001b[1;33m-\u001b[0m\u001b[1;36m2\u001b[0m\u001b[1;33m*\u001b[0m\u001b[0mstd\u001b[0m\u001b[1;33m,\u001b[0m\u001b[1;36m2\u001b[0m\u001b[1;33m*\u001b[0m\u001b[0mstd\u001b[0m\u001b[1;33m,\u001b[0m\u001b[0mnum\u001b[0m\u001b[1;33m=\u001b[0m\u001b[1;36m100\u001b[0m\u001b[1;33m)\u001b[0m\u001b[1;33m,\u001b[0m\u001b[0mstats\u001b[0m\u001b[1;33m.\u001b[0m\u001b[0mnorm\u001b[0m\u001b[1;33m(\u001b[0m\u001b[1;36m0\u001b[0m\u001b[1;33m,\u001b[0m\u001b[1;36m3\u001b[0m\u001b[1;33m)\u001b[0m\u001b[1;33m.\u001b[0m\u001b[0mpdf\u001b[0m\u001b[1;33m(\u001b[0m\u001b[0mnp\u001b[0m\u001b[1;33m.\u001b[0m\u001b[0mlinspace\u001b[0m\u001b[1;33m(\u001b[0m\u001b[1;33m-\u001b[0m\u001b[1;36m2\u001b[0m\u001b[1;33m*\u001b[0m\u001b[0mstd\u001b[0m\u001b[1;33m,\u001b[0m\u001b[1;36m2\u001b[0m\u001b[1;33m*\u001b[0m\u001b[0mstd\u001b[0m\u001b[1;33m,\u001b[0m\u001b[0mnum\u001b[0m\u001b[1;33m=\u001b[0m\u001b[1;36m100\u001b[0m\u001b[1;33m)\u001b[0m\u001b[1;33m)\u001b[0m\u001b[1;33m)\u001b[0m\u001b[1;33m\u001b[0m\u001b[0m\n",
        "\u001b[1;31mTypeError\u001b[0m: unsupported operand type(s) for *: 'int' and 'function'"
       ]
      }
     ],
     "prompt_number": 28
    },
    {
     "cell_type": "code",
     "collapsed": false,
     "input": [
      "# were there any other values to plug in?\n",
      "ELEV_sigma = 1\n",
      "LSTN_sigma = 2\n",
      "Infrared01_sigma = 2\n",
      "Infrared05_sigma = 2"
     ],
     "language": "python",
     "metadata": {},
     "outputs": [],
     "prompt_number": 23
    },
    {
     "cell_type": "code",
     "collapsed": false,
     "input": [
      "from sklearn.linear_model import LinearRegression\n",
      "linreg = LinearRegression(fit_intercept=True)\n",
      "y_hat = linreg.fit(df[bestmodel],df['pH']).predict(df[bestmodel])\n",
      "errors = df['pH'] - y_hat"
     ],
     "language": "python",
     "metadata": {},
     "outputs": [],
     "prompt_number": 24
    },
    {
     "cell_type": "code",
     "collapsed": false,
     "input": [
      "results=[]\n",
      "for i in range(1000):\n",
      "    b_elev = stats.norm(0,ELEV_sigma**2).rvs(size=1)[0]\n",
      "    b_lstn = stats.norm(0,LSTN_sigma**2).rvs(size=1)[0]\n",
      "    b_infrared01 = stats.norm(0,Infrared01_sigma**2).rvs(size=1)[0]\n",
      "    b_infrared05 = stats.norm(0,Infrared05_sigma**2).rvs(size=1)[0]\n",
      "    beta = np.array([b_elev, b_lstn, b_infrared01, b_infrared05])\n",
      "    new_errors = errors - np.dot(df[bad_predictors],beta)\n",
      "    results.append(np.std(new_errors))\n",
      "results=np.array(results)"
     ],
     "language": "python",
     "metadata": {},
     "outputs": [],
     "prompt_number": 25
    },
    {
     "cell_type": "code",
     "collapsed": false,
     "input": [
      "results1=results"
     ],
     "language": "python",
     "metadata": {},
     "outputs": [],
     "prompt_number": 26
    },
    {
     "cell_type": "code",
     "collapsed": false,
     "input": [
      "fig, ax = plt.subplots(figsize=(12, 8))\n",
      "plt.hist(results, bins=50, alpha=1)\n",
      "plt.hist(results1, bins=50, alpha=0.5)\n",
      "plt.show()"
     ],
     "language": "python",
     "metadata": {},
     "outputs": [
      {
       "metadata": {},
       "output_type": "display_data",
       "png": "[encoded data removed]",
       "text": [
        "<matplotlib.figure.Figure at 0x7fc353a1cc10>"
       ]
      }
     ],
     "prompt_number": 27
    },
    {
     "cell_type": "code",
     "collapsed": false,
     "input": [],
     "language": "python",
     "metadata": {},
     "outputs": [],
     "prompt_number": 28
    },
    {
     "cell_type": "code",
     "collapsed": false,
     "input": [
      "from sklearn.linear_model import BayesianRidge "
     ],
     "language": "python",
     "metadata": {},
     "outputs": [],
     "prompt_number": 29
    },
    {
     "cell_type": "code",
     "collapsed": false,
     "input": [
      "bayes_model = BayesianRidge(compute_score=True)"
     ],
     "language": "python",
     "metadata": {},
     "outputs": [],
     "prompt_number": 30
    },
    {
     "cell_type": "code",
     "collapsed": false,
     "input": [
      "bayes_model.fit(df[predictors],df['pH'])"
     ],
     "language": "python",
     "metadata": {},
     "outputs": [
      {
       "metadata": {},
       "output_type": "pyout",
       "prompt_number": 31,
       "text": [
        "BayesianRidge(alpha_1=1e-06, alpha_2=1e-06, compute_score=True, copy_X=True,\n",
        "       fit_intercept=True, lambda_1=1e-06, lambda_2=1e-06, n_iter=300,\n",
        "       normalize=False, tol=0.001, verbose=False)"
       ]
      }
     ],
     "prompt_number": 31
    },
    {
     "cell_type": "code",
     "collapsed": false,
     "input": [
      "colors = ['#F0F8FF', 'g', 'r', '#8A2BE2', '#FF7F50', 'b', '#F0FFFF']\n",
      "\n",
      "fig, ax = plt.subplots(figsize=(12, 8))\n",
      "\n",
      "plt.plot(bayes_model.coef_, 'o', c=colors[2])\n",
      "\n",
      "ax.set_xticklabels(predictors, fontsize=16, alpha=0.7, rotation=45)\n",
      "\n",
      "ax.set_title(\"Coefficient Weights\", {'fontsize':15})\n",
      "\n",
      "plt.plot([0, linreg.coef_[0], linreg.coef_[1], 0, 0, linreg.coef_[2], linreg.coef_[3], linreg.coef_[4], 0], 'o', c=colors[5])\n",
      "\n",
      "plt.show()"
     ],
     "language": "python",
     "metadata": {},
     "outputs": [
      {
       "metadata": {},
       "output_type": "display_data",
       "png": "[encoded data removed]",
       "text": [
        "<matplotlib.figure.Figure at 0x7fc3537e3b10>"
       ]
      }
     ],
     "prompt_number": 32
    },
    {
     "cell_type": "code",
     "collapsed": false,
     "input": [],
     "language": "python",
     "metadata": {},
     "outputs": []
    }
   ],
   "metadata": {}
  }
 ]
}