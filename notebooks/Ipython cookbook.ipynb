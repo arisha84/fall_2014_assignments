{
 "metadata": {
  "name": "",
  "signature": "sha256:c83dd4e052cf0f62dba45f9322351c52c782fa68a71c186023f8c1804037db03"
 },
 "nbformat": 3,
 "nbformat_minor": 0,
 "worksheets": [
  {
   "cells": [
    {
     "cell_type": "code",
     "collapsed": false,
     "input": [
      "import numpy as np"
     ],
     "language": "python",
     "metadata": {},
     "outputs": [],
     "prompt_number": 1
    },
    {
     "cell_type": "code",
     "collapsed": false,
     "input": [
      "import pandas as pd"
     ],
     "language": "python",
     "metadata": {},
     "outputs": [],
     "prompt_number": 2
    },
    {
     "cell_type": "code",
     "collapsed": false,
     "input": [
      "import matplotlib.pyplot as plt\n",
      "%matplotlib inline\n"
     ],
     "language": "python",
     "metadata": {},
     "outputs": [],
     "prompt_number": 4
    },
    {
     "cell_type": "code",
     "collapsed": false,
     "input": [
      "url = \"http://donnees.ville.montreal.qc.ca/storage/f/2014-01-20T20%3A48%3A50.296Z/2013.csv\""
     ],
     "language": "python",
     "metadata": {},
     "outputs": [],
     "prompt_number": 5
    },
    {
     "cell_type": "code",
     "collapsed": false,
     "input": [
      "df = pd.read_csv(url, index_col='Date', parse_dates=True, dayfirst=True)"
     ],
     "language": "python",
     "metadata": {},
     "outputs": [],
     "prompt_number": 6
    },
    {
     "cell_type": "code",
     "collapsed": false,
     "input": [
      "df.describe()\n"
     ],
     "language": "python",
     "metadata": {},
     "outputs": [
      {
       "html": [
        "<div style=\"max-height:1000px;max-width:1500px;overflow:auto;\">\n",
        "<table border=\"1\" class=\"dataframe\">\n",
        "  <thead>\n",
        "    <tr style=\"text-align: right;\">\n",
        "      <th></th>\n",
        "      <th>Berri1</th>\n",
        "      <th>CSC</th>\n",
        "      <th>Mais1</th>\n",
        "      <th>Mais2</th>\n",
        "      <th>Parc</th>\n",
        "      <th>PierDup</th>\n",
        "      <th>Rachel1</th>\n",
        "      <th>Totem_Laurier</th>\n",
        "    </tr>\n",
        "  </thead>\n",
        "  <tbody>\n",
        "    <tr>\n",
        "      <th>count</th>\n",
        "      <td>  261.000000</td>\n",
        "      <td>  261.000000</td>\n",
        "      <td>  261.000000</td>\n",
        "      <td>  261.000000</td>\n",
        "      <td>  261.000000</td>\n",
        "      <td>  261.000000</td>\n",
        "      <td>  261.000000</td>\n",
        "      <td>  261.000000</td>\n",
        "    </tr>\n",
        "    <tr>\n",
        "      <th>mean</th>\n",
        "      <td> 2743.390805</td>\n",
        "      <td> 1221.858238</td>\n",
        "      <td> 1757.590038</td>\n",
        "      <td> 3224.130268</td>\n",
        "      <td> 1669.425287</td>\n",
        "      <td> 1152.885057</td>\n",
        "      <td> 3084.425287</td>\n",
        "      <td> 1858.793103</td>\n",
        "    </tr>\n",
        "    <tr>\n",
        "      <th>std</th>\n",
        "      <td> 2247.957848</td>\n",
        "      <td> 1070.037364</td>\n",
        "      <td> 1458.793882</td>\n",
        "      <td> 2589.514354</td>\n",
        "      <td> 1363.738862</td>\n",
        "      <td> 1208.848429</td>\n",
        "      <td> 2380.255540</td>\n",
        "      <td> 1434.899574</td>\n",
        "    </tr>\n",
        "    <tr>\n",
        "      <th>min</th>\n",
        "      <td>    0.000000</td>\n",
        "      <td>    0.000000</td>\n",
        "      <td>    1.000000</td>\n",
        "      <td>    0.000000</td>\n",
        "      <td>    6.000000</td>\n",
        "      <td>    0.000000</td>\n",
        "      <td>    0.000000</td>\n",
        "      <td>    0.000000</td>\n",
        "    </tr>\n",
        "    <tr>\n",
        "      <th>25%</th>\n",
        "      <td>  392.000000</td>\n",
        "      <td>   12.000000</td>\n",
        "      <td>  236.000000</td>\n",
        "      <td>  516.000000</td>\n",
        "      <td>  222.000000</td>\n",
        "      <td>   12.000000</td>\n",
        "      <td>  451.000000</td>\n",
        "      <td>  340.000000</td>\n",
        "    </tr>\n",
        "    <tr>\n",
        "      <th>50%</th>\n",
        "      <td> 2771.000000</td>\n",
        "      <td> 1184.000000</td>\n",
        "      <td> 1706.000000</td>\n",
        "      <td> 3178.000000</td>\n",
        "      <td> 1584.000000</td>\n",
        "      <td>  818.000000</td>\n",
        "      <td> 3111.000000</td>\n",
        "      <td> 2087.000000</td>\n",
        "    </tr>\n",
        "    <tr>\n",
        "      <th>75%</th>\n",
        "      <td> 4767.000000</td>\n",
        "      <td> 2168.000000</td>\n",
        "      <td> 3158.000000</td>\n",
        "      <td> 5812.000000</td>\n",
        "      <td> 3068.000000</td>\n",
        "      <td> 2104.000000</td>\n",
        "      <td> 5338.000000</td>\n",
        "      <td> 3168.000000</td>\n",
        "    </tr>\n",
        "    <tr>\n",
        "      <th>max</th>\n",
        "      <td> 6803.000000</td>\n",
        "      <td> 3330.000000</td>\n",
        "      <td> 4716.000000</td>\n",
        "      <td> 7684.000000</td>\n",
        "      <td> 4103.000000</td>\n",
        "      <td> 4841.000000</td>\n",
        "      <td> 8555.000000</td>\n",
        "      <td> 4293.000000</td>\n",
        "    </tr>\n",
        "  </tbody>\n",
        "</table>\n",
        "</div>"
       ],
       "metadata": {},
       "output_type": "pyout",
       "prompt_number": 8,
       "text": [
        "            Berri1          CSC        Mais1        Mais2         Parc  \\\n",
        "count   261.000000   261.000000   261.000000   261.000000   261.000000   \n",
        "mean   2743.390805  1221.858238  1757.590038  3224.130268  1669.425287   \n",
        "std    2247.957848  1070.037364  1458.793882  2589.514354  1363.738862   \n",
        "min       0.000000     0.000000     1.000000     0.000000     6.000000   \n",
        "25%     392.000000    12.000000   236.000000   516.000000   222.000000   \n",
        "50%    2771.000000  1184.000000  1706.000000  3178.000000  1584.000000   \n",
        "75%    4767.000000  2168.000000  3158.000000  5812.000000  3068.000000   \n",
        "max    6803.000000  3330.000000  4716.000000  7684.000000  4103.000000   \n",
        "\n",
        "           PierDup      Rachel1  Totem_Laurier  \n",
        "count   261.000000   261.000000     261.000000  \n",
        "mean   1152.885057  3084.425287    1858.793103  \n",
        "std    1208.848429  2380.255540    1434.899574  \n",
        "min       0.000000     0.000000       0.000000  \n",
        "25%      12.000000   451.000000     340.000000  \n",
        "50%     818.000000  3111.000000    2087.000000  \n",
        "75%    2104.000000  5338.000000    3168.000000  \n",
        "max    4841.000000  8555.000000    4293.000000  "
       ]
      }
     ],
     "prompt_number": 8
    },
    {
     "cell_type": "code",
     "collapsed": false,
     "input": [
      "df[['Berri1', 'PierDup']].plot()"
     ],
     "language": "python",
     "metadata": {},
     "outputs": [
      {
       "metadata": {},
       "output_type": "pyout",
       "prompt_number": 9,
       "text": [
        "<matplotlib.axes.AxesSubplot at 0x7f4e0acd1650>"
       ]
      },
      {
       "metadata": {},
       "output_type": "display_data",
       "png": "[encoded data removed]",
       "text": [
        "<matplotlib.figure.Figure at 0x7f4e0acd1990>"
       ]
      }
     ],
     "prompt_number": 9
    },
    {
     "cell_type": "code",
     "collapsed": false,
     "input": [
      "df.index.weekday"
     ],
     "language": "python",
     "metadata": {},
     "outputs": [
      {
       "metadata": {},
       "output_type": "pyout",
       "prompt_number": 11,
       "text": [
        "array([1, 2, 3, 4, 5, 6, 0, 1, 2, 3, 4, 5, 6, 0, 1, 2, 3, 4, 5, 6, 0, 1, 2,\n",
        "       3, 4, 5, 6, 0, 1, 2, 3, 4, 5, 6, 0, 1, 2, 3, 4, 5, 6, 0, 1, 2, 3, 4,\n",
        "       5, 6, 0, 1, 2, 3, 4, 5, 6, 0, 1, 2, 3, 4, 5, 6, 0, 1, 2, 3, 4, 5, 6,\n",
        "       0, 1, 2, 3, 4, 5, 6, 0, 1, 2, 3, 4, 5, 6, 0, 1, 2, 3, 4, 5, 6, 0, 1,\n",
        "       2, 3, 4, 5, 6, 0, 1, 2, 3, 4, 5, 6, 0, 1, 2, 3, 4, 5, 6, 0, 1, 2, 3,\n",
        "       4, 5, 6, 0, 1, 2, 3, 4, 5, 6, 0, 1, 2, 3, 4, 5, 6, 0, 1, 2, 3, 4, 5,\n",
        "       6, 0, 1, 2, 3, 4, 5, 6, 0, 1, 2, 3, 4, 5, 6, 0, 1, 2, 3, 4, 5, 6, 0,\n",
        "       1, 2, 3, 4, 5, 6, 0, 1, 2, 3, 4, 5, 6, 0, 1, 2, 3, 4, 5, 6, 0, 1, 2,\n",
        "       3, 4, 5, 6, 0, 1, 2, 3, 4, 5, 6, 0, 1, 2, 3, 4, 5, 6, 0, 1, 2, 3, 4,\n",
        "       5, 6, 0, 1, 2, 3, 4, 5, 6, 0, 1, 2, 3, 4, 5, 6, 0, 1, 2, 3, 4, 5, 6,\n",
        "       0, 1, 2, 3, 4, 5, 6, 0, 1, 2, 3, 4, 5, 6, 0, 1, 2, 3, 4, 5, 6, 0, 1,\n",
        "       2, 3, 4, 5, 6, 0, 1, 2])"
       ]
      }
     ],
     "prompt_number": 11
    },
    {
     "cell_type": "code",
     "collapsed": false,
     "input": [
      "days = np.array(['Monday', 'Tuesday', 'Wednesday', 'Thursday', 'Friday', 'Saturday', 'Sunday'])\n",
      "                 "
     ],
     "language": "python",
     "metadata": {},
     "outputs": [],
     "prompt_number": 13
    },
    {
     "cell_type": "code",
     "collapsed": false,
     "input": [
      "df['Weekday'] = days[df.index.weekday]"
     ],
     "language": "python",
     "metadata": {},
     "outputs": [],
     "prompt_number": 14
    },
    {
     "cell_type": "code",
     "collapsed": false,
     "input": [
      "df_week = df.groupby('Weekday').sum()"
     ],
     "language": "python",
     "metadata": {},
     "outputs": [],
     "prompt_number": 16
    },
    {
     "cell_type": "code",
     "collapsed": false,
     "input": [
      "df_week"
     ],
     "language": "python",
     "metadata": {},
     "outputs": [
      {
       "html": [
        "<div style=\"max-height:1000px;max-width:1500px;overflow:auto;\">\n",
        "<table border=\"1\" class=\"dataframe\">\n",
        "  <thead>\n",
        "    <tr style=\"text-align: right;\">\n",
        "      <th></th>\n",
        "      <th>Berri1</th>\n",
        "      <th>CSC</th>\n",
        "      <th>Mais1</th>\n",
        "      <th>Mais2</th>\n",
        "      <th>Parc</th>\n",
        "      <th>PierDup</th>\n",
        "      <th>Rachel1</th>\n",
        "      <th>Totem_Laurier</th>\n",
        "    </tr>\n",
        "    <tr>\n",
        "      <th>Weekday</th>\n",
        "      <th></th>\n",
        "      <th></th>\n",
        "      <th></th>\n",
        "      <th></th>\n",
        "      <th></th>\n",
        "      <th></th>\n",
        "      <th></th>\n",
        "      <th></th>\n",
        "    </tr>\n",
        "  </thead>\n",
        "  <tbody>\n",
        "    <tr>\n",
        "      <th>Friday</th>\n",
        "      <td> 105701</td>\n",
        "      <td> 44252</td>\n",
        "      <td> 71605</td>\n",
        "      <td> 127526</td>\n",
        "      <td> 64385</td>\n",
        "      <td> 36850</td>\n",
        "      <td> 118556</td>\n",
        "      <td> 71426</td>\n",
        "    </tr>\n",
        "    <tr>\n",
        "      <th>Monday</th>\n",
        "      <td> 106826</td>\n",
        "      <td> 51646</td>\n",
        "      <td> 68087</td>\n",
        "      <td> 129982</td>\n",
        "      <td> 69767</td>\n",
        "      <td> 44500</td>\n",
        "      <td> 119211</td>\n",
        "      <td> 72883</td>\n",
        "    </tr>\n",
        "    <tr>\n",
        "      <th>Saturday</th>\n",
        "      <td>  75754</td>\n",
        "      <td> 27226</td>\n",
        "      <td> 45947</td>\n",
        "      <td>  79743</td>\n",
        "      <td> 35544</td>\n",
        "      <td> 46149</td>\n",
        "      <td>  97143</td>\n",
        "      <td> 56438</td>\n",
        "    </tr>\n",
        "    <tr>\n",
        "      <th>Sunday</th>\n",
        "      <td>  74873</td>\n",
        "      <td> 29181</td>\n",
        "      <td> 40812</td>\n",
        "      <td>  75746</td>\n",
        "      <td> 37620</td>\n",
        "      <td> 53812</td>\n",
        "      <td> 100735</td>\n",
        "      <td> 53798</td>\n",
        "    </tr>\n",
        "    <tr>\n",
        "      <th>Thursday</th>\n",
        "      <td> 115193</td>\n",
        "      <td> 52340</td>\n",
        "      <td> 76273</td>\n",
        "      <td> 141424</td>\n",
        "      <td> 73668</td>\n",
        "      <td> 36349</td>\n",
        "      <td> 120684</td>\n",
        "      <td> 74540</td>\n",
        "    </tr>\n",
        "    <tr>\n",
        "      <th>Tuesday</th>\n",
        "      <td> 117244</td>\n",
        "      <td> 54656</td>\n",
        "      <td> 76974</td>\n",
        "      <td> 141217</td>\n",
        "      <td> 74299</td>\n",
        "      <td> 40679</td>\n",
        "      <td> 123533</td>\n",
        "      <td> 76559</td>\n",
        "    </tr>\n",
        "    <tr>\n",
        "      <th>Wednesday</th>\n",
        "      <td> 120434</td>\n",
        "      <td> 59604</td>\n",
        "      <td> 79033</td>\n",
        "      <td> 145860</td>\n",
        "      <td> 80437</td>\n",
        "      <td> 42564</td>\n",
        "      <td> 125173</td>\n",
        "      <td> 79501</td>\n",
        "    </tr>\n",
        "  </tbody>\n",
        "</table>\n",
        "</div>"
       ],
       "metadata": {},
       "output_type": "pyout",
       "prompt_number": 17,
       "text": [
        "           Berri1    CSC  Mais1   Mais2   Parc  PierDup  Rachel1  \\\n",
        "Weekday                                                            \n",
        "Friday     105701  44252  71605  127526  64385    36850   118556   \n",
        "Monday     106826  51646  68087  129982  69767    44500   119211   \n",
        "Saturday    75754  27226  45947   79743  35544    46149    97143   \n",
        "Sunday      74873  29181  40812   75746  37620    53812   100735   \n",
        "Thursday   115193  52340  76273  141424  73668    36349   120684   \n",
        "Tuesday    117244  54656  76974  141217  74299    40679   123533   \n",
        "Wednesday  120434  59604  79033  145860  80437    42564   125173   \n",
        "\n",
        "           Totem_Laurier  \n",
        "Weekday                   \n",
        "Friday             71426  \n",
        "Monday             72883  \n",
        "Saturday           56438  \n",
        "Sunday             53798  \n",
        "Thursday           74540  \n",
        "Tuesday            76559  \n",
        "Wednesday          79501  "
       ]
      }
     ],
     "prompt_number": 17
    },
    {
     "cell_type": "code",
     "collapsed": false,
     "input": [
      "df_week.ix[days].plot()\n"
     ],
     "language": "python",
     "metadata": {},
     "outputs": [
      {
       "metadata": {},
       "output_type": "pyout",
       "prompt_number": 20,
       "text": [
        "<matplotlib.axes.AxesSubplot at 0x7f4e0a3397d0>"
       ]
      },
      {
       "metadata": {},
       "output_type": "display_data",
       "png": "[encoded data removed]",
       "text": [
        "<matplotlib.figure.Figure at 0x7f4e0a108650>"
       ]
      }
     ],
     "prompt_number": 20
    },
    {
     "cell_type": "code",
     "collapsed": false,
     "input": [
      "tmp = df_week.ix[days]\n",
      "tmp"
     ],
     "language": "python",
     "metadata": {},
     "outputs": [
      {
       "html": [
        "<div style=\"max-height:1000px;max-width:1500px;overflow:auto;\">\n",
        "<table border=\"1\" class=\"dataframe\">\n",
        "  <thead>\n",
        "    <tr style=\"text-align: right;\">\n",
        "      <th></th>\n",
        "      <th>Berri1</th>\n",
        "      <th>CSC</th>\n",
        "      <th>Mais1</th>\n",
        "      <th>Mais2</th>\n",
        "      <th>Parc</th>\n",
        "      <th>PierDup</th>\n",
        "      <th>Rachel1</th>\n",
        "      <th>Totem_Laurier</th>\n",
        "    </tr>\n",
        "  </thead>\n",
        "  <tbody>\n",
        "    <tr>\n",
        "      <th>Monday</th>\n",
        "      <td> 106826</td>\n",
        "      <td> 51646</td>\n",
        "      <td> 68087</td>\n",
        "      <td> 129982</td>\n",
        "      <td> 69767</td>\n",
        "      <td> 44500</td>\n",
        "      <td> 119211</td>\n",
        "      <td> 72883</td>\n",
        "    </tr>\n",
        "    <tr>\n",
        "      <th>Tuesday</th>\n",
        "      <td> 117244</td>\n",
        "      <td> 54656</td>\n",
        "      <td> 76974</td>\n",
        "      <td> 141217</td>\n",
        "      <td> 74299</td>\n",
        "      <td> 40679</td>\n",
        "      <td> 123533</td>\n",
        "      <td> 76559</td>\n",
        "    </tr>\n",
        "    <tr>\n",
        "      <th>Wednesday</th>\n",
        "      <td> 120434</td>\n",
        "      <td> 59604</td>\n",
        "      <td> 79033</td>\n",
        "      <td> 145860</td>\n",
        "      <td> 80437</td>\n",
        "      <td> 42564</td>\n",
        "      <td> 125173</td>\n",
        "      <td> 79501</td>\n",
        "    </tr>\n",
        "    <tr>\n",
        "      <th>Thursday</th>\n",
        "      <td> 115193</td>\n",
        "      <td> 52340</td>\n",
        "      <td> 76273</td>\n",
        "      <td> 141424</td>\n",
        "      <td> 73668</td>\n",
        "      <td> 36349</td>\n",
        "      <td> 120684</td>\n",
        "      <td> 74540</td>\n",
        "    </tr>\n",
        "    <tr>\n",
        "      <th>Friday</th>\n",
        "      <td> 105701</td>\n",
        "      <td> 44252</td>\n",
        "      <td> 71605</td>\n",
        "      <td> 127526</td>\n",
        "      <td> 64385</td>\n",
        "      <td> 36850</td>\n",
        "      <td> 118556</td>\n",
        "      <td> 71426</td>\n",
        "    </tr>\n",
        "    <tr>\n",
        "      <th>Saturday</th>\n",
        "      <td>  75754</td>\n",
        "      <td> 27226</td>\n",
        "      <td> 45947</td>\n",
        "      <td>  79743</td>\n",
        "      <td> 35544</td>\n",
        "      <td> 46149</td>\n",
        "      <td>  97143</td>\n",
        "      <td> 56438</td>\n",
        "    </tr>\n",
        "    <tr>\n",
        "      <th>Sunday</th>\n",
        "      <td>  74873</td>\n",
        "      <td> 29181</td>\n",
        "      <td> 40812</td>\n",
        "      <td>  75746</td>\n",
        "      <td> 37620</td>\n",
        "      <td> 53812</td>\n",
        "      <td> 100735</td>\n",
        "      <td> 53798</td>\n",
        "    </tr>\n",
        "  </tbody>\n",
        "</table>\n",
        "</div>"
       ],
       "metadata": {},
       "output_type": "pyout",
       "prompt_number": 24,
       "text": [
        "           Berri1    CSC  Mais1   Mais2   Parc  PierDup  Rachel1  \\\n",
        "Monday     106826  51646  68087  129982  69767    44500   119211   \n",
        "Tuesday    117244  54656  76974  141217  74299    40679   123533   \n",
        "Wednesday  120434  59604  79033  145860  80437    42564   125173   \n",
        "Thursday   115193  52340  76273  141424  73668    36349   120684   \n",
        "Friday     105701  44252  71605  127526  64385    36850   118556   \n",
        "Saturday    75754  27226  45947   79743  35544    46149    97143   \n",
        "Sunday      74873  29181  40812   75746  37620    53812   100735   \n",
        "\n",
        "           Totem_Laurier  \n",
        "Monday             72883  \n",
        "Tuesday            76559  \n",
        "Wednesday          79501  \n",
        "Thursday           74540  \n",
        "Friday             71426  \n",
        "Saturday           56438  \n",
        "Sunday             53798  "
       ]
      }
     ],
     "prompt_number": 24
    },
    {
     "cell_type": "code",
     "collapsed": false,
     "input": [
      "from IPython.html.widgets import interact\n",
      "@interact\n",
      "def plot(n=(1, 30)):\n",
      "    plt.figure(figsize=(8,4));\n",
      "    pd.rolling_mean(df['Berri1'], n).dropna().plot();\n",
      "    plt.ylim(0, 8000);\n",
      "    plt.show();"
     ],
     "language": "python",
     "metadata": {},
     "outputs": [
      {
       "metadata": {},
       "output_type": "display_data",
       "png": "[encoded data removed]",
       "text": [
        "<matplotlib.figure.Figure at 0x7f4e09e36210>"
       ]
      }
     ],
     "prompt_number": 25
    },
    {
     "cell_type": "heading",
     "level": 1,
     "metadata": {},
     "source": [
      "Ch 7 - Statistical Data analysis"
     ]
    },
    {
     "cell_type": "code",
     "collapsed": false,
     "input": [
      "from datetime import datetime\n",
      "import numpy as np\n",
      "import pandas as pd\n",
      "import matplotlib.pyplot as plt\n",
      "%matplotlib inline"
     ],
     "language": "python",
     "metadata": {},
     "outputs": [],
     "prompt_number": 5
    },
    {
     "cell_type": "code",
     "collapsed": false,
     "input": [
      "pwd\n"
     ],
     "language": "python",
     "metadata": {},
     "outputs": [
      {
       "metadata": {},
       "output_type": "pyout",
       "prompt_number": 6,
       "text": [
        "u'/home/vagrant/notebooks/fall_2014_assignments/notebooks'"
       ]
      }
     ],
     "prompt_number": 6
    },
    {
     "cell_type": "code",
     "collapsed": false,
     "input": [
      "filename"
     ],
     "language": "python",
     "metadata": {},
     "outputs": [
      {
       "metadata": {},
       "output_type": "pyout",
       "prompt_number": 12,
       "text": [
        "'data/Roger-Federer.csv'"
       ]
      }
     ],
     "prompt_number": 12
    },
    {
     "cell_type": "code",
     "collapsed": false,
     "input": [
      "player = 'Roger Federer'\n",
      "filename = \"/home/vagrant/notebooks/data/{name}.csv\".format(\n",
      "              name=player.replace(' ', '-'))\n",
      "df = pd.read_csv(filename)"
     ],
     "language": "python",
     "metadata": {},
     "outputs": [],
     "prompt_number": 13
    },
    {
     "cell_type": "code",
     "collapsed": false,
     "input": [
      "df.columns\n"
     ],
     "language": "python",
     "metadata": {},
     "outputs": [
      {
       "metadata": {},
       "output_type": "pyout",
       "prompt_number": 24,
       "text": [
        "Index([u'year', u'tournament', u'start date', u'type', u'surface', u'draw', u'atp points', u'atp ranking', u'tournament prize money', u'round', u'opponent', u'ranking', u'score', u'stats link', u'tournament.1', u'tournament round', u'time', u'winner', u'player1 name', u'player1 nationality', u'player1 aces', u'player1 double faults', u'player1 1st serves in', u'player1 1st serves total', u'player1 1st serve points won', u'player1 1st serve points total', u'player1 2nd serve points won', u'player1 2nd serve points total', u'player1 break points won', u'player1 break points total', u'player1 service games played', u'player1 1st serve return points won', u'player1 1st serve return points total', u'player1 2nd serve return points won', u'player1 2nd serve return points total', u'player1 break points converted won', u'player1 break points converted total', u'player1 return games played', u'player1 total service points won', u'player1 total service points total', u'player1 total return points won', u'player1 total return points total', u'player1 total points won', u'player1 total points total', u'player2 name', u'player2 nationality', u'player2 aces', u'player2 double faults', u'player2 1st serves in', u'player2 1st serves total', u'player2 1st serve points won', u'player2 1st serve points total', u'player2 2nd serve points won', u'player2 2nd serve points total', u'player2 break points won', u'player2 break points total', u'player2 service games played', u'player2 1st serve return points won', u'player2 1st serve return points total', u'player2 2nd serve return points won', u'player2 2nd serve return points total', u'player2 break points converted won', u'player2 break points converted total', u'player2 return games played', u'player2 total service points won', u'player2 total service points total', u'player2 total return points won', u'player2 total return points total', u'player2 total points won', u'player2 total points total'], dtype='object')"
       ]
      }
     ],
     "prompt_number": 24
    },
    {
     "cell_type": "code",
     "collapsed": false,
     "input": [],
     "language": "python",
     "metadata": {},
     "outputs": []
    }
   ],
   "metadata": {}
  }
 ]
}